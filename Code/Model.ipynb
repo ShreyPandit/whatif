{
  "nbformat": 4,
  "nbformat_minor": 0,
  "metadata": {
    "colab": {
      "name": "whatif_model.ipynb",
      "provenance": [],
      "collapsed_sections": [
        "RXWJTHD-5Nw_",
        "tuBQ6bGWwTpd",
        "uHNeOOkU2dko",
        "ilpQ2nsb2jre",
        "1xhU4gdQX6YF",
        "9ow7MxRN5Ugl",
        "CsYBZ8t7C8Oq",
        "Ae7MnxnliDMI",
        "Q4iH3gsudJl2",
        "f8JC_jvsdGf2",
        "I_JpBe1jcOnw",
        "x_8Xd4RAWP2Z",
        "JtUYH0VDCl-8",
        "JYRf609d5O8O",
        "b41hfAzJYIuf",
        "LDdvgwXO6-7h"
      ],
      "include_colab_link": true
    },
    "kernelspec": {
      "name": "python3",
      "display_name": "Python 3"
    }
  },
  "cells": [
    {
      "cell_type": "markdown",
      "metadata": {
        "id": "view-in-github",
        "colab_type": "text"
      },
      "source": [
        "<a href=\"https://colab.research.google.com/github/ashwinvaswani/whatif/blob/master/Code/Model.ipynb\" target=\"_parent\"><img src=\"https://colab.research.google.com/assets/colab-badge.svg\" alt=\"Open In Colab\"/></a>"
      ]
    },
    {
      "cell_type": "code",
      "metadata": {
        "id": "QctwEeqJ8XmR",
        "colab_type": "code",
        "outputId": "301b0488-aec9-406b-b73c-f34cbc774fbc",
        "colab": {
          "base_uri": "https://localhost:8080/",
          "height": 34
        }
      },
      "source": [
        "  !pip install numpy==1.16.1"
      ],
      "execution_count": 0,
      "outputs": [
        {
          "output_type": "stream",
          "text": [
            "Requirement already satisfied: numpy==1.16.1 in /usr/local/lib/python3.6/dist-packages (1.16.1)\n"
          ],
          "name": "stdout"
        }
      ]
    },
    {
      "cell_type": "code",
      "metadata": {
        "id": "RxEFd5r07aIw",
        "colab_type": "code",
        "outputId": "2ad3e932-81fa-4618-efc2-627927c8c14e",
        "colab": {
          "base_uri": "https://localhost:8080/",
          "height": 34
        }
      },
      "source": [
        "import numpy as np\n",
        "from sklearn.model_selection import train_test_split\n",
        "from sklearn.metrics import mean_squared_error\n",
        "import matplotlib.pyplot as plt\n",
        "\n",
        "\n",
        "import keras\n",
        "from keras.models import Model, Sequential\n",
        "from keras.layers import Dense, GlobalAveragePooling2D, Input, Embedding, Bidirectional, LSTM, Flatten, concatenate, Dropout, Conv1D, MaxPool1D, BatchNormalization, LeakyReLU, GRU, UpSampling1D, BatchNormalization\n",
        "from keras import optimizers\n",
        "from keras.callbacks import LearningRateScheduler, ModelCheckpoint\n",
        "from keras import  regularizers\n",
        "\n",
        "from keras.losses import mean_squared_error\n",
        "\n",
        "import tensorflow as tf\n"
      ],
      "execution_count": 0,
      "outputs": [
        {
          "output_type": "stream",
          "text": [
            "Using TensorFlow backend.\n"
          ],
          "name": "stderr"
        }
      ]
    },
    {
      "cell_type": "markdown",
      "metadata": {
        "id": "RXWJTHD-5Nw_",
        "colab_type": "text"
      },
      "source": [
        "# Loading dataset"
      ]
    },
    {
      "cell_type": "code",
      "metadata": {
        "id": "MbJaJXzD8CLL",
        "colab_type": "code",
        "colab": {}
      },
      "source": [
        "matches_X = np.load(\"matches_X_final.npy\")\n",
        "players_X = np.load(\"players_X_final.npy\")"
      ],
      "execution_count": 0,
      "outputs": []
    },
    {
      "cell_type": "code",
      "metadata": {
        "id": "etByhqmG8Qcm",
        "colab_type": "code",
        "outputId": "3a15d251-2047-41a0-fdba-c22f8dfc5a1e",
        "colab": {
          "base_uri": "https://localhost:8080/",
          "height": 51
        }
      },
      "source": [
        "print(matches_X.shape)\n",
        "print(players_X.shape)"
      ],
      "execution_count": 0,
      "outputs": [
        {
          "output_type": "stream",
          "text": [
            "(157, 2, 23)\n",
            "(157, 36, 10)\n"
          ],
          "name": "stdout"
        }
      ]
    },
    {
      "cell_type": "code",
      "metadata": {
        "id": "E-XAUmCCFX4Z",
        "colab_type": "code",
        "colab": {}
      },
      "source": [
        "matches_X_new = np.reshape(matches_X, (matches_X.shape[0], matches_X.shape[1]*matches_X.shape[2]))\n",
        "players_X_new = np.reshape(players_X, (players_X.shape[0], players_X.shape[1]*players_X.shape[2]))"
      ],
      "execution_count": 0,
      "outputs": []
    },
    {
      "cell_type": "code",
      "metadata": {
        "id": "feqQpXXVFsWn",
        "colab_type": "code",
        "outputId": "f77b3723-cc4c-4d5b-8403-e3df93bbd268",
        "colab": {
          "base_uri": "https://localhost:8080/",
          "height": 51
        }
      },
      "source": [
        "print(matches_X_new.shape)\n",
        "print(players_X_new.shape)\n"
      ],
      "execution_count": 0,
      "outputs": [
        {
          "output_type": "stream",
          "text": [
            "(157, 46)\n",
            "(157, 360)\n"
          ],
          "name": "stdout"
        }
      ]
    },
    {
      "cell_type": "code",
      "metadata": {
        "id": "ud1qRf4y_hpk",
        "colab_type": "code",
        "colab": {}
      },
      "source": [
        "matches_X_train, matches_X_val, players_X_train, players_X_val = train_test_split(matches_X_new, players_X_new, shuffle=True, test_size=0.1)"
      ],
      "execution_count": 0,
      "outputs": []
    },
    {
      "cell_type": "code",
      "metadata": {
        "id": "98OSmqPt_0u-",
        "colab_type": "code",
        "outputId": "977b276d-bc54-4986-a227-6a4b8a450a07",
        "colab": {
          "base_uri": "https://localhost:8080/",
          "height": 51
        }
      },
      "source": [
        "print(matches_X_train.shape)\n",
        "print(players_X_train.shape)"
      ],
      "execution_count": 0,
      "outputs": [
        {
          "output_type": "stream",
          "text": [
            "(141, 46)\n",
            "(141, 360)\n"
          ],
          "name": "stdout"
        }
      ]
    },
    {
      "cell_type": "markdown",
      "metadata": {
        "id": "tuBQ6bGWwTpd",
        "colab_type": "text"
      },
      "source": [
        "## Add noise to input"
      ]
    },
    {
      "cell_type": "code",
      "metadata": {
        "id": "cmYN7W7TnlzH",
        "colab_type": "code",
        "colab": {}
      },
      "source": [
        "matches_train_mean = np.mean(matches_X_train)\n",
        "matches_val_mean = np.mean(matches_X_val)\n",
        "players_train_mean = np.mean(players_X_train)\n",
        "players_val_mean = np.mean(players_X_val)\n",
        "\n",
        "matches_train_std = np.std(matches_X_train,ddof=1)\n",
        "matches_val_std = np.std(matches_X_val,ddof=1)\n",
        "players_train_std = np.std(players_X_train,ddof=1)\n",
        "players_val_std = np.std(players_X_val,ddof=1)\n",
        "\n",
        "\n",
        "\n",
        "matches_X_train_noise = matches_X_train + np.random.normal(matches_train_mean,matches_train_std,matches_X_train.shape)\n",
        "matches_X_val_noise = matches_X_val + np.random.normal(matches_val_mean,matches_val_std,matches_X_val.shape)\n",
        "players_X_train_noise = players_X_train + np.random.normal(players_train_mean,players_train_std,players_X_train.shape)\n",
        "players_X_val_noise = players_X_val + np.random.normal(players_val_mean,players_val_std,players_X_val.shape)"
      ],
      "execution_count": 0,
      "outputs": []
    },
    {
      "cell_type": "markdown",
      "metadata": {
        "id": "uHNeOOkU2dko",
        "colab_type": "text"
      },
      "source": [
        "# Original Model"
      ]
    },
    {
      "cell_type": "code",
      "metadata": {
        "id": "njCVAnfs9Hfr",
        "colab_type": "code",
        "colab": {}
      },
      "source": [
        "input_1 = Input(shape=(124, 1))\n",
        "input_2 = Input(shape=(360, 1))\n",
        "\n",
        "match = Conv1D(216, 3, activation='relu')(input_1)\n",
        "match = Dropout(0.5)(match)\n",
        "match = Flatten()(match)\n",
        "match = Dense(216, activation='relu', kernel_initializer='normal')(match)\n",
        "match = Dropout(0.5)(match)\n",
        "match = Dense(128, activation='relu')(match)\n",
        "match = Dropout(0.5)(match)\n",
        "\n",
        "player = Conv1D(216, 3, activation='relu')(input_2)\n",
        "player = Dropout(0.5)(player)\n",
        "player = Flatten()(player)\n",
        "player = Dense(216, activation='relu', kernel_initializer='normal')(player)\n",
        "player = Dropout(0.5)(player)\n",
        "player = Dense(128, activation='relu')(player)\n",
        "player = Dropout(0.5)(player)\n",
        "\n",
        "concat = concatenate([match, player])\n",
        "concat = Dense(128, activation='relu')(concat)\n",
        "concat = Dropout(0.5)(concat)\n",
        "\n",
        "out = Dense(297, activation='relu')(concat)\n",
        "\n",
        "model = Model(inputs=[input_1, input_2], outputs=[out])\n",
        "model.compile(optimizer='adam', loss='mse', metrics=[tf.keras.metrics.RootMeanSquaredError()])"
      ],
      "execution_count": 0,
      "outputs": []
    },
    {
      "cell_type": "code",
      "metadata": {
        "id": "ZH-kFZ4pEvIx",
        "colab_type": "code",
        "colab": {}
      },
      "source": [
        "model.summary()"
      ],
      "execution_count": 0,
      "outputs": []
    },
    {
      "cell_type": "code",
      "metadata": {
        "id": "0eK-aQZaEypX",
        "colab_type": "code",
        "colab": {}
      },
      "source": [
        "history = model.fit(x=[matches_X_new_1, players_X_new_1], y=Y, validation_split=0.1, batch_size=10, epochs=100)\n",
        "# history = model.fit(x=[matches_X_train, players_X_train],y=Y_train,  batch_size= 10,epochs=20)"
      ],
      "execution_count": 0,
      "outputs": []
    },
    {
      "cell_type": "markdown",
      "metadata": {
        "id": "ilpQ2nsb2jre",
        "colab_type": "text"
      },
      "source": [
        "# Autoencoder Model\n",
        "Not being used"
      ]
    },
    {
      "cell_type": "code",
      "metadata": {
        "id": "cg-y01w_UE8k",
        "colab_type": "code",
        "colab": {}
      },
      "source": [
        "input_m = Input(shape=(124,1))\n",
        "x = Conv1D(216, 3, activation='relu', padding='same')(input_m)\n",
        "x = Dropout(0.5)(x)\n",
        "x = MaxPool1D(2, padding='same')(x)\n",
        "x = Conv1D(128, 3, activation='relu', padding='same')(x)\n",
        "x = Dropout(0.5)(x)\n",
        "x = MaxPool1D(2, padding='same')(x)\n",
        "x = Conv1D(64, 3, activation='relu', padding='same')(x)\n",
        "encoded = MaxPool1D(2, padding='same')(x)\n",
        "\n",
        "\n",
        "\n",
        "x = Conv1D(64, 3, activation='relu', padding='same')(encoded)\n",
        "x = UpSampling1D(2)(x)\n",
        "x = Conv1D(128, 2, activation='relu')(x)\n",
        "x = Dropout(0.5)(x)\n",
        "x = UpSampling1D(2)(x)\n",
        "x = Conv1D(216, 3, activation='relu', padding='same')(x)\n",
        "x = Dropout(0.5)(x)\n",
        "x = UpSampling1D(2)(x)\n",
        "decoded = Conv1D(1, 3, activation='relu',padding='same')(x)\n",
        "\n",
        "autoencoder_matches = Model(input_m, decoded)\n",
        "autoencoder_matches.compile(optimizer='adam', loss='mse',metrics=[tf.keras.metrics.RootMeanSquaredError()])"
      ],
      "execution_count": 0,
      "outputs": []
    },
    {
      "cell_type": "code",
      "metadata": {
        "id": "JjgkKbf0wnKP",
        "colab_type": "code",
        "outputId": "f04f65f5-7f8d-4d58-a79b-1c6c952223a1",
        "colab": {
          "base_uri": "https://localhost:8080/",
          "height": 765
        }
      },
      "source": [
        "autoencoder_matches.summary()"
      ],
      "execution_count": 0,
      "outputs": [
        {
          "output_type": "stream",
          "text": [
            "Model: \"model_1\"\n",
            "_________________________________________________________________\n",
            "Layer (type)                 Output Shape              Param #   \n",
            "=================================================================\n",
            "input_1 (InputLayer)         (None, 124, 1)            0         \n",
            "_________________________________________________________________\n",
            "conv1d_1 (Conv1D)            (None, 124, 216)          864       \n",
            "_________________________________________________________________\n",
            "dropout_1 (Dropout)          (None, 124, 216)          0         \n",
            "_________________________________________________________________\n",
            "max_pooling1d_1 (MaxPooling1 (None, 62, 216)           0         \n",
            "_________________________________________________________________\n",
            "conv1d_2 (Conv1D)            (None, 62, 128)           83072     \n",
            "_________________________________________________________________\n",
            "dropout_2 (Dropout)          (None, 62, 128)           0         \n",
            "_________________________________________________________________\n",
            "max_pooling1d_2 (MaxPooling1 (None, 31, 128)           0         \n",
            "_________________________________________________________________\n",
            "conv1d_3 (Conv1D)            (None, 31, 64)            24640     \n",
            "_________________________________________________________________\n",
            "max_pooling1d_3 (MaxPooling1 (None, 16, 64)            0         \n",
            "_________________________________________________________________\n",
            "conv1d_4 (Conv1D)            (None, 16, 64)            12352     \n",
            "_________________________________________________________________\n",
            "up_sampling1d_1 (UpSampling1 (None, 32, 64)            0         \n",
            "_________________________________________________________________\n",
            "conv1d_5 (Conv1D)            (None, 31, 128)           16512     \n",
            "_________________________________________________________________\n",
            "dropout_3 (Dropout)          (None, 31, 128)           0         \n",
            "_________________________________________________________________\n",
            "up_sampling1d_2 (UpSampling1 (None, 62, 128)           0         \n",
            "_________________________________________________________________\n",
            "conv1d_6 (Conv1D)            (None, 62, 216)           83160     \n",
            "_________________________________________________________________\n",
            "dropout_4 (Dropout)          (None, 62, 216)           0         \n",
            "_________________________________________________________________\n",
            "up_sampling1d_3 (UpSampling1 (None, 124, 216)          0         \n",
            "_________________________________________________________________\n",
            "conv1d_7 (Conv1D)            (None, 124, 1)            649       \n",
            "=================================================================\n",
            "Total params: 221,249\n",
            "Trainable params: 221,249\n",
            "Non-trainable params: 0\n",
            "_________________________________________________________________\n"
          ],
          "name": "stdout"
        }
      ]
    },
    {
      "cell_type": "code",
      "metadata": {
        "id": "InjX9eiEuwJV",
        "colab_type": "code",
        "colab": {}
      },
      "source": [
        "input_m = Input(shape=(360,1))\n",
        "x = Conv1D(216, 3, activation='relu', padding='same')(input_m)\n",
        "x = Dropout(0.5)(x)\n",
        "x = MaxPool1D(2, padding='same')(x)\n",
        "x = Conv1D(128, 3, activation='relu', padding='same')(x)\n",
        "x = Dropout(0.5)(x)\n",
        "x = MaxPool1D(2, padding='same')(x)\n",
        "x = Conv1D(64, 3, activation='relu', padding='same')(x)\n",
        "encoded = MaxPool1D(2, padding='same')(x)\n",
        "\n",
        "\n",
        "\n",
        "x = Conv1D(64, 3, activation='relu', padding='same')(encoded)\n",
        "x = UpSampling1D(2)(x)\n",
        "x = Conv1D(128, 3, activation='relu', padding='same')(x)\n",
        "x = Dropout(0.5)(x)\n",
        "x = UpSampling1D(2)(x)\n",
        "x = Conv1D(216, 3, activation='relu', padding='same')(x)\n",
        "x = Dropout(0.5)(x)\n",
        "x = UpSampling1D(2)(x)\n",
        "decoded = Conv1D(1, 3, activation='relu', padding='same')(x)\n",
        "\n",
        "autoencoder_player = Model(input_m, decoded)\n",
        "autoencoder_player.compile(optimizer='adam', loss='mse',metrics=[tf.keras.metrics.RootMeanSquaredError()])"
      ],
      "execution_count": 0,
      "outputs": []
    },
    {
      "cell_type": "code",
      "metadata": {
        "id": "x883lhZG3v8L",
        "colab_type": "code",
        "outputId": "050ff330-63a6-43df-8430-66e5b56f5f07",
        "colab": {
          "base_uri": "https://localhost:8080/",
          "height": 765
        }
      },
      "source": [
        "autoencoder_player.summary()"
      ],
      "execution_count": 0,
      "outputs": [
        {
          "output_type": "stream",
          "text": [
            "Model: \"model_2\"\n",
            "_________________________________________________________________\n",
            "Layer (type)                 Output Shape              Param #   \n",
            "=================================================================\n",
            "input_2 (InputLayer)         (None, 360, 1)            0         \n",
            "_________________________________________________________________\n",
            "conv1d_8 (Conv1D)            (None, 360, 216)          864       \n",
            "_________________________________________________________________\n",
            "dropout_5 (Dropout)          (None, 360, 216)          0         \n",
            "_________________________________________________________________\n",
            "max_pooling1d_4 (MaxPooling1 (None, 180, 216)          0         \n",
            "_________________________________________________________________\n",
            "conv1d_9 (Conv1D)            (None, 180, 128)          83072     \n",
            "_________________________________________________________________\n",
            "dropout_6 (Dropout)          (None, 180, 128)          0         \n",
            "_________________________________________________________________\n",
            "max_pooling1d_5 (MaxPooling1 (None, 90, 128)           0         \n",
            "_________________________________________________________________\n",
            "conv1d_10 (Conv1D)           (None, 90, 64)            24640     \n",
            "_________________________________________________________________\n",
            "max_pooling1d_6 (MaxPooling1 (None, 45, 64)            0         \n",
            "_________________________________________________________________\n",
            "conv1d_11 (Conv1D)           (None, 45, 64)            12352     \n",
            "_________________________________________________________________\n",
            "up_sampling1d_4 (UpSampling1 (None, 90, 64)            0         \n",
            "_________________________________________________________________\n",
            "conv1d_12 (Conv1D)           (None, 90, 128)           24704     \n",
            "_________________________________________________________________\n",
            "dropout_7 (Dropout)          (None, 90, 128)           0         \n",
            "_________________________________________________________________\n",
            "up_sampling1d_5 (UpSampling1 (None, 180, 128)          0         \n",
            "_________________________________________________________________\n",
            "conv1d_13 (Conv1D)           (None, 180, 216)          83160     \n",
            "_________________________________________________________________\n",
            "dropout_8 (Dropout)          (None, 180, 216)          0         \n",
            "_________________________________________________________________\n",
            "up_sampling1d_6 (UpSampling1 (None, 360, 216)          0         \n",
            "_________________________________________________________________\n",
            "conv1d_14 (Conv1D)           (None, 360, 1)            649       \n",
            "=================================================================\n",
            "Total params: 229,441\n",
            "Trainable params: 229,441\n",
            "Non-trainable params: 0\n",
            "_________________________________________________________________\n"
          ],
          "name": "stdout"
        }
      ]
    },
    {
      "cell_type": "code",
      "metadata": {
        "id": "8eVhDYFgV7DD",
        "colab_type": "code",
        "outputId": "c3817a95-2b30-4448-e4ad-895f25e4105d",
        "colab": {
          "base_uri": "https://localhost:8080/",
          "height": 1000
        }
      },
      "source": [
        "history = autoencoder_matches.fit(x=matches_X_train, y=matches_X_train, validation_data=(matches_X_val,matches_X_val), batch_size=10, epochs=100)"
      ],
      "execution_count": 0,
      "outputs": [
        {
          "output_type": "stream",
          "text": [
            "Train on 141 samples, validate on 16 samples\n",
            "Epoch 1/100\n",
            "141/141 [==============================] - 1s 10ms/step - loss: 0.0417 - root_mean_squared_error: 0.2157 - val_loss: 0.0482 - val_root_mean_squared_error: 0.2057\n",
            "Epoch 2/100\n",
            "141/141 [==============================] - 1s 4ms/step - loss: 0.0290 - root_mean_squared_error: 0.1962 - val_loss: 0.0435 - val_root_mean_squared_error: 0.1908\n",
            "Epoch 3/100\n",
            "141/141 [==============================] - 1s 4ms/step - loss: 0.0267 - root_mean_squared_error: 0.1860 - val_loss: 0.0414 - val_root_mean_squared_error: 0.1835\n",
            "Epoch 4/100\n",
            "141/141 [==============================] - 1s 4ms/step - loss: 0.0251 - root_mean_squared_error: 0.1803 - val_loss: 0.0372 - val_root_mean_squared_error: 0.1784\n",
            "Epoch 5/100\n",
            "141/141 [==============================] - 1s 4ms/step - loss: 0.0227 - root_mean_squared_error: 0.1758 - val_loss: 0.0337 - val_root_mean_squared_error: 0.1739\n",
            "Epoch 6/100\n",
            "141/141 [==============================] - 1s 4ms/step - loss: 0.0199 - root_mean_squared_error: 0.1713 - val_loss: 0.0304 - val_root_mean_squared_error: 0.1694\n",
            "Epoch 7/100\n",
            "141/141 [==============================] - 1s 4ms/step - loss: 0.0182 - root_mean_squared_error: 0.1671 - val_loss: 0.0262 - val_root_mean_squared_error: 0.1653\n",
            "Epoch 8/100\n",
            "141/141 [==============================] - 1s 4ms/step - loss: 0.0165 - root_mean_squared_error: 0.1632 - val_loss: 0.0249 - val_root_mean_squared_error: 0.1615\n",
            "Epoch 9/100\n",
            "141/141 [==============================] - 1s 4ms/step - loss: 0.0156 - root_mean_squared_error: 0.1595 - val_loss: 0.0249 - val_root_mean_squared_error: 0.1582\n",
            "Epoch 10/100\n",
            "141/141 [==============================] - 1s 4ms/step - loss: 0.0149 - root_mean_squared_error: 0.1565 - val_loss: 0.0259 - val_root_mean_squared_error: 0.1553\n",
            "Epoch 11/100\n",
            "141/141 [==============================] - 1s 4ms/step - loss: 0.0147 - root_mean_squared_error: 0.1538 - val_loss: 0.0267 - val_root_mean_squared_error: 0.1529\n",
            "Epoch 12/100\n",
            "141/141 [==============================] - 1s 4ms/step - loss: 0.0150 - root_mean_squared_error: 0.1517 - val_loss: 0.0219 - val_root_mean_squared_error: 0.1508\n",
            "Epoch 13/100\n",
            "141/141 [==============================] - 1s 4ms/step - loss: 0.0137 - root_mean_squared_error: 0.1496 - val_loss: 0.0233 - val_root_mean_squared_error: 0.1487\n",
            "Epoch 14/100\n",
            "141/141 [==============================] - 1s 4ms/step - loss: 0.0133 - root_mean_squared_error: 0.1476 - val_loss: 0.0212 - val_root_mean_squared_error: 0.1468\n",
            "Epoch 15/100\n",
            "141/141 [==============================] - 1s 4ms/step - loss: 0.0127 - root_mean_squared_error: 0.1457 - val_loss: 0.0221 - val_root_mean_squared_error: 0.1450\n",
            "Epoch 16/100\n",
            "141/141 [==============================] - 1s 4ms/step - loss: 0.0124 - root_mean_squared_error: 0.1440 - val_loss: 0.0210 - val_root_mean_squared_error: 0.1433\n",
            "Epoch 17/100\n",
            "141/141 [==============================] - 1s 4ms/step - loss: 0.0123 - root_mean_squared_error: 0.1424 - val_loss: 0.0195 - val_root_mean_squared_error: 0.1417\n",
            "Epoch 18/100\n",
            "141/141 [==============================] - 1s 4ms/step - loss: 0.0117 - root_mean_squared_error: 0.1409 - val_loss: 0.0201 - val_root_mean_squared_error: 0.1402\n",
            "Epoch 19/100\n",
            "141/141 [==============================] - 1s 4ms/step - loss: 0.0112 - root_mean_squared_error: 0.1394 - val_loss: 0.0183 - val_root_mean_squared_error: 0.1388\n",
            "Epoch 20/100\n",
            "141/141 [==============================] - 1s 4ms/step - loss: 0.0112 - root_mean_squared_error: 0.1380 - val_loss: 0.0176 - val_root_mean_squared_error: 0.1374\n",
            "Epoch 21/100\n",
            "141/141 [==============================] - 1s 4ms/step - loss: 0.0109 - root_mean_squared_error: 0.1367 - val_loss: 0.0192 - val_root_mean_squared_error: 0.1362\n",
            "Epoch 22/100\n",
            "141/141 [==============================] - 1s 4ms/step - loss: 0.0107 - root_mean_squared_error: 0.1355 - val_loss: 0.0168 - val_root_mean_squared_error: 0.1350\n",
            "Epoch 23/100\n",
            "141/141 [==============================] - 1s 4ms/step - loss: 0.0100 - root_mean_squared_error: 0.1343 - val_loss: 0.0157 - val_root_mean_squared_error: 0.1338\n",
            "Epoch 24/100\n",
            "141/141 [==============================] - 1s 4ms/step - loss: 0.0098 - root_mean_squared_error: 0.1331 - val_loss: 0.0164 - val_root_mean_squared_error: 0.1326\n",
            "Epoch 25/100\n",
            "141/141 [==============================] - 1s 4ms/step - loss: 0.0092 - root_mean_squared_error: 0.1319 - val_loss: 0.0151 - val_root_mean_squared_error: 0.1314\n",
            "Epoch 26/100\n",
            "141/141 [==============================] - 1s 4ms/step - loss: 0.0094 - root_mean_squared_error: 0.1308 - val_loss: 0.0154 - val_root_mean_squared_error: 0.1303\n",
            "Epoch 27/100\n",
            "141/141 [==============================] - 1s 4ms/step - loss: 0.0091 - root_mean_squared_error: 0.1298 - val_loss: 0.0134 - val_root_mean_squared_error: 0.1293\n",
            "Epoch 28/100\n",
            "141/141 [==============================] - 1s 4ms/step - loss: 0.0090 - root_mean_squared_error: 0.1287 - val_loss: 0.0136 - val_root_mean_squared_error: 0.1283\n",
            "Epoch 29/100\n",
            "141/141 [==============================] - 1s 4ms/step - loss: 0.0085 - root_mean_squared_error: 0.1277 - val_loss: 0.0134 - val_root_mean_squared_error: 0.1273\n",
            "Epoch 30/100\n",
            "141/141 [==============================] - 1s 4ms/step - loss: 0.0085 - root_mean_squared_error: 0.1267 - val_loss: 0.0127 - val_root_mean_squared_error: 0.1263\n",
            "Epoch 31/100\n",
            "141/141 [==============================] - 1s 4ms/step - loss: 0.0080 - root_mean_squared_error: 0.1258 - val_loss: 0.0125 - val_root_mean_squared_error: 0.1254\n",
            "Epoch 32/100\n",
            "141/141 [==============================] - 1s 4ms/step - loss: 0.0078 - root_mean_squared_error: 0.1248 - val_loss: 0.0125 - val_root_mean_squared_error: 0.1244\n",
            "Epoch 33/100\n",
            "141/141 [==============================] - 1s 4ms/step - loss: 0.0078 - root_mean_squared_error: 0.1239 - val_loss: 0.0129 - val_root_mean_squared_error: 0.1236\n",
            "Epoch 34/100\n",
            "141/141 [==============================] - 1s 4ms/step - loss: 0.0079 - root_mean_squared_error: 0.1231 - val_loss: 0.0104 - val_root_mean_squared_error: 0.1227\n",
            "Epoch 35/100\n",
            "141/141 [==============================] - 1s 4ms/step - loss: 0.0076 - root_mean_squared_error: 0.1222 - val_loss: 0.0133 - val_root_mean_squared_error: 0.1219\n",
            "Epoch 36/100\n",
            "141/141 [==============================] - 1s 4ms/step - loss: 0.0078 - root_mean_squared_error: 0.1215 - val_loss: 0.0103 - val_root_mean_squared_error: 0.1211\n",
            "Epoch 37/100\n",
            "141/141 [==============================] - 1s 4ms/step - loss: 0.0076 - root_mean_squared_error: 0.1207 - val_loss: 0.0129 - val_root_mean_squared_error: 0.1204\n",
            "Epoch 38/100\n",
            "141/141 [==============================] - 1s 4ms/step - loss: 0.0074 - root_mean_squared_error: 0.1200 - val_loss: 0.0107 - val_root_mean_squared_error: 0.1197\n",
            "Epoch 39/100\n",
            "141/141 [==============================] - 1s 4ms/step - loss: 0.0073 - root_mean_squared_error: 0.1193 - val_loss: 0.0110 - val_root_mean_squared_error: 0.1189\n",
            "Epoch 40/100\n",
            "141/141 [==============================] - 1s 4ms/step - loss: 0.0069 - root_mean_squared_error: 0.1185 - val_loss: 0.0112 - val_root_mean_squared_error: 0.1182\n",
            "Epoch 41/100\n",
            "141/141 [==============================] - 1s 4ms/step - loss: 0.0070 - root_mean_squared_error: 0.1178 - val_loss: 0.0114 - val_root_mean_squared_error: 0.1175\n",
            "Epoch 42/100\n",
            "141/141 [==============================] - 1s 4ms/step - loss: 0.0071 - root_mean_squared_error: 0.1172 - val_loss: 0.0102 - val_root_mean_squared_error: 0.1169\n",
            "Epoch 43/100\n",
            "141/141 [==============================] - 1s 4ms/step - loss: 0.0069 - root_mean_squared_error: 0.1165 - val_loss: 0.0111 - val_root_mean_squared_error: 0.1163\n",
            "Epoch 44/100\n",
            "141/141 [==============================] - 1s 4ms/step - loss: 0.0068 - root_mean_squared_error: 0.1159 - val_loss: 0.0102 - val_root_mean_squared_error: 0.1156\n",
            "Epoch 45/100\n",
            "141/141 [==============================] - 1s 4ms/step - loss: 0.0069 - root_mean_squared_error: 0.1153 - val_loss: 0.0104 - val_root_mean_squared_error: 0.1151\n",
            "Epoch 46/100\n",
            "141/141 [==============================] - 1s 4ms/step - loss: 0.0066 - root_mean_squared_error: 0.1147 - val_loss: 0.0092 - val_root_mean_squared_error: 0.1145\n",
            "Epoch 47/100\n",
            "141/141 [==============================] - 1s 4ms/step - loss: 0.0067 - root_mean_squared_error: 0.1141 - val_loss: 0.0102 - val_root_mean_squared_error: 0.1139\n",
            "Epoch 48/100\n",
            "141/141 [==============================] - 1s 4ms/step - loss: 0.0065 - root_mean_squared_error: 0.1136 - val_loss: 0.0107 - val_root_mean_squared_error: 0.1133\n",
            "Epoch 49/100\n",
            "141/141 [==============================] - 1s 4ms/step - loss: 0.0063 - root_mean_squared_error: 0.1130 - val_loss: 0.0106 - val_root_mean_squared_error: 0.1128\n",
            "Epoch 50/100\n",
            "141/141 [==============================] - 1s 4ms/step - loss: 0.0063 - root_mean_squared_error: 0.1125 - val_loss: 0.0096 - val_root_mean_squared_error: 0.1122\n",
            "Epoch 51/100\n",
            "141/141 [==============================] - 1s 4ms/step - loss: 0.0063 - root_mean_squared_error: 0.1119 - val_loss: 0.0093 - val_root_mean_squared_error: 0.1117\n",
            "Epoch 52/100\n",
            "141/141 [==============================] - 1s 4ms/step - loss: 0.0062 - root_mean_squared_error: 0.1114 - val_loss: 0.0097 - val_root_mean_squared_error: 0.1112\n",
            "Epoch 53/100\n",
            "141/141 [==============================] - 1s 4ms/step - loss: 0.0063 - root_mean_squared_error: 0.1109 - val_loss: 0.0094 - val_root_mean_squared_error: 0.1107\n",
            "Epoch 54/100\n",
            "141/141 [==============================] - 1s 4ms/step - loss: 0.0063 - root_mean_squared_error: 0.1105 - val_loss: 0.0104 - val_root_mean_squared_error: 0.1102\n",
            "Epoch 55/100\n",
            "141/141 [==============================] - 1s 4ms/step - loss: 0.0063 - root_mean_squared_error: 0.1100 - val_loss: 0.0095 - val_root_mean_squared_error: 0.1098\n",
            "Epoch 56/100\n",
            "141/141 [==============================] - 1s 4ms/step - loss: 0.0060 - root_mean_squared_error: 0.1095 - val_loss: 0.0093 - val_root_mean_squared_error: 0.1093\n",
            "Epoch 57/100\n",
            "141/141 [==============================] - 1s 4ms/step - loss: 0.0060 - root_mean_squared_error: 0.1091 - val_loss: 0.0093 - val_root_mean_squared_error: 0.1089\n",
            "Epoch 58/100\n",
            "141/141 [==============================] - 1s 4ms/step - loss: 0.0061 - root_mean_squared_error: 0.1086 - val_loss: 0.0093 - val_root_mean_squared_error: 0.1084\n",
            "Epoch 59/100\n",
            "141/141 [==============================] - 1s 4ms/step - loss: 0.0060 - root_mean_squared_error: 0.1082 - val_loss: 0.0094 - val_root_mean_squared_error: 0.1080\n",
            "Epoch 60/100\n",
            "141/141 [==============================] - 1s 4ms/step - loss: 0.0059 - root_mean_squared_error: 0.1078 - val_loss: 0.0094 - val_root_mean_squared_error: 0.1076\n",
            "Epoch 61/100\n",
            "141/141 [==============================] - 1s 4ms/step - loss: 0.0059 - root_mean_squared_error: 0.1074 - val_loss: 0.0092 - val_root_mean_squared_error: 0.1072\n",
            "Epoch 62/100\n",
            "141/141 [==============================] - 1s 4ms/step - loss: 0.0057 - root_mean_squared_error: 0.1070 - val_loss: 0.0090 - val_root_mean_squared_error: 0.1068\n",
            "Epoch 63/100\n",
            "141/141 [==============================] - 1s 4ms/step - loss: 0.0058 - root_mean_squared_error: 0.1066 - val_loss: 0.0078 - val_root_mean_squared_error: 0.1064\n",
            "Epoch 64/100\n",
            "141/141 [==============================] - 1s 4ms/step - loss: 0.0059 - root_mean_squared_error: 0.1062 - val_loss: 0.0101 - val_root_mean_squared_error: 0.1060\n",
            "Epoch 65/100\n",
            "141/141 [==============================] - 1s 4ms/step - loss: 0.0057 - root_mean_squared_error: 0.1058 - val_loss: 0.0083 - val_root_mean_squared_error: 0.1056\n",
            "Epoch 66/100\n",
            "141/141 [==============================] - 1s 4ms/step - loss: 0.0057 - root_mean_squared_error: 0.1054 - val_loss: 0.0090 - val_root_mean_squared_error: 0.1053\n",
            "Epoch 67/100\n",
            "141/141 [==============================] - 1s 4ms/step - loss: 0.0056 - root_mean_squared_error: 0.1051 - val_loss: 0.0089 - val_root_mean_squared_error: 0.1049\n",
            "Epoch 68/100\n",
            "141/141 [==============================] - 1s 4ms/step - loss: 0.0057 - root_mean_squared_error: 0.1047 - val_loss: 0.0089 - val_root_mean_squared_error: 0.1045\n",
            "Epoch 69/100\n",
            "141/141 [==============================] - 1s 4ms/step - loss: 0.0054 - root_mean_squared_error: 0.1043 - val_loss: 0.0092 - val_root_mean_squared_error: 0.1042\n",
            "Epoch 70/100\n",
            "141/141 [==============================] - 1s 4ms/step - loss: 0.0055 - root_mean_squared_error: 0.1040 - val_loss: 0.0083 - val_root_mean_squared_error: 0.1038\n",
            "Epoch 71/100\n",
            "141/141 [==============================] - 1s 4ms/step - loss: 0.0054 - root_mean_squared_error: 0.1037 - val_loss: 0.0086 - val_root_mean_squared_error: 0.1035\n",
            "Epoch 72/100\n",
            "141/141 [==============================] - 1s 4ms/step - loss: 0.0053 - root_mean_squared_error: 0.1033 - val_loss: 0.0084 - val_root_mean_squared_error: 0.1032\n",
            "Epoch 73/100\n",
            "141/141 [==============================] - 1s 4ms/step - loss: 0.0053 - root_mean_squared_error: 0.1030 - val_loss: 0.0084 - val_root_mean_squared_error: 0.1028\n",
            "Epoch 74/100\n",
            "141/141 [==============================] - 1s 4ms/step - loss: 0.0053 - root_mean_squared_error: 0.1026 - val_loss: 0.0084 - val_root_mean_squared_error: 0.1025\n",
            "Epoch 75/100\n",
            "141/141 [==============================] - 1s 4ms/step - loss: 0.0054 - root_mean_squared_error: 0.1023 - val_loss: 0.0079 - val_root_mean_squared_error: 0.1022\n",
            "Epoch 76/100\n",
            "141/141 [==============================] - 1s 4ms/step - loss: 0.0054 - root_mean_squared_error: 0.1020 - val_loss: 0.0083 - val_root_mean_squared_error: 0.1019\n",
            "Epoch 77/100\n",
            "141/141 [==============================] - 1s 4ms/step - loss: 0.0055 - root_mean_squared_error: 0.1017 - val_loss: 0.0078 - val_root_mean_squared_error: 0.1016\n",
            "Epoch 78/100\n",
            "141/141 [==============================] - 1s 4ms/step - loss: 0.0052 - root_mean_squared_error: 0.1014 - val_loss: 0.0083 - val_root_mean_squared_error: 0.1013\n",
            "Epoch 79/100\n",
            "141/141 [==============================] - 1s 4ms/step - loss: 0.0054 - root_mean_squared_error: 0.1011 - val_loss: 0.0083 - val_root_mean_squared_error: 0.1010\n",
            "Epoch 80/100\n",
            "141/141 [==============================] - 1s 4ms/step - loss: 0.0053 - root_mean_squared_error: 0.1008 - val_loss: 0.0083 - val_root_mean_squared_error: 0.1007\n",
            "Epoch 81/100\n",
            "141/141 [==============================] - 1s 4ms/step - loss: 0.0052 - root_mean_squared_error: 0.1006 - val_loss: 0.0083 - val_root_mean_squared_error: 0.1004\n",
            "Epoch 82/100\n",
            "141/141 [==============================] - 1s 4ms/step - loss: 0.0053 - root_mean_squared_error: 0.1003 - val_loss: 0.0085 - val_root_mean_squared_error: 0.1002\n",
            "Epoch 83/100\n",
            "141/141 [==============================] - 1s 4ms/step - loss: 0.0052 - root_mean_squared_error: 0.1000 - val_loss: 0.0071 - val_root_mean_squared_error: 0.0999\n",
            "Epoch 84/100\n",
            "141/141 [==============================] - 1s 4ms/step - loss: 0.0052 - root_mean_squared_error: 0.0997 - val_loss: 0.0080 - val_root_mean_squared_error: 0.0996\n",
            "Epoch 85/100\n",
            "141/141 [==============================] - 1s 4ms/step - loss: 0.0054 - root_mean_squared_error: 0.0995 - val_loss: 0.0081 - val_root_mean_squared_error: 0.0994\n",
            "Epoch 86/100\n",
            "141/141 [==============================] - 1s 4ms/step - loss: 0.0055 - root_mean_squared_error: 0.0992 - val_loss: 0.0077 - val_root_mean_squared_error: 0.0991\n",
            "Epoch 87/100\n",
            "141/141 [==============================] - 1s 4ms/step - loss: 0.0051 - root_mean_squared_error: 0.0990 - val_loss: 0.0084 - val_root_mean_squared_error: 0.0989\n",
            "Epoch 88/100\n",
            "141/141 [==============================] - 1s 4ms/step - loss: 0.0054 - root_mean_squared_error: 0.0987 - val_loss: 0.0086 - val_root_mean_squared_error: 0.0986\n",
            "Epoch 89/100\n",
            "141/141 [==============================] - 1s 4ms/step - loss: 0.0051 - root_mean_squared_error: 0.0985 - val_loss: 0.0070 - val_root_mean_squared_error: 0.0984\n",
            "Epoch 90/100\n",
            "141/141 [==============================] - 1s 4ms/step - loss: 0.0051 - root_mean_squared_error: 0.0982 - val_loss: 0.0073 - val_root_mean_squared_error: 0.0981\n",
            "Epoch 91/100\n",
            "141/141 [==============================] - 1s 4ms/step - loss: 0.0049 - root_mean_squared_error: 0.0980 - val_loss: 0.0073 - val_root_mean_squared_error: 0.0979\n",
            "Epoch 92/100\n",
            "141/141 [==============================] - 1s 4ms/step - loss: 0.0050 - root_mean_squared_error: 0.0977 - val_loss: 0.0076 - val_root_mean_squared_error: 0.0976\n",
            "Epoch 93/100\n",
            "141/141 [==============================] - 1s 4ms/step - loss: 0.0050 - root_mean_squared_error: 0.0975 - val_loss: 0.0071 - val_root_mean_squared_error: 0.0974\n",
            "Epoch 94/100\n",
            "141/141 [==============================] - 1s 4ms/step - loss: 0.0050 - root_mean_squared_error: 0.0973 - val_loss: 0.0077 - val_root_mean_squared_error: 0.0972\n",
            "Epoch 95/100\n",
            "141/141 [==============================] - 1s 4ms/step - loss: 0.0048 - root_mean_squared_error: 0.0970 - val_loss: 0.0080 - val_root_mean_squared_error: 0.0969\n",
            "Epoch 96/100\n",
            "141/141 [==============================] - 1s 4ms/step - loss: 0.0050 - root_mean_squared_error: 0.0968 - val_loss: 0.0071 - val_root_mean_squared_error: 0.0967\n",
            "Epoch 97/100\n",
            "141/141 [==============================] - 1s 4ms/step - loss: 0.0048 - root_mean_squared_error: 0.0966 - val_loss: 0.0074 - val_root_mean_squared_error: 0.0965\n",
            "Epoch 98/100\n",
            "141/141 [==============================] - 1s 4ms/step - loss: 0.0048 - root_mean_squared_error: 0.0964 - val_loss: 0.0072 - val_root_mean_squared_error: 0.0963\n",
            "Epoch 99/100\n",
            "141/141 [==============================] - 1s 4ms/step - loss: 0.0047 - root_mean_squared_error: 0.0961 - val_loss: 0.0068 - val_root_mean_squared_error: 0.0960\n",
            "Epoch 100/100\n",
            "141/141 [==============================] - 1s 4ms/step - loss: 0.0047 - root_mean_squared_error: 0.0959 - val_loss: 0.0064 - val_root_mean_squared_error: 0.0958\n"
          ],
          "name": "stdout"
        }
      ]
    },
    {
      "cell_type": "code",
      "metadata": {
        "id": "tfRX0hUt8kA1",
        "colab_type": "code",
        "outputId": "9fdc0533-aa7b-419d-ba2d-267ecfd87a7c",
        "colab": {
          "base_uri": "https://localhost:8080/",
          "height": 1000
        }
      },
      "source": [
        "history_players = autoencoder_player.fit(x=players_X_train, y=players_X_train, validation_data=(players_X_val,players_X_val), batch_size=10, epochs=100)"
      ],
      "execution_count": 0,
      "outputs": [
        {
          "output_type": "stream",
          "text": [
            "Train on 141 samples, validate on 16 samples\n",
            "Epoch 1/100\n",
            "141/141 [==============================] - 2s 15ms/step - loss: 0.0716 - root_mean_squared_error: 0.2728 - val_loss: 0.0739 - val_root_mean_squared_error: 0.2680\n",
            "Epoch 2/100\n",
            "141/141 [==============================] - 1s 10ms/step - loss: 0.0674 - root_mean_squared_error: 0.2654 - val_loss: 0.0693 - val_root_mean_squared_error: 0.2641\n",
            "Epoch 3/100\n",
            "141/141 [==============================] - 1s 10ms/step - loss: 0.0660 - root_mean_squared_error: 0.2629 - val_loss: 0.0696 - val_root_mean_squared_error: 0.2619\n",
            "Epoch 4/100\n",
            "141/141 [==============================] - 1s 10ms/step - loss: 0.0623 - root_mean_squared_error: 0.2605 - val_loss: 0.0564 - val_root_mean_squared_error: 0.2587\n",
            "Epoch 5/100\n",
            "141/141 [==============================] - 1s 10ms/step - loss: 0.0464 - root_mean_squared_error: 0.2550 - val_loss: 0.0335 - val_root_mean_squared_error: 0.2503\n",
            "Epoch 6/100\n",
            "141/141 [==============================] - 1s 10ms/step - loss: 0.0297 - root_mean_squared_error: 0.2442 - val_loss: 0.0266 - val_root_mean_squared_error: 0.2390\n",
            "Epoch 7/100\n",
            "141/141 [==============================] - 1s 10ms/step - loss: 0.0248 - root_mean_squared_error: 0.2336 - val_loss: 0.0253 - val_root_mean_squared_error: 0.2291\n",
            "Epoch 8/100\n",
            "141/141 [==============================] - 1s 10ms/step - loss: 0.0218 - root_mean_squared_error: 0.2245 - val_loss: 0.0234 - val_root_mean_squared_error: 0.2206\n",
            "Epoch 9/100\n",
            "141/141 [==============================] - 1s 10ms/step - loss: 0.0191 - root_mean_squared_error: 0.2166 - val_loss: 0.0211 - val_root_mean_squared_error: 0.2131\n",
            "Epoch 10/100\n",
            "141/141 [==============================] - 1s 10ms/step - loss: 0.0163 - root_mean_squared_error: 0.2094 - val_loss: 0.0177 - val_root_mean_squared_error: 0.2062\n",
            "Epoch 11/100\n",
            "141/141 [==============================] - 1s 10ms/step - loss: 0.0145 - root_mean_squared_error: 0.2028 - val_loss: 0.0163 - val_root_mean_squared_error: 0.1999\n",
            "Epoch 12/100\n",
            "141/141 [==============================] - 1s 10ms/step - loss: 0.0131 - root_mean_squared_error: 0.1969 - val_loss: 0.0129 - val_root_mean_squared_error: 0.1943\n",
            "Epoch 13/100\n",
            "141/141 [==============================] - 1s 10ms/step - loss: 0.0123 - root_mean_squared_error: 0.1915 - val_loss: 0.0145 - val_root_mean_squared_error: 0.1892\n",
            "Epoch 14/100\n",
            "141/141 [==============================] - 1s 10ms/step - loss: 0.0112 - root_mean_squared_error: 0.1867 - val_loss: 0.0145 - val_root_mean_squared_error: 0.1846\n",
            "Epoch 15/100\n",
            "141/141 [==============================] - 1s 10ms/step - loss: 0.0107 - root_mean_squared_error: 0.1823 - val_loss: 0.0149 - val_root_mean_squared_error: 0.1804\n",
            "Epoch 16/100\n",
            "141/141 [==============================] - 1s 10ms/step - loss: 0.0104 - root_mean_squared_error: 0.1783 - val_loss: 0.0132 - val_root_mean_squared_error: 0.1765\n",
            "Epoch 17/100\n",
            "141/141 [==============================] - 1s 10ms/step - loss: 0.0100 - root_mean_squared_error: 0.1746 - val_loss: 0.0130 - val_root_mean_squared_error: 0.1730\n",
            "Epoch 18/100\n",
            "141/141 [==============================] - 1s 10ms/step - loss: 0.0097 - root_mean_squared_error: 0.1713 - val_loss: 0.0120 - val_root_mean_squared_error: 0.1698\n",
            "Epoch 19/100\n",
            "141/141 [==============================] - 1s 10ms/step - loss: 0.0093 - root_mean_squared_error: 0.1682 - val_loss: 0.0121 - val_root_mean_squared_error: 0.1668\n",
            "Epoch 20/100\n",
            "141/141 [==============================] - 1s 10ms/step - loss: 0.0090 - root_mean_squared_error: 0.1653 - val_loss: 0.0120 - val_root_mean_squared_error: 0.1640\n",
            "Epoch 21/100\n",
            "141/141 [==============================] - 1s 10ms/step - loss: 0.0087 - root_mean_squared_error: 0.1626 - val_loss: 0.0112 - val_root_mean_squared_error: 0.1614\n",
            "Epoch 22/100\n",
            "141/141 [==============================] - 1s 10ms/step - loss: 0.0083 - root_mean_squared_error: 0.1600 - val_loss: 0.0111 - val_root_mean_squared_error: 0.1589\n",
            "Epoch 23/100\n",
            "141/141 [==============================] - 1s 10ms/step - loss: 0.0082 - root_mean_squared_error: 0.1576 - val_loss: 0.0117 - val_root_mean_squared_error: 0.1566\n",
            "Epoch 24/100\n",
            "141/141 [==============================] - 1s 10ms/step - loss: 0.0083 - root_mean_squared_error: 0.1554 - val_loss: 0.0100 - val_root_mean_squared_error: 0.1544\n",
            "Epoch 25/100\n",
            "141/141 [==============================] - 1s 11ms/step - loss: 0.0079 - root_mean_squared_error: 0.1533 - val_loss: 0.0096 - val_root_mean_squared_error: 0.1524\n",
            "Epoch 26/100\n",
            "141/141 [==============================] - 1s 10ms/step - loss: 0.0079 - root_mean_squared_error: 0.1513 - val_loss: 0.0096 - val_root_mean_squared_error: 0.1504\n",
            "Epoch 27/100\n",
            "141/141 [==============================] - 1s 11ms/step - loss: 0.0076 - root_mean_squared_error: 0.1495 - val_loss: 0.0094 - val_root_mean_squared_error: 0.1486\n",
            "Epoch 28/100\n",
            "141/141 [==============================] - 1s 10ms/step - loss: 0.0075 - root_mean_squared_error: 0.1477 - val_loss: 0.0091 - val_root_mean_squared_error: 0.1469\n",
            "Epoch 29/100\n",
            "141/141 [==============================] - 2s 11ms/step - loss: 0.0072 - root_mean_squared_error: 0.1460 - val_loss: 0.0091 - val_root_mean_squared_error: 0.1452\n",
            "Epoch 30/100\n",
            "141/141 [==============================] - 1s 11ms/step - loss: 0.0072 - root_mean_squared_error: 0.1443 - val_loss: 0.0095 - val_root_mean_squared_error: 0.1436\n",
            "Epoch 31/100\n",
            "141/141 [==============================] - 1s 10ms/step - loss: 0.0071 - root_mean_squared_error: 0.1428 - val_loss: 0.0095 - val_root_mean_squared_error: 0.1421\n",
            "Epoch 32/100\n",
            "141/141 [==============================] - 1s 10ms/step - loss: 0.0069 - root_mean_squared_error: 0.1413 - val_loss: 0.0088 - val_root_mean_squared_error: 0.1407\n",
            "Epoch 33/100\n",
            "141/141 [==============================] - 1s 10ms/step - loss: 0.0067 - root_mean_squared_error: 0.1399 - val_loss: 0.0081 - val_root_mean_squared_error: 0.1393\n",
            "Epoch 34/100\n",
            "141/141 [==============================] - 1s 10ms/step - loss: 0.0066 - root_mean_squared_error: 0.1385 - val_loss: 0.0082 - val_root_mean_squared_error: 0.1379\n",
            "Epoch 35/100\n",
            "141/141 [==============================] - 1s 10ms/step - loss: 0.0066 - root_mean_squared_error: 0.1372 - val_loss: 0.0077 - val_root_mean_squared_error: 0.1366\n",
            "Epoch 36/100\n",
            "141/141 [==============================] - 1s 10ms/step - loss: 0.0065 - root_mean_squared_error: 0.1360 - val_loss: 0.0081 - val_root_mean_squared_error: 0.1354\n",
            "Epoch 37/100\n",
            "141/141 [==============================] - 1s 10ms/step - loss: 0.0064 - root_mean_squared_error: 0.1348 - val_loss: 0.0078 - val_root_mean_squared_error: 0.1342\n",
            "Epoch 38/100\n",
            "141/141 [==============================] - 1s 10ms/step - loss: 0.0062 - root_mean_squared_error: 0.1336 - val_loss: 0.0078 - val_root_mean_squared_error: 0.1331\n",
            "Epoch 39/100\n",
            "141/141 [==============================] - 1s 10ms/step - loss: 0.0063 - root_mean_squared_error: 0.1325 - val_loss: 0.0075 - val_root_mean_squared_error: 0.1320\n",
            "Epoch 40/100\n",
            "141/141 [==============================] - 1s 10ms/step - loss: 0.0059 - root_mean_squared_error: 0.1314 - val_loss: 0.0066 - val_root_mean_squared_error: 0.1309\n",
            "Epoch 41/100\n",
            "141/141 [==============================] - 1s 10ms/step - loss: 0.0060 - root_mean_squared_error: 0.1304 - val_loss: 0.0068 - val_root_mean_squared_error: 0.1299\n",
            "Epoch 42/100\n",
            "141/141 [==============================] - 1s 10ms/step - loss: 0.0060 - root_mean_squared_error: 0.1293 - val_loss: 0.0076 - val_root_mean_squared_error: 0.1289\n",
            "Epoch 43/100\n",
            "141/141 [==============================] - 1s 10ms/step - loss: 0.0059 - root_mean_squared_error: 0.1284 - val_loss: 0.0070 - val_root_mean_squared_error: 0.1279\n",
            "Epoch 44/100\n",
            "141/141 [==============================] - 1s 10ms/step - loss: 0.0057 - root_mean_squared_error: 0.1274 - val_loss: 0.0073 - val_root_mean_squared_error: 0.1270\n",
            "Epoch 45/100\n",
            "141/141 [==============================] - 1s 10ms/step - loss: 0.0058 - root_mean_squared_error: 0.1265 - val_loss: 0.0067 - val_root_mean_squared_error: 0.1261\n",
            "Epoch 46/100\n",
            "141/141 [==============================] - 1s 10ms/step - loss: 0.0057 - root_mean_squared_error: 0.1256 - val_loss: 0.0066 - val_root_mean_squared_error: 0.1252\n",
            "Epoch 47/100\n",
            "141/141 [==============================] - 1s 10ms/step - loss: 0.0056 - root_mean_squared_error: 0.1247 - val_loss: 0.0065 - val_root_mean_squared_error: 0.1243\n",
            "Epoch 48/100\n",
            "141/141 [==============================] - 1s 10ms/step - loss: 0.0055 - root_mean_squared_error: 0.1239 - val_loss: 0.0062 - val_root_mean_squared_error: 0.1235\n",
            "Epoch 49/100\n",
            "141/141 [==============================] - 1s 10ms/step - loss: 0.0055 - root_mean_squared_error: 0.1231 - val_loss: 0.0068 - val_root_mean_squared_error: 0.1227\n",
            "Epoch 50/100\n",
            "141/141 [==============================] - 1s 10ms/step - loss: 0.0055 - root_mean_squared_error: 0.1223 - val_loss: 0.0057 - val_root_mean_squared_error: 0.1219\n",
            "Epoch 51/100\n",
            "141/141 [==============================] - 1s 10ms/step - loss: 0.0054 - root_mean_squared_error: 0.1215 - val_loss: 0.0056 - val_root_mean_squared_error: 0.1212\n",
            "Epoch 52/100\n",
            "141/141 [==============================] - 1s 10ms/step - loss: 0.0054 - root_mean_squared_error: 0.1208 - val_loss: 0.0057 - val_root_mean_squared_error: 0.1204\n",
            "Epoch 53/100\n",
            "141/141 [==============================] - 1s 10ms/step - loss: 0.0053 - root_mean_squared_error: 0.1201 - val_loss: 0.0058 - val_root_mean_squared_error: 0.1197\n",
            "Epoch 54/100\n",
            "141/141 [==============================] - 1s 10ms/step - loss: 0.0053 - root_mean_squared_error: 0.1193 - val_loss: 0.0056 - val_root_mean_squared_error: 0.1190\n",
            "Epoch 55/100\n",
            "141/141 [==============================] - 1s 10ms/step - loss: 0.0052 - root_mean_squared_error: 0.1187 - val_loss: 0.0056 - val_root_mean_squared_error: 0.1183\n",
            "Epoch 56/100\n",
            "141/141 [==============================] - 1s 10ms/step - loss: 0.0052 - root_mean_squared_error: 0.1180 - val_loss: 0.0055 - val_root_mean_squared_error: 0.1177\n",
            "Epoch 57/100\n",
            "141/141 [==============================] - 1s 10ms/step - loss: 0.0052 - root_mean_squared_error: 0.1173 - val_loss: 0.0060 - val_root_mean_squared_error: 0.1170\n",
            "Epoch 58/100\n",
            "141/141 [==============================] - 1s 10ms/step - loss: 0.0052 - root_mean_squared_error: 0.1167 - val_loss: 0.0052 - val_root_mean_squared_error: 0.1164\n",
            "Epoch 59/100\n",
            "141/141 [==============================] - 1s 10ms/step - loss: 0.0051 - root_mean_squared_error: 0.1161 - val_loss: 0.0050 - val_root_mean_squared_error: 0.1158\n",
            "Epoch 60/100\n",
            "141/141 [==============================] - 1s 10ms/step - loss: 0.0051 - root_mean_squared_error: 0.1155 - val_loss: 0.0047 - val_root_mean_squared_error: 0.1152\n",
            "Epoch 61/100\n",
            "141/141 [==============================] - 1s 10ms/step - loss: 0.0051 - root_mean_squared_error: 0.1149 - val_loss: 0.0049 - val_root_mean_squared_error: 0.1146\n",
            "Epoch 62/100\n",
            "141/141 [==============================] - 1s 10ms/step - loss: 0.0050 - root_mean_squared_error: 0.1143 - val_loss: 0.0050 - val_root_mean_squared_error: 0.1140\n",
            "Epoch 63/100\n",
            "141/141 [==============================] - 1s 10ms/step - loss: 0.0048 - root_mean_squared_error: 0.1137 - val_loss: 0.0052 - val_root_mean_squared_error: 0.1134\n",
            "Epoch 64/100\n",
            "141/141 [==============================] - 1s 10ms/step - loss: 0.0049 - root_mean_squared_error: 0.1132 - val_loss: 0.0047 - val_root_mean_squared_error: 0.1129\n",
            "Epoch 65/100\n",
            "141/141 [==============================] - 1s 10ms/step - loss: 0.0048 - root_mean_squared_error: 0.1126 - val_loss: 0.0046 - val_root_mean_squared_error: 0.1124\n",
            "Epoch 66/100\n",
            "141/141 [==============================] - 1s 10ms/step - loss: 0.0048 - root_mean_squared_error: 0.1121 - val_loss: 0.0047 - val_root_mean_squared_error: 0.1118\n",
            "Epoch 67/100\n",
            "141/141 [==============================] - 1s 10ms/step - loss: 0.0048 - root_mean_squared_error: 0.1116 - val_loss: 0.0046 - val_root_mean_squared_error: 0.1113\n",
            "Epoch 68/100\n",
            "141/141 [==============================] - 1s 10ms/step - loss: 0.0047 - root_mean_squared_error: 0.1110 - val_loss: 0.0047 - val_root_mean_squared_error: 0.1108\n",
            "Epoch 69/100\n",
            "141/141 [==============================] - 1s 10ms/step - loss: 0.0047 - root_mean_squared_error: 0.1105 - val_loss: 0.0048 - val_root_mean_squared_error: 0.1103\n",
            "Epoch 70/100\n",
            "141/141 [==============================] - 1s 10ms/step - loss: 0.0047 - root_mean_squared_error: 0.1100 - val_loss: 0.0046 - val_root_mean_squared_error: 0.1098\n",
            "Epoch 71/100\n",
            "141/141 [==============================] - 1s 10ms/step - loss: 0.0047 - root_mean_squared_error: 0.1096 - val_loss: 0.0046 - val_root_mean_squared_error: 0.1093\n",
            "Epoch 72/100\n",
            "141/141 [==============================] - 1s 10ms/step - loss: 0.0047 - root_mean_squared_error: 0.1091 - val_loss: 0.0045 - val_root_mean_squared_error: 0.1089\n",
            "Epoch 73/100\n",
            "141/141 [==============================] - 1s 10ms/step - loss: 0.0046 - root_mean_squared_error: 0.1086 - val_loss: 0.0043 - val_root_mean_squared_error: 0.1084\n",
            "Epoch 74/100\n",
            "141/141 [==============================] - 1s 10ms/step - loss: 0.0046 - root_mean_squared_error: 0.1082 - val_loss: 0.0045 - val_root_mean_squared_error: 0.1080\n",
            "Epoch 75/100\n",
            "141/141 [==============================] - 1s 10ms/step - loss: 0.0046 - root_mean_squared_error: 0.1077 - val_loss: 0.0043 - val_root_mean_squared_error: 0.1075\n",
            "Epoch 76/100\n",
            "141/141 [==============================] - 1s 10ms/step - loss: 0.0046 - root_mean_squared_error: 0.1073 - val_loss: 0.0040 - val_root_mean_squared_error: 0.1071\n",
            "Epoch 77/100\n",
            "141/141 [==============================] - 1s 10ms/step - loss: 0.0045 - root_mean_squared_error: 0.1069 - val_loss: 0.0041 - val_root_mean_squared_error: 0.1067\n",
            "Epoch 78/100\n",
            "141/141 [==============================] - 1s 10ms/step - loss: 0.0046 - root_mean_squared_error: 0.1065 - val_loss: 0.0045 - val_root_mean_squared_error: 0.1063\n",
            "Epoch 79/100\n",
            "141/141 [==============================] - 1s 10ms/step - loss: 0.0045 - root_mean_squared_error: 0.1061 - val_loss: 0.0043 - val_root_mean_squared_error: 0.1059\n",
            "Epoch 80/100\n",
            "141/141 [==============================] - 1s 10ms/step - loss: 0.0045 - root_mean_squared_error: 0.1057 - val_loss: 0.0041 - val_root_mean_squared_error: 0.1055\n",
            "Epoch 81/100\n",
            "141/141 [==============================] - 1s 10ms/step - loss: 0.0044 - root_mean_squared_error: 0.1053 - val_loss: 0.0040 - val_root_mean_squared_error: 0.1051\n",
            "Epoch 82/100\n",
            "141/141 [==============================] - 1s 10ms/step - loss: 0.0045 - root_mean_squared_error: 0.1049 - val_loss: 0.0046 - val_root_mean_squared_error: 0.1047\n",
            "Epoch 83/100\n",
            "141/141 [==============================] - 1s 10ms/step - loss: 0.0045 - root_mean_squared_error: 0.1045 - val_loss: 0.0041 - val_root_mean_squared_error: 0.1043\n",
            "Epoch 84/100\n",
            "141/141 [==============================] - 1s 10ms/step - loss: 0.0044 - root_mean_squared_error: 0.1041 - val_loss: 0.0041 - val_root_mean_squared_error: 0.1039\n",
            "Epoch 85/100\n",
            "141/141 [==============================] - 1s 10ms/step - loss: 0.0044 - root_mean_squared_error: 0.1037 - val_loss: 0.0043 - val_root_mean_squared_error: 0.1036\n",
            "Epoch 86/100\n",
            "141/141 [==============================] - 1s 10ms/step - loss: 0.0043 - root_mean_squared_error: 0.1034 - val_loss: 0.0041 - val_root_mean_squared_error: 0.1032\n",
            "Epoch 87/100\n",
            "141/141 [==============================] - 1s 10ms/step - loss: 0.0044 - root_mean_squared_error: 0.1030 - val_loss: 0.0040 - val_root_mean_squared_error: 0.1029\n",
            "Epoch 88/100\n",
            "141/141 [==============================] - 1s 10ms/step - loss: 0.0043 - root_mean_squared_error: 0.1027 - val_loss: 0.0039 - val_root_mean_squared_error: 0.1025\n",
            "Epoch 89/100\n",
            "141/141 [==============================] - 1s 10ms/step - loss: 0.0042 - root_mean_squared_error: 0.1023 - val_loss: 0.0037 - val_root_mean_squared_error: 0.1022\n",
            "Epoch 90/100\n",
            "141/141 [==============================] - 1s 10ms/step - loss: 0.0043 - root_mean_squared_error: 0.1020 - val_loss: 0.0038 - val_root_mean_squared_error: 0.1018\n",
            "Epoch 91/100\n",
            "141/141 [==============================] - 1s 10ms/step - loss: 0.0043 - root_mean_squared_error: 0.1017 - val_loss: 0.0038 - val_root_mean_squared_error: 0.1015\n",
            "Epoch 92/100\n",
            "141/141 [==============================] - 1s 10ms/step - loss: 0.0043 - root_mean_squared_error: 0.1013 - val_loss: 0.0039 - val_root_mean_squared_error: 0.1012\n",
            "Epoch 93/100\n",
            "141/141 [==============================] - 1s 10ms/step - loss: 0.0042 - root_mean_squared_error: 0.1010 - val_loss: 0.0036 - val_root_mean_squared_error: 0.1008\n",
            "Epoch 94/100\n",
            "141/141 [==============================] - 1s 10ms/step - loss: 0.0042 - root_mean_squared_error: 0.1007 - val_loss: 0.0035 - val_root_mean_squared_error: 0.1005\n",
            "Epoch 95/100\n",
            "141/141 [==============================] - 1s 10ms/step - loss: 0.0041 - root_mean_squared_error: 0.1004 - val_loss: 0.0037 - val_root_mean_squared_error: 0.1002\n",
            "Epoch 96/100\n",
            "141/141 [==============================] - 1s 10ms/step - loss: 0.0042 - root_mean_squared_error: 0.1000 - val_loss: 0.0038 - val_root_mean_squared_error: 0.0999\n",
            "Epoch 97/100\n",
            "141/141 [==============================] - 1s 10ms/step - loss: 0.0042 - root_mean_squared_error: 0.0997 - val_loss: 0.0037 - val_root_mean_squared_error: 0.0996\n",
            "Epoch 98/100\n",
            "141/141 [==============================] - 1s 10ms/step - loss: 0.0042 - root_mean_squared_error: 0.0994 - val_loss: 0.0039 - val_root_mean_squared_error: 0.0993\n",
            "Epoch 99/100\n",
            "141/141 [==============================] - 1s 10ms/step - loss: 0.0042 - root_mean_squared_error: 0.0992 - val_loss: 0.0036 - val_root_mean_squared_error: 0.0990\n",
            "Epoch 100/100\n",
            "141/141 [==============================] - 1s 10ms/step - loss: 0.0041 - root_mean_squared_error: 0.0989 - val_loss: 0.0034 - val_root_mean_squared_error: 0.0987\n"
          ],
          "name": "stdout"
        }
      ]
    },
    {
      "cell_type": "code",
      "metadata": {
        "id": "r2CcXcus4eTd",
        "colab_type": "code",
        "colab": {}
      },
      "source": [
        "autoencoder_matches.save(\"autoencoder_matches.h5\")\n",
        "autoencoder_player.save(\"autoencoder_player.h5\")"
      ],
      "execution_count": 0,
      "outputs": []
    },
    {
      "cell_type": "code",
      "metadata": {
        "id": "lgqPDgzwKRQ8",
        "colab_type": "code",
        "outputId": "c3dbab5f-6de0-4f95-f844-077b3365a4e4",
        "colab": {
          "base_uri": "https://localhost:8080/",
          "height": 295
        }
      },
      "source": [
        "plt.plot(history.history['loss'])\n",
        "plt.plot(history.history['val_loss'])\n",
        "plt.title('model loss')\n",
        "plt.ylabel('loss')\n",
        "plt.xlabel('epoch')\n",
        "plt.legend(['train', 'val'], loc='upper left')\n",
        "plt.show()"
      ],
      "execution_count": 0,
      "outputs": [
        {
          "output_type": "display_data",
          "data": {
            "image/png": "[encoded data removed]",
            "text/plain": [
              "<Figure size 432x288 with 1 Axes>"
            ]
          },
          "metadata": {
            "tags": [],
            "needs_background": "light"
          }
        }
      ]
    },
    {
      "cell_type": "code",
      "metadata": {
        "id": "qjn5MJghZhr6",
        "colab_type": "code",
        "colab": {}
      },
      "source": [
        "pred = model.predict(x=[matches_X_val, players_X_val])"
      ],
      "execution_count": 0,
      "outputs": []
    },
    {
      "cell_type": "markdown",
      "metadata": {
        "id": "1xhU4gdQX6YF",
        "colab_type": "text"
      },
      "source": [
        "# Deep Autoencoder\n",
        "Current model"
      ]
    },
    {
      "cell_type": "code",
      "metadata": {
        "id": "Z8LipkZV-nRZ",
        "colab_type": "code",
        "colab": {}
      },
      "source": [
        "import keras.backend as K\n",
        "def f1_loss(y_true, y_pred):\n",
        "    \n",
        "    tp = K.sum(K.cast(y_true*y_pred, 'float'), axis=0)\n",
        "    tn = K.sum(K.cast((1-y_true)*(1-y_pred), 'float'), axis=0)\n",
        "    fp = K.sum(K.cast((1-y_true)*y_pred, 'float'), axis=0)\n",
        "    fn = K.sum(K.cast(y_true*(1-y_pred), 'float'), axis=0)\n",
        "\n",
        "    p = tp / (tp + fp + K.epsilon())\n",
        "    r = tp / (tp + fn + K.epsilon())\n",
        "\n",
        "    f1 = 2*p*r / (p+r+K.epsilon())\n",
        "    f1 = tf.where(tf.math.is_nan(f1), tf.zeros_like(f1), f1)\n",
        "    return 1 - K.mean(f1)"
      ],
      "execution_count": 0,
      "outputs": []
    },
    {
      "cell_type": "code",
      "metadata": {
        "id": "FSzamE2yA_F2",
        "colab_type": "code",
        "outputId": "305dbd7d-0f02-4584-e79c-d61f4aa62796",
        "colab": {
          "base_uri": "https://localhost:8080/",
          "height": 459
        }
      },
      "source": [
        "input_m = Input(shape=(46,))\n",
        "encoded = Dense(128, activation='relu')(input_m)\n",
        "encoded = Dropout(0.5)(encoded)\n",
        "encoded = Dense(64, activation='relu')(encoded)\n",
        "encoded = Dense(32, activation='relu')(encoded)\n",
        "\n",
        "decoded = Dense(64, activation='relu')(encoded)\n",
        "decoded = Dropout(0.5)(decoded)\n",
        "decoded = Dense(128, activation='relu')(decoded)\n",
        "decoded = Dense(46, activation='relu')(decoded)\n",
        "\n",
        "autoencoder_matches = Model(input_m, decoded)\n",
        "autoencoder_matches.compile(optimizer='adam', loss=f1_loss,\n",
        "                            metrics=[tf.keras.metrics.Precision(),tf.keras.metrics.Recall()])\n",
        "autoencoder_matches.summary()"
      ],
      "execution_count": 0,
      "outputs": [
        {
          "output_type": "stream",
          "text": [
            "Model: \"model_7\"\n",
            "_________________________________________________________________\n",
            "Layer (type)                 Output Shape              Param #   \n",
            "=================================================================\n",
            "input_7 (InputLayer)         (None, 46)                0         \n",
            "_________________________________________________________________\n",
            "dense_41 (Dense)             (None, 128)               6016      \n",
            "_________________________________________________________________\n",
            "dropout_13 (Dropout)         (None, 128)               0         \n",
            "_________________________________________________________________\n",
            "dense_42 (Dense)             (None, 64)                8256      \n",
            "_________________________________________________________________\n",
            "dense_43 (Dense)             (None, 32)                2080      \n",
            "_________________________________________________________________\n",
            "dense_44 (Dense)             (None, 64)                2112      \n",
            "_________________________________________________________________\n",
            "dropout_14 (Dropout)         (None, 64)                0         \n",
            "_________________________________________________________________\n",
            "dense_45 (Dense)             (None, 128)               8320      \n",
            "_________________________________________________________________\n",
            "dense_46 (Dense)             (None, 46)                5934      \n",
            "=================================================================\n",
            "Total params: 32,718\n",
            "Trainable params: 32,718\n",
            "Non-trainable params: 0\n",
            "_________________________________________________________________\n"
          ],
          "name": "stdout"
        }
      ]
    },
    {
      "cell_type": "code",
      "metadata": {
        "id": "YSOcQkj5ZRVv",
        "colab_type": "code",
        "outputId": "2e390dd5-2cfe-4532-9f31-567b058b1286",
        "colab": {
          "base_uri": "https://localhost:8080/",
          "height": 527
        }
      },
      "source": [
        "input_m = Input(shape=(360,))\n",
        "encoded = Dense(128, activation='relu')(input_m)\n",
        "encoded = Dropout(0.5)(encoded)\n",
        "encoded = Dense(64, activation='relu')(encoded)\n",
        "#encoded = Dropout(0.5)(encoded)\n",
        "encoded = Dense(32, activation='relu')(encoded)\n",
        "encoded = Dense(16, activation='relu')(encoded)\n",
        "\n",
        "decoded = Dense(32, activation='relu')(encoded)\n",
        "#decoded = Dropout(0.5)(decoded)\n",
        "decoded = Dense(64, activation='relu')(decoded)\n",
        "decoded = Dense(128, activation='relu')(decoded)\n",
        "decoded = Dropout(0.5)(decoded)\n",
        "decoded = Dense(360, activation='relu')(decoded)\n",
        "\n",
        "autoencoder_players = Model(input_m, decoded)\n",
        "autoencoder_players.compile(optimizer='adam', loss=f1_loss,\n",
        "                            metrics=[tf.keras.metrics.Precision(),tf.keras.metrics.Recall()])\n",
        "autoencoder_players.summary()"
      ],
      "execution_count": 0,
      "outputs": [
        {
          "output_type": "stream",
          "text": [
            "Model: \"model_8\"\n",
            "_________________________________________________________________\n",
            "Layer (type)                 Output Shape              Param #   \n",
            "=================================================================\n",
            "input_8 (InputLayer)         (None, 360)               0         \n",
            "_________________________________________________________________\n",
            "dense_47 (Dense)             (None, 128)               46208     \n",
            "_________________________________________________________________\n",
            "dropout_15 (Dropout)         (None, 128)               0         \n",
            "_________________________________________________________________\n",
            "dense_48 (Dense)             (None, 64)                8256      \n",
            "_________________________________________________________________\n",
            "dense_49 (Dense)             (None, 32)                2080      \n",
            "_________________________________________________________________\n",
            "dense_50 (Dense)             (None, 16)                528       \n",
            "_________________________________________________________________\n",
            "dense_51 (Dense)             (None, 32)                544       \n",
            "_________________________________________________________________\n",
            "dense_52 (Dense)             (None, 64)                2112      \n",
            "_________________________________________________________________\n",
            "dense_53 (Dense)             (None, 128)               8320      \n",
            "_________________________________________________________________\n",
            "dropout_16 (Dropout)         (None, 128)               0         \n",
            "_________________________________________________________________\n",
            "dense_54 (Dense)             (None, 360)               46440     \n",
            "=================================================================\n",
            "Total params: 114,488\n",
            "Trainable params: 114,488\n",
            "Non-trainable params: 0\n",
            "_________________________________________________________________\n"
          ],
          "name": "stdout"
        }
      ]
    },
    {
      "cell_type": "code",
      "metadata": {
        "id": "Sgqp6XI6Y3VI",
        "colab_type": "code",
        "outputId": "55728dc4-878b-4557-b353-c3cc47c0c9ea",
        "colab": {
          "base_uri": "https://localhost:8080/",
          "height": 1000
        }
      },
      "source": [
        "history = autoencoder_matches.fit(x=matches_X_train, y=matches_X_train, validation_data=(matches_X_val,matches_X_val), batch_size=5, epochs=100)"
      ],
      "execution_count": 0,
      "outputs": [
        {
          "output_type": "stream",
          "text": [
            "Train on 141 samples, validate on 16 samples\n",
            "Epoch 1/100\n",
            "141/141 [==============================] - 0s 3ms/step - loss: 0.6971 - precision_4: 0.8181 - recall_4: 0.1747 - val_loss: 0.4695 - val_precision_4: 0.9441 - val_recall_4: 0.4519\n",
            "Epoch 2/100\n",
            "141/141 [==============================] - 0s 579us/step - loss: 0.4109 - precision_4: 0.9404 - recall_4: 0.5944 - val_loss: 0.3727 - val_precision_4: 0.9407 - val_recall_4: 0.6880\n",
            "Epoch 3/100\n",
            "141/141 [==============================] - 0s 458us/step - loss: 0.3492 - precision_4: 0.9402 - recall_4: 0.7440 - val_loss: 0.3376 - val_precision_4: 0.9412 - val_recall_4: 0.7878\n",
            "Epoch 4/100\n",
            "141/141 [==============================] - 0s 477us/step - loss: 0.3376 - precision_4: 0.9414 - recall_4: 0.8176 - val_loss: 0.3340 - val_precision_4: 0.9417 - val_recall_4: 0.8412\n",
            "Epoch 5/100\n",
            "141/141 [==============================] - 0s 545us/step - loss: 0.3368 - precision_4: 0.9418 - recall_4: 0.8586 - val_loss: 0.3319 - val_precision_4: 0.9419 - val_recall_4: 0.8731\n",
            "Epoch 6/100\n",
            "141/141 [==============================] - 0s 458us/step - loss: 0.3359 - precision_4: 0.9420 - recall_4: 0.8845 - val_loss: 0.3306 - val_precision_4: 0.9420 - val_recall_4: 0.8943\n",
            "Epoch 7/100\n",
            "141/141 [==============================] - 0s 458us/step - loss: 0.3338 - precision_4: 0.9418 - recall_4: 0.9024 - val_loss: 0.3297 - val_precision_4: 0.9421 - val_recall_4: 0.9095\n",
            "Epoch 8/100\n",
            "141/141 [==============================] - 0s 443us/step - loss: 0.3324 - precision_4: 0.9421 - recall_4: 0.9155 - val_loss: 0.3290 - val_precision_4: 0.9422 - val_recall_4: 0.9208\n",
            "Epoch 9/100\n",
            "141/141 [==============================] - 0s 496us/step - loss: 0.3336 - precision_4: 0.9422 - recall_4: 0.9255 - val_loss: 0.3285 - val_precision_4: 0.9423 - val_recall_4: 0.9297\n",
            "Epoch 10/100\n",
            "141/141 [==============================] - 0s 488us/step - loss: 0.3323 - precision_4: 0.9423 - recall_4: 0.9334 - val_loss: 0.3280 - val_precision_4: 0.9423 - val_recall_4: 0.9367\n",
            "Epoch 11/100\n",
            "141/141 [==============================] - 0s 470us/step - loss: 0.3306 - precision_4: 0.9424 - recall_4: 0.9397 - val_loss: 0.3276 - val_precision_4: 0.9423 - val_recall_4: 0.9425\n",
            "Epoch 12/100\n",
            "141/141 [==============================] - 0s 486us/step - loss: 0.3344 - precision_4: 0.9424 - recall_4: 0.9450 - val_loss: 0.3273 - val_precision_4: 0.9424 - val_recall_4: 0.9473\n",
            "Epoch 13/100\n",
            "141/141 [==============================] - 0s 413us/step - loss: 0.3314 - precision_4: 0.9425 - recall_4: 0.9494 - val_loss: 0.3270 - val_precision_4: 0.9424 - val_recall_4: 0.9513\n",
            "Epoch 14/100\n",
            "141/141 [==============================] - 0s 514us/step - loss: 0.3306 - precision_4: 0.9423 - recall_4: 0.9531 - val_loss: 0.3268 - val_precision_4: 0.9424 - val_recall_4: 0.9548\n",
            "Epoch 15/100\n",
            "141/141 [==============================] - 0s 414us/step - loss: 0.3309 - precision_4: 0.9424 - recall_4: 0.9564 - val_loss: 0.3265 - val_precision_4: 0.9424 - val_recall_4: 0.9578\n",
            "Epoch 16/100\n",
            "141/141 [==============================] - 0s 478us/step - loss: 0.3307 - precision_4: 0.9425 - recall_4: 0.9592 - val_loss: 0.3263 - val_precision_4: 0.9425 - val_recall_4: 0.9605\n",
            "Epoch 17/100\n",
            "141/141 [==============================] - 0s 504us/step - loss: 0.3287 - precision_4: 0.9424 - recall_4: 0.9617 - val_loss: 0.3261 - val_precision_4: 0.9425 - val_recall_4: 0.9628\n",
            "Epoch 18/100\n",
            "141/141 [==============================] - 0s 566us/step - loss: 0.3303 - precision_4: 0.9425 - recall_4: 0.9639 - val_loss: 0.3259 - val_precision_4: 0.9425 - val_recall_4: 0.9649\n",
            "Epoch 19/100\n",
            "141/141 [==============================] - 0s 591us/step - loss: 0.3303 - precision_4: 0.9424 - recall_4: 0.9658 - val_loss: 0.3257 - val_precision_4: 0.9425 - val_recall_4: 0.9667\n",
            "Epoch 20/100\n",
            "141/141 [==============================] - 0s 480us/step - loss: 0.3275 - precision_4: 0.9424 - recall_4: 0.9676 - val_loss: 0.3255 - val_precision_4: 0.9425 - val_recall_4: 0.9684\n",
            "Epoch 21/100\n",
            "141/141 [==============================] - 0s 504us/step - loss: 0.3261 - precision_4: 0.9424 - recall_4: 0.9692 - val_loss: 0.3253 - val_precision_4: 0.9425 - val_recall_4: 0.9699\n",
            "Epoch 22/100\n",
            "141/141 [==============================] - 0s 499us/step - loss: 0.3296 - precision_4: 0.9425 - recall_4: 0.9706 - val_loss: 0.3250 - val_precision_4: 0.9425 - val_recall_4: 0.9713\n",
            "Epoch 23/100\n",
            "141/141 [==============================] - 0s 455us/step - loss: 0.3290 - precision_4: 0.9426 - recall_4: 0.9719 - val_loss: 0.3246 - val_precision_4: 0.9425 - val_recall_4: 0.9725\n",
            "Epoch 24/100\n",
            "141/141 [==============================] - 0s 488us/step - loss: 0.3292 - precision_4: 0.9425 - recall_4: 0.9731 - val_loss: 0.3243 - val_precision_4: 0.9425 - val_recall_4: 0.9737\n",
            "Epoch 25/100\n",
            "141/141 [==============================] - 0s 458us/step - loss: 0.3295 - precision_4: 0.9426 - recall_4: 0.9742 - val_loss: 0.3239 - val_precision_4: 0.9425 - val_recall_4: 0.9747\n",
            "Epoch 26/100\n",
            "141/141 [==============================] - 0s 549us/step - loss: 0.3270 - precision_4: 0.9425 - recall_4: 0.9752 - val_loss: 0.3233 - val_precision_4: 0.9425 - val_recall_4: 0.9757\n",
            "Epoch 27/100\n",
            "141/141 [==============================] - 0s 556us/step - loss: 0.3270 - precision_4: 0.9425 - recall_4: 0.9761 - val_loss: 0.3226 - val_precision_4: 0.9425 - val_recall_4: 0.9766\n",
            "Epoch 28/100\n",
            "141/141 [==============================] - 0s 464us/step - loss: 0.3250 - precision_4: 0.9425 - recall_4: 0.9770 - val_loss: 0.3218 - val_precision_4: 0.9426 - val_recall_4: 0.9774\n",
            "Epoch 29/100\n",
            "141/141 [==============================] - 0s 477us/step - loss: 0.3241 - precision_4: 0.9426 - recall_4: 0.9778 - val_loss: 0.3193 - val_precision_4: 0.9426 - val_recall_4: 0.9782\n",
            "Epoch 30/100\n",
            "141/141 [==============================] - 0s 530us/step - loss: 0.3215 - precision_4: 0.9426 - recall_4: 0.9786 - val_loss: 0.3158 - val_precision_4: 0.9426 - val_recall_4: 0.9789\n",
            "Epoch 31/100\n",
            "141/141 [==============================] - 0s 503us/step - loss: 0.3212 - precision_4: 0.9426 - recall_4: 0.9793 - val_loss: 0.3131 - val_precision_4: 0.9426 - val_recall_4: 0.9796\n",
            "Epoch 32/100\n",
            "141/141 [==============================] - 0s 503us/step - loss: 0.3219 - precision_4: 0.9426 - recall_4: 0.9799 - val_loss: 0.3122 - val_precision_4: 0.9426 - val_recall_4: 0.9801\n",
            "Epoch 33/100\n",
            "141/141 [==============================] - 0s 548us/step - loss: 0.3170 - precision_4: 0.9425 - recall_4: 0.9804 - val_loss: 0.3107 - val_precision_4: 0.9426 - val_recall_4: 0.9807\n",
            "Epoch 34/100\n",
            "141/141 [==============================] - 0s 470us/step - loss: 0.3096 - precision_4: 0.9426 - recall_4: 0.9809 - val_loss: 0.3122 - val_precision_4: 0.9426 - val_recall_4: 0.9812\n",
            "Epoch 35/100\n",
            "141/141 [==============================] - 0s 484us/step - loss: 0.3034 - precision_4: 0.9426 - recall_4: 0.9813 - val_loss: 0.3106 - val_precision_4: 0.9426 - val_recall_4: 0.9814\n",
            "Epoch 36/100\n",
            "141/141 [==============================] - 0s 477us/step - loss: 0.3105 - precision_4: 0.9426 - recall_4: 0.9816 - val_loss: 0.3076 - val_precision_4: 0.9426 - val_recall_4: 0.9818\n",
            "Epoch 37/100\n",
            "141/141 [==============================] - 0s 490us/step - loss: 0.3131 - precision_4: 0.9426 - recall_4: 0.9820 - val_loss: 0.3064 - val_precision_4: 0.9426 - val_recall_4: 0.9822\n",
            "Epoch 38/100\n",
            "141/141 [==============================] - 0s 463us/step - loss: 0.3033 - precision_4: 0.9427 - recall_4: 0.9823 - val_loss: 0.3091 - val_precision_4: 0.9427 - val_recall_4: 0.9822\n",
            "Epoch 39/100\n",
            "141/141 [==============================] - 0s 547us/step - loss: 0.3062 - precision_4: 0.9427 - recall_4: 0.9821 - val_loss: 0.3084 - val_precision_4: 0.9428 - val_recall_4: 0.9821\n",
            "Epoch 40/100\n",
            "141/141 [==============================] - 0s 508us/step - loss: 0.2940 - precision_4: 0.9429 - recall_4: 0.9822 - val_loss: 0.3102 - val_precision_4: 0.9429 - val_recall_4: 0.9822\n",
            "Epoch 41/100\n",
            "141/141 [==============================] - 0s 475us/step - loss: 0.3086 - precision_4: 0.9430 - recall_4: 0.9820 - val_loss: 0.3077 - val_precision_4: 0.9430 - val_recall_4: 0.9817\n",
            "Epoch 42/100\n",
            "141/141 [==============================] - 0s 426us/step - loss: 0.2960 - precision_4: 0.9432 - recall_4: 0.9814 - val_loss: 0.3007 - val_precision_4: 0.9433 - val_recall_4: 0.9812\n",
            "Epoch 43/100\n",
            "141/141 [==============================] - 0s 734us/step - loss: 0.2969 - precision_4: 0.9435 - recall_4: 0.9809 - val_loss: 0.3001 - val_precision_4: 0.9436 - val_recall_4: 0.9807\n",
            "Epoch 44/100\n",
            "141/141 [==============================] - 0s 458us/step - loss: 0.2911 - precision_4: 0.9438 - recall_4: 0.9803 - val_loss: 0.2989 - val_precision_4: 0.9440 - val_recall_4: 0.9799\n",
            "Epoch 45/100\n",
            "141/141 [==============================] - 0s 493us/step - loss: 0.2916 - precision_4: 0.9442 - recall_4: 0.9796 - val_loss: 0.3030 - val_precision_4: 0.9444 - val_recall_4: 0.9789\n",
            "Epoch 46/100\n",
            "141/141 [==============================] - 0s 468us/step - loss: 0.2857 - precision_4: 0.9446 - recall_4: 0.9782 - val_loss: 0.3362 - val_precision_4: 0.9448 - val_recall_4: 0.9771\n",
            "Epoch 47/100\n",
            "141/141 [==============================] - 0s 503us/step - loss: 0.2942 - precision_4: 0.9449 - recall_4: 0.9763 - val_loss: 0.2978 - val_precision_4: 0.9450 - val_recall_4: 0.9757\n",
            "Epoch 48/100\n",
            "141/141 [==============================] - 0s 424us/step - loss: 0.2913 - precision_4: 0.9451 - recall_4: 0.9753 - val_loss: 0.3049 - val_precision_4: 0.9452 - val_recall_4: 0.9749\n",
            "Epoch 49/100\n",
            "141/141 [==============================] - 0s 445us/step - loss: 0.2856 - precision_4: 0.9454 - recall_4: 0.9745 - val_loss: 0.2969 - val_precision_4: 0.9455 - val_recall_4: 0.9741\n",
            "Epoch 50/100\n",
            "141/141 [==============================] - 0s 486us/step - loss: 0.2891 - precision_4: 0.9457 - recall_4: 0.9736 - val_loss: 0.2958 - val_precision_4: 0.9458 - val_recall_4: 0.9732\n",
            "Epoch 51/100\n",
            "141/141 [==============================] - 0s 543us/step - loss: 0.2891 - precision_4: 0.9460 - recall_4: 0.9727 - val_loss: 0.2972 - val_precision_4: 0.9462 - val_recall_4: 0.9722\n",
            "Epoch 52/100\n",
            "141/141 [==============================] - 0s 484us/step - loss: 0.2756 - precision_4: 0.9463 - recall_4: 0.9715 - val_loss: 0.3236 - val_precision_4: 0.9465 - val_recall_4: 0.9705\n",
            "Epoch 53/100\n",
            "141/141 [==============================] - 0s 448us/step - loss: 0.2917 - precision_4: 0.9466 - recall_4: 0.9698 - val_loss: 0.2936 - val_precision_4: 0.9468 - val_recall_4: 0.9692\n",
            "Epoch 54/100\n",
            "141/141 [==============================] - 0s 469us/step - loss: 0.2908 - precision_4: 0.9469 - recall_4: 0.9689 - val_loss: 0.2924 - val_precision_4: 0.9471 - val_recall_4: 0.9686\n",
            "Epoch 55/100\n",
            "141/141 [==============================] - 0s 541us/step - loss: 0.2801 - precision_4: 0.9472 - recall_4: 0.9683 - val_loss: 0.2947 - val_precision_4: 0.9474 - val_recall_4: 0.9680\n",
            "Epoch 56/100\n",
            "141/141 [==============================] - 0s 483us/step - loss: 0.2778 - precision_4: 0.9475 - recall_4: 0.9676 - val_loss: 0.2917 - val_precision_4: 0.9476 - val_recall_4: 0.9673\n",
            "Epoch 57/100\n",
            "141/141 [==============================] - 0s 644us/step - loss: 0.2745 - precision_4: 0.9478 - recall_4: 0.9670 - val_loss: 0.2975 - val_precision_4: 0.9479 - val_recall_4: 0.9666\n",
            "Epoch 58/100\n",
            "141/141 [==============================] - 0s 521us/step - loss: 0.2882 - precision_4: 0.9481 - recall_4: 0.9661 - val_loss: 0.2924 - val_precision_4: 0.9482 - val_recall_4: 0.9657\n",
            "Epoch 59/100\n",
            "141/141 [==============================] - 0s 460us/step - loss: 0.2909 - precision_4: 0.9484 - recall_4: 0.9652 - val_loss: 0.2910 - val_precision_4: 0.9485 - val_recall_4: 0.9648\n",
            "Epoch 60/100\n",
            "141/141 [==============================] - 0s 458us/step - loss: 0.2792 - precision_4: 0.9487 - recall_4: 0.9643 - val_loss: 0.2936 - val_precision_4: 0.9488 - val_recall_4: 0.9639\n",
            "Epoch 61/100\n",
            "141/141 [==============================] - 0s 499us/step - loss: 0.2668 - precision_4: 0.9490 - recall_4: 0.9631 - val_loss: 0.2969 - val_precision_4: 0.9491 - val_recall_4: 0.9621\n",
            "Epoch 62/100\n",
            "141/141 [==============================] - 0s 473us/step - loss: 0.2742 - precision_4: 0.9492 - recall_4: 0.9613 - val_loss: 0.2924 - val_precision_4: 0.9494 - val_recall_4: 0.9604\n",
            "Epoch 63/100\n",
            "141/141 [==============================] - 0s 508us/step - loss: 0.2779 - precision_4: 0.9495 - recall_4: 0.9595 - val_loss: 0.2904 - val_precision_4: 0.9496 - val_recall_4: 0.9588\n",
            "Epoch 64/100\n",
            "141/141 [==============================] - 0s 565us/step - loss: 0.2767 - precision_4: 0.9497 - recall_4: 0.9581 - val_loss: 0.2851 - val_precision_4: 0.9498 - val_recall_4: 0.9574\n",
            "Epoch 65/100\n",
            "141/141 [==============================] - 0s 579us/step - loss: 0.2841 - precision_4: 0.9499 - recall_4: 0.9568 - val_loss: 0.2875 - val_precision_4: 0.9499 - val_recall_4: 0.9564\n",
            "Epoch 66/100\n",
            "141/141 [==============================] - 0s 547us/step - loss: 0.2702 - precision_4: 0.9500 - recall_4: 0.9562 - val_loss: 0.2872 - val_precision_4: 0.9500 - val_recall_4: 0.9560\n",
            "Epoch 67/100\n",
            "141/141 [==============================] - 0s 526us/step - loss: 0.2743 - precision_4: 0.9501 - recall_4: 0.9555 - val_loss: 0.2885 - val_precision_4: 0.9502 - val_recall_4: 0.9551\n",
            "Epoch 68/100\n",
            "141/141 [==============================] - 0s 570us/step - loss: 0.2678 - precision_4: 0.9502 - recall_4: 0.9548 - val_loss: 0.2853 - val_precision_4: 0.9503 - val_recall_4: 0.9544\n",
            "Epoch 69/100\n",
            "141/141 [==============================] - 0s 558us/step - loss: 0.2833 - precision_4: 0.9504 - recall_4: 0.9539 - val_loss: 0.2842 - val_precision_4: 0.9505 - val_recall_4: 0.9534\n",
            "Epoch 70/100\n",
            "141/141 [==============================] - 0s 514us/step - loss: 0.2635 - precision_4: 0.9505 - recall_4: 0.9530 - val_loss: 0.2815 - val_precision_4: 0.9506 - val_recall_4: 0.9525\n",
            "Epoch 71/100\n",
            "141/141 [==============================] - 0s 471us/step - loss: 0.2766 - precision_4: 0.9507 - recall_4: 0.9519 - val_loss: 0.2865 - val_precision_4: 0.9507 - val_recall_4: 0.9512\n",
            "Epoch 72/100\n",
            "141/141 [==============================] - 0s 415us/step - loss: 0.2640 - precision_4: 0.9508 - recall_4: 0.9503 - val_loss: 0.2793 - val_precision_4: 0.9509 - val_recall_4: 0.9495\n",
            "Epoch 73/100\n",
            "141/141 [==============================] - 0s 430us/step - loss: 0.2691 - precision_4: 0.9510 - recall_4: 0.9485 - val_loss: 0.2784 - val_precision_4: 0.9510 - val_recall_4: 0.9476\n",
            "Epoch 74/100\n",
            "141/141 [==============================] - 0s 408us/step - loss: 0.2636 - precision_4: 0.9511 - recall_4: 0.9467 - val_loss: 0.2822 - val_precision_4: 0.9511 - val_recall_4: 0.9458\n",
            "Epoch 75/100\n",
            "141/141 [==============================] - 0s 525us/step - loss: 0.2453 - precision_4: 0.9512 - recall_4: 0.9448 - val_loss: 0.2777 - val_precision_4: 0.9512 - val_recall_4: 0.9440\n",
            "Epoch 76/100\n",
            "141/141 [==============================] - 0s 447us/step - loss: 0.2688 - precision_4: 0.9513 - recall_4: 0.9430 - val_loss: 0.2848 - val_precision_4: 0.9513 - val_recall_4: 0.9420\n",
            "Epoch 77/100\n",
            "141/141 [==============================] - 0s 447us/step - loss: 0.2659 - precision_4: 0.9514 - recall_4: 0.9414 - val_loss: 0.2750 - val_precision_4: 0.9514 - val_recall_4: 0.9407\n",
            "Epoch 78/100\n",
            "141/141 [==============================] - 0s 490us/step - loss: 0.2704 - precision_4: 0.9514 - recall_4: 0.9399 - val_loss: 0.2771 - val_precision_4: 0.9515 - val_recall_4: 0.9391\n",
            "Epoch 79/100\n",
            "141/141 [==============================] - 0s 434us/step - loss: 0.2793 - precision_4: 0.9515 - recall_4: 0.9384 - val_loss: 0.2811 - val_precision_4: 0.9516 - val_recall_4: 0.9378\n",
            "Epoch 80/100\n",
            "141/141 [==============================] - 0s 467us/step - loss: 0.2613 - precision_4: 0.9516 - recall_4: 0.9372 - val_loss: 0.2823 - val_precision_4: 0.9517 - val_recall_4: 0.9365\n",
            "Epoch 81/100\n",
            "141/141 [==============================] - 0s 445us/step - loss: 0.2642 - precision_4: 0.9517 - recall_4: 0.9356 - val_loss: 0.2828 - val_precision_4: 0.9518 - val_recall_4: 0.9349\n",
            "Epoch 82/100\n",
            "141/141 [==============================] - 0s 409us/step - loss: 0.2666 - precision_4: 0.9518 - recall_4: 0.9342 - val_loss: 0.2926 - val_precision_4: 0.9519 - val_recall_4: 0.9335\n",
            "Epoch 83/100\n",
            "141/141 [==============================] - 0s 413us/step - loss: 0.2611 - precision_4: 0.9519 - recall_4: 0.9327 - val_loss: 0.2857 - val_precision_4: 0.9520 - val_recall_4: 0.9317\n",
            "Epoch 84/100\n",
            "141/141 [==============================] - 0s 429us/step - loss: 0.2553 - precision_4: 0.9520 - recall_4: 0.9308 - val_loss: 0.2781 - val_precision_4: 0.9521 - val_recall_4: 0.9300\n",
            "Epoch 85/100\n",
            "141/141 [==============================] - 0s 553us/step - loss: 0.2594 - precision_4: 0.9521 - recall_4: 0.9291 - val_loss: 0.2759 - val_precision_4: 0.9522 - val_recall_4: 0.9284\n",
            "Epoch 86/100\n",
            "141/141 [==============================] - 0s 472us/step - loss: 0.2699 - precision_4: 0.9523 - recall_4: 0.9276 - val_loss: 0.2656 - val_precision_4: 0.9523 - val_recall_4: 0.9272\n",
            "Epoch 87/100\n",
            "141/141 [==============================] - 0s 471us/step - loss: 0.2607 - precision_4: 0.9524 - recall_4: 0.9269 - val_loss: 0.2701 - val_precision_4: 0.9525 - val_recall_4: 0.9265\n",
            "Epoch 88/100\n",
            "141/141 [==============================] - 0s 478us/step - loss: 0.2598 - precision_4: 0.9525 - recall_4: 0.9261 - val_loss: 0.2833 - val_precision_4: 0.9525 - val_recall_4: 0.9256\n",
            "Epoch 89/100\n",
            "141/141 [==============================] - 0s 421us/step - loss: 0.2548 - precision_4: 0.9526 - recall_4: 0.9251 - val_loss: 0.2892 - val_precision_4: 0.9526 - val_recall_4: 0.9245\n",
            "Epoch 90/100\n",
            "141/141 [==============================] - 0s 456us/step - loss: 0.2676 - precision_4: 0.9527 - recall_4: 0.9239 - val_loss: 0.2767 - val_precision_4: 0.9527 - val_recall_4: 0.9235\n",
            "Epoch 91/100\n",
            "141/141 [==============================] - 0s 455us/step - loss: 0.2661 - precision_4: 0.9528 - recall_4: 0.9230 - val_loss: 0.2696 - val_precision_4: 0.9529 - val_recall_4: 0.9227\n",
            "Epoch 92/100\n",
            "141/141 [==============================] - 0s 484us/step - loss: 0.2602 - precision_4: 0.9529 - recall_4: 0.9223 - val_loss: 0.2726 - val_precision_4: 0.9529 - val_recall_4: 0.9219\n",
            "Epoch 93/100\n",
            "141/141 [==============================] - 0s 436us/step - loss: 0.2743 - precision_4: 0.9530 - recall_4: 0.9214 - val_loss: 0.2690 - val_precision_4: 0.9530 - val_recall_4: 0.9210\n",
            "Epoch 94/100\n",
            "141/141 [==============================] - 0s 446us/step - loss: 0.2663 - precision_4: 0.9531 - recall_4: 0.9205 - val_loss: 0.2753 - val_precision_4: 0.9531 - val_recall_4: 0.9199\n",
            "Epoch 95/100\n",
            "141/141 [==============================] - 0s 479us/step - loss: 0.2652 - precision_4: 0.9531 - recall_4: 0.9194 - val_loss: 0.2758 - val_precision_4: 0.9532 - val_recall_4: 0.9188\n",
            "Epoch 96/100\n",
            "141/141 [==============================] - 0s 414us/step - loss: 0.2599 - precision_4: 0.9532 - recall_4: 0.9182 - val_loss: 0.2820 - val_precision_4: 0.9533 - val_recall_4: 0.9175\n",
            "Epoch 97/100\n",
            "141/141 [==============================] - 0s 468us/step - loss: 0.2610 - precision_4: 0.9533 - recall_4: 0.9166 - val_loss: 0.2817 - val_precision_4: 0.9534 - val_recall_4: 0.9158\n",
            "Epoch 98/100\n",
            "141/141 [==============================] - 0s 469us/step - loss: 0.2561 - precision_4: 0.9534 - recall_4: 0.9148 - val_loss: 0.2789 - val_precision_4: 0.9534 - val_recall_4: 0.9137\n",
            "Epoch 99/100\n",
            "141/141 [==============================] - 0s 408us/step - loss: 0.2507 - precision_4: 0.9535 - recall_4: 0.9131 - val_loss: 0.2683 - val_precision_4: 0.9535 - val_recall_4: 0.9127\n",
            "Epoch 100/100\n",
            "141/141 [==============================] - 0s 523us/step - loss: 0.2555 - precision_4: 0.9536 - recall_4: 0.9122 - val_loss: 0.2746 - val_precision_4: 0.9536 - val_recall_4: 0.9118\n"
          ],
          "name": "stdout"
        }
      ]
    },
    {
      "cell_type": "code",
      "metadata": {
        "id": "f1ZJt0MWZEnL",
        "colab_type": "code",
        "outputId": "132df417-a6d2-4c5f-8601-29490a30f723",
        "colab": {
          "base_uri": "https://localhost:8080/",
          "height": 1000
        }
      },
      "source": [
        "history_players = autoencoder_players.fit(x=players_X_train, y=players_X_train, validation_data=(players_X_val,players_X_val), batch_size=5, epochs=100)"
      ],
      "execution_count": 0,
      "outputs": [
        {
          "output_type": "stream",
          "text": [
            "Train on 141 samples, validate on 16 samples\n",
            "Epoch 1/100\n",
            "141/141 [==============================] - 0s 3ms/step - loss: 0.8883 - precision_5: 0.5160 - recall_5: 0.1106 - val_loss: 0.7733 - val_precision_5: 0.5571 - val_recall_5: 0.3699\n",
            "Epoch 2/100\n",
            "141/141 [==============================] - 0s 678us/step - loss: 0.7415 - precision_5: 0.5487 - recall_5: 0.5215 - val_loss: 0.7407 - val_precision_5: 0.5494 - val_recall_5: 0.6208\n",
            "Epoch 3/100\n",
            "141/141 [==============================] - 0s 742us/step - loss: 0.7325 - precision_5: 0.5491 - recall_5: 0.6734 - val_loss: 0.7392 - val_precision_5: 0.5478 - val_recall_5: 0.7132\n",
            "Epoch 4/100\n",
            "141/141 [==============================] - 0s 713us/step - loss: 0.7329 - precision_5: 0.5481 - recall_5: 0.7384 - val_loss: 0.7377 - val_precision_5: 0.5470 - val_recall_5: 0.7600\n",
            "Epoch 5/100\n",
            "141/141 [==============================] - 0s 715us/step - loss: 0.7291 - precision_5: 0.5464 - recall_5: 0.7759 - val_loss: 0.7376 - val_precision_5: 0.5467 - val_recall_5: 0.7898\n",
            "Epoch 6/100\n",
            "141/141 [==============================] - 0s 749us/step - loss: 0.7303 - precision_5: 0.5469 - recall_5: 0.8007 - val_loss: 0.7373 - val_precision_5: 0.5466 - val_recall_5: 0.8100\n",
            "Epoch 7/100\n",
            "141/141 [==============================] - 0s 770us/step - loss: 0.7308 - precision_5: 0.5464 - recall_5: 0.8173 - val_loss: 0.7370 - val_precision_5: 0.5465 - val_recall_5: 0.8239\n",
            "Epoch 8/100\n",
            "141/141 [==============================] - 0s 753us/step - loss: 0.7297 - precision_5: 0.5458 - recall_5: 0.8294 - val_loss: 0.7370 - val_precision_5: 0.5458 - val_recall_5: 0.8345\n",
            "Epoch 9/100\n",
            "141/141 [==============================] - 0s 690us/step - loss: 0.7297 - precision_5: 0.5456 - recall_5: 0.8386 - val_loss: 0.7377 - val_precision_5: 0.5451 - val_recall_5: 0.8427\n",
            "Epoch 10/100\n",
            "141/141 [==============================] - 0s 689us/step - loss: 0.7298 - precision_5: 0.5449 - recall_5: 0.8461 - val_loss: 0.7376 - val_precision_5: 0.5441 - val_recall_5: 0.8494\n",
            "Epoch 11/100\n",
            "141/141 [==============================] - 0s 662us/step - loss: 0.7293 - precision_5: 0.5440 - recall_5: 0.8524 - val_loss: 0.7375 - val_precision_5: 0.5432 - val_recall_5: 0.8554\n",
            "Epoch 12/100\n",
            "141/141 [==============================] - 0s 662us/step - loss: 0.7276 - precision_5: 0.5426 - recall_5: 0.8580 - val_loss: 0.7364 - val_precision_5: 0.5423 - val_recall_5: 0.8605\n",
            "Epoch 13/100\n",
            "141/141 [==============================] - 0s 700us/step - loss: 0.7279 - precision_5: 0.5421 - recall_5: 0.8626 - val_loss: 0.7368 - val_precision_5: 0.5417 - val_recall_5: 0.8648\n",
            "Epoch 14/100\n",
            "141/141 [==============================] - 0s 712us/step - loss: 0.7288 - precision_5: 0.5416 - recall_5: 0.8667 - val_loss: 0.7367 - val_precision_5: 0.5413 - val_recall_5: 0.8685\n",
            "Epoch 15/100\n",
            "141/141 [==============================] - 0s 698us/step - loss: 0.7282 - precision_5: 0.5410 - recall_5: 0.8700 - val_loss: 0.7375 - val_precision_5: 0.5408 - val_recall_5: 0.8714\n",
            "Epoch 16/100\n",
            "141/141 [==============================] - 0s 680us/step - loss: 0.7281 - precision_5: 0.5404 - recall_5: 0.8727 - val_loss: 0.7360 - val_precision_5: 0.5403 - val_recall_5: 0.8742\n",
            "Epoch 17/100\n",
            "141/141 [==============================] - 0s 658us/step - loss: 0.7289 - precision_5: 0.5399 - recall_5: 0.8755 - val_loss: 0.7369 - val_precision_5: 0.5399 - val_recall_5: 0.8767\n",
            "Epoch 18/100\n",
            "141/141 [==============================] - 0s 661us/step - loss: 0.7275 - precision_5: 0.5398 - recall_5: 0.8777 - val_loss: 0.7375 - val_precision_5: 0.5396 - val_recall_5: 0.8785\n",
            "Epoch 19/100\n",
            "141/141 [==============================] - 0s 729us/step - loss: 0.7284 - precision_5: 0.5395 - recall_5: 0.8794 - val_loss: 0.7364 - val_precision_5: 0.5392 - val_recall_5: 0.8804\n",
            "Epoch 20/100\n",
            "141/141 [==============================] - 0s 689us/step - loss: 0.7282 - precision_5: 0.5391 - recall_5: 0.8811 - val_loss: 0.7366 - val_precision_5: 0.5389 - val_recall_5: 0.8819\n",
            "Epoch 21/100\n",
            "141/141 [==============================] - 0s 623us/step - loss: 0.7275 - precision_5: 0.5388 - recall_5: 0.8827 - val_loss: 0.7369 - val_precision_5: 0.5387 - val_recall_5: 0.8835\n",
            "Epoch 22/100\n",
            "141/141 [==============================] - 0s 663us/step - loss: 0.7283 - precision_5: 0.5386 - recall_5: 0.8840 - val_loss: 0.7379 - val_precision_5: 0.5385 - val_recall_5: 0.8845\n",
            "Epoch 23/100\n",
            "141/141 [==============================] - 0s 667us/step - loss: 0.7285 - precision_5: 0.5383 - recall_5: 0.8848 - val_loss: 0.7370 - val_precision_5: 0.5383 - val_recall_5: 0.8853\n",
            "Epoch 24/100\n",
            "141/141 [==============================] - 0s 747us/step - loss: 0.7280 - precision_5: 0.5381 - recall_5: 0.8858 - val_loss: 0.7369 - val_precision_5: 0.5380 - val_recall_5: 0.8863\n",
            "Epoch 25/100\n",
            "141/141 [==============================] - 0s 659us/step - loss: 0.7273 - precision_5: 0.5380 - recall_5: 0.8868 - val_loss: 0.7380 - val_precision_5: 0.5378 - val_recall_5: 0.8875\n",
            "Epoch 26/100\n",
            "141/141 [==============================] - 0s 715us/step - loss: 0.7273 - precision_5: 0.5375 - recall_5: 0.8878 - val_loss: 0.7358 - val_precision_5: 0.5375 - val_recall_5: 0.8884\n",
            "Epoch 27/100\n",
            "141/141 [==============================] - 0s 688us/step - loss: 0.7269 - precision_5: 0.5372 - recall_5: 0.8889 - val_loss: 0.7366 - val_precision_5: 0.5371 - val_recall_5: 0.8894\n",
            "Epoch 28/100\n",
            "141/141 [==============================] - 0s 649us/step - loss: 0.7275 - precision_5: 0.5370 - recall_5: 0.8898 - val_loss: 0.7360 - val_precision_5: 0.5368 - val_recall_5: 0.8903\n",
            "Epoch 29/100\n",
            "141/141 [==============================] - 0s 650us/step - loss: 0.7266 - precision_5: 0.5367 - recall_5: 0.8908 - val_loss: 0.7355 - val_precision_5: 0.5366 - val_recall_5: 0.8914\n",
            "Epoch 30/100\n",
            "141/141 [==============================] - 0s 659us/step - loss: 0.7266 - precision_5: 0.5364 - recall_5: 0.8919 - val_loss: 0.7352 - val_precision_5: 0.5364 - val_recall_5: 0.8924\n",
            "Epoch 31/100\n",
            "141/141 [==============================] - 0s 635us/step - loss: 0.7270 - precision_5: 0.5362 - recall_5: 0.8929 - val_loss: 0.7345 - val_precision_5: 0.5361 - val_recall_5: 0.8934\n",
            "Epoch 32/100\n",
            "141/141 [==============================] - 0s 704us/step - loss: 0.7261 - precision_5: 0.5360 - recall_5: 0.8939 - val_loss: 0.7341 - val_precision_5: 0.5360 - val_recall_5: 0.8944\n",
            "Epoch 33/100\n",
            "141/141 [==============================] - 0s 628us/step - loss: 0.7253 - precision_5: 0.5359 - recall_5: 0.8949 - val_loss: 0.7353 - val_precision_5: 0.5358 - val_recall_5: 0.8954\n",
            "Epoch 34/100\n",
            "141/141 [==============================] - 0s 699us/step - loss: 0.7241 - precision_5: 0.5356 - recall_5: 0.8957 - val_loss: 0.7330 - val_precision_5: 0.5356 - val_recall_5: 0.8961\n",
            "Epoch 35/100\n",
            "141/141 [==============================] - 0s 668us/step - loss: 0.7247 - precision_5: 0.5354 - recall_5: 0.8964 - val_loss: 0.7317 - val_precision_5: 0.5355 - val_recall_5: 0.8967\n",
            "Epoch 36/100\n",
            "141/141 [==============================] - 0s 662us/step - loss: 0.7222 - precision_5: 0.5354 - recall_5: 0.8970 - val_loss: 0.7308 - val_precision_5: 0.5355 - val_recall_5: 0.8971\n",
            "Epoch 37/100\n",
            "141/141 [==============================] - 0s 638us/step - loss: 0.7221 - precision_5: 0.5355 - recall_5: 0.8969 - val_loss: 0.7307 - val_precision_5: 0.5356 - val_recall_5: 0.8969\n",
            "Epoch 38/100\n",
            "141/141 [==============================] - 0s 647us/step - loss: 0.7220 - precision_5: 0.5356 - recall_5: 0.8970 - val_loss: 0.7293 - val_precision_5: 0.5356 - val_recall_5: 0.8971\n",
            "Epoch 39/100\n",
            "141/141 [==============================] - 0s 672us/step - loss: 0.7239 - precision_5: 0.5356 - recall_5: 0.8974 - val_loss: 0.7293 - val_precision_5: 0.5356 - val_recall_5: 0.8975\n",
            "Epoch 40/100\n",
            "141/141 [==============================] - 0s 763us/step - loss: 0.7209 - precision_5: 0.5353 - recall_5: 0.8980 - val_loss: 0.7299 - val_precision_5: 0.5352 - val_recall_5: 0.8986\n",
            "Epoch 41/100\n",
            "141/141 [==============================] - 0s 664us/step - loss: 0.7193 - precision_5: 0.5352 - recall_5: 0.8991 - val_loss: 0.7301 - val_precision_5: 0.5349 - val_recall_5: 0.8995\n",
            "Epoch 42/100\n",
            "141/141 [==============================] - 0s 669us/step - loss: 0.7201 - precision_5: 0.5348 - recall_5: 0.8999 - val_loss: 0.7306 - val_precision_5: 0.5346 - val_recall_5: 0.9003\n",
            "Epoch 43/100\n",
            "141/141 [==============================] - 0s 636us/step - loss: 0.7230 - precision_5: 0.5345 - recall_5: 0.9006 - val_loss: 0.7309 - val_precision_5: 0.5343 - val_recall_5: 0.9011\n",
            "Epoch 44/100\n",
            "141/141 [==============================] - 0s 654us/step - loss: 0.7193 - precision_5: 0.5341 - recall_5: 0.9014 - val_loss: 0.7294 - val_precision_5: 0.5341 - val_recall_5: 0.9018\n",
            "Epoch 45/100\n",
            "141/141 [==============================] - 0s 704us/step - loss: 0.7188 - precision_5: 0.5339 - recall_5: 0.9023 - val_loss: 0.7279 - val_precision_5: 0.5338 - val_recall_5: 0.9028\n",
            "Epoch 46/100\n",
            "141/141 [==============================] - 0s 708us/step - loss: 0.7175 - precision_5: 0.5337 - recall_5: 0.9033 - val_loss: 0.7273 - val_precision_5: 0.5336 - val_recall_5: 0.9037\n",
            "Epoch 47/100\n",
            "141/141 [==============================] - 0s 651us/step - loss: 0.7174 - precision_5: 0.5335 - recall_5: 0.9042 - val_loss: 0.7284 - val_precision_5: 0.5333 - val_recall_5: 0.9047\n",
            "Epoch 48/100\n",
            "141/141 [==============================] - 0s 676us/step - loss: 0.7197 - precision_5: 0.5332 - recall_5: 0.9051 - val_loss: 0.7282 - val_precision_5: 0.5331 - val_recall_5: 0.9055\n",
            "Epoch 49/100\n",
            "141/141 [==============================] - 0s 672us/step - loss: 0.7192 - precision_5: 0.5330 - recall_5: 0.9059 - val_loss: 0.7277 - val_precision_5: 0.5329 - val_recall_5: 0.9063\n",
            "Epoch 50/100\n",
            "141/141 [==============================] - 0s 626us/step - loss: 0.7191 - precision_5: 0.5328 - recall_5: 0.9067 - val_loss: 0.7274 - val_precision_5: 0.5327 - val_recall_5: 0.9071\n",
            "Epoch 51/100\n",
            "141/141 [==============================] - 0s 625us/step - loss: 0.7167 - precision_5: 0.5326 - recall_5: 0.9075 - val_loss: 0.7283 - val_precision_5: 0.5325 - val_recall_5: 0.9078\n",
            "Epoch 52/100\n",
            "141/141 [==============================] - 0s 650us/step - loss: 0.7182 - precision_5: 0.5323 - recall_5: 0.9081 - val_loss: 0.7283 - val_precision_5: 0.5322 - val_recall_5: 0.9083\n",
            "Epoch 53/100\n",
            "141/141 [==============================] - 0s 622us/step - loss: 0.7190 - precision_5: 0.5321 - recall_5: 0.9086 - val_loss: 0.7284 - val_precision_5: 0.5319 - val_recall_5: 0.9089\n",
            "Epoch 54/100\n",
            "141/141 [==============================] - 0s 625us/step - loss: 0.7212 - precision_5: 0.5318 - recall_5: 0.9092 - val_loss: 0.7292 - val_precision_5: 0.5317 - val_recall_5: 0.9096\n",
            "Epoch 55/100\n",
            "141/141 [==============================] - 0s 765us/step - loss: 0.7189 - precision_5: 0.5316 - recall_5: 0.9099 - val_loss: 0.7275 - val_precision_5: 0.5314 - val_recall_5: 0.9103\n",
            "Epoch 56/100\n",
            "141/141 [==============================] - 0s 764us/step - loss: 0.7171 - precision_5: 0.5313 - recall_5: 0.9106 - val_loss: 0.7279 - val_precision_5: 0.5311 - val_recall_5: 0.9109\n",
            "Epoch 57/100\n",
            "141/141 [==============================] - 0s 626us/step - loss: 0.7162 - precision_5: 0.5309 - recall_5: 0.9112 - val_loss: 0.7273 - val_precision_5: 0.5309 - val_recall_5: 0.9115\n",
            "Epoch 58/100\n",
            "141/141 [==============================] - 0s 621us/step - loss: 0.7184 - precision_5: 0.5308 - recall_5: 0.9117 - val_loss: 0.7286 - val_precision_5: 0.5307 - val_recall_5: 0.9119\n",
            "Epoch 59/100\n",
            "141/141 [==============================] - 0s 599us/step - loss: 0.7185 - precision_5: 0.5306 - recall_5: 0.9121 - val_loss: 0.7278 - val_precision_5: 0.5305 - val_recall_5: 0.9123\n",
            "Epoch 60/100\n",
            "141/141 [==============================] - 0s 599us/step - loss: 0.7156 - precision_5: 0.5304 - recall_5: 0.9125 - val_loss: 0.7284 - val_precision_5: 0.5303 - val_recall_5: 0.9127\n",
            "Epoch 61/100\n",
            "141/141 [==============================] - 0s 610us/step - loss: 0.7170 - precision_5: 0.5303 - recall_5: 0.9129 - val_loss: 0.7283 - val_precision_5: 0.5302 - val_recall_5: 0.9131\n",
            "Epoch 62/100\n",
            "141/141 [==============================] - 0s 674us/step - loss: 0.7166 - precision_5: 0.5300 - recall_5: 0.9133 - val_loss: 0.7281 - val_precision_5: 0.5300 - val_recall_5: 0.9134\n",
            "Epoch 63/100\n",
            "141/141 [==============================] - 0s 638us/step - loss: 0.7168 - precision_5: 0.5299 - recall_5: 0.9136 - val_loss: 0.7279 - val_precision_5: 0.5298 - val_recall_5: 0.9138\n",
            "Epoch 64/100\n",
            "141/141 [==============================] - 0s 640us/step - loss: 0.7196 - precision_5: 0.5297 - recall_5: 0.9139 - val_loss: 0.7277 - val_precision_5: 0.5296 - val_recall_5: 0.9141\n",
            "Epoch 65/100\n",
            "141/141 [==============================] - 0s 671us/step - loss: 0.7199 - precision_5: 0.5295 - recall_5: 0.9143 - val_loss: 0.7279 - val_precision_5: 0.5294 - val_recall_5: 0.9145\n",
            "Epoch 66/100\n",
            "141/141 [==============================] - 0s 713us/step - loss: 0.7182 - precision_5: 0.5293 - recall_5: 0.9148 - val_loss: 0.7285 - val_precision_5: 0.5293 - val_recall_5: 0.9150\n",
            "Epoch 67/100\n",
            "141/141 [==============================] - 0s 654us/step - loss: 0.7143 - precision_5: 0.5292 - recall_5: 0.9151 - val_loss: 0.7283 - val_precision_5: 0.5291 - val_recall_5: 0.9153\n",
            "Epoch 68/100\n",
            "141/141 [==============================] - 0s 708us/step - loss: 0.7167 - precision_5: 0.5290 - recall_5: 0.9155 - val_loss: 0.7282 - val_precision_5: 0.5289 - val_recall_5: 0.9156\n",
            "Epoch 69/100\n",
            "141/141 [==============================] - 0s 776us/step - loss: 0.7146 - precision_5: 0.5288 - recall_5: 0.9158 - val_loss: 0.7278 - val_precision_5: 0.5288 - val_recall_5: 0.9160\n",
            "Epoch 70/100\n",
            "141/141 [==============================] - 0s 723us/step - loss: 0.7178 - precision_5: 0.5287 - recall_5: 0.9161 - val_loss: 0.7277 - val_precision_5: 0.5286 - val_recall_5: 0.9162\n",
            "Epoch 71/100\n",
            "141/141 [==============================] - 0s 621us/step - loss: 0.7157 - precision_5: 0.5286 - recall_5: 0.9163 - val_loss: 0.7273 - val_precision_5: 0.5285 - val_recall_5: 0.9164\n",
            "Epoch 72/100\n",
            "141/141 [==============================] - 0s 660us/step - loss: 0.7173 - precision_5: 0.5284 - recall_5: 0.9165 - val_loss: 0.7277 - val_precision_5: 0.5283 - val_recall_5: 0.9166\n",
            "Epoch 73/100\n",
            "141/141 [==============================] - 0s 646us/step - loss: 0.7141 - precision_5: 0.5283 - recall_5: 0.9167 - val_loss: 0.7282 - val_precision_5: 0.5282 - val_recall_5: 0.9167\n",
            "Epoch 74/100\n",
            "141/141 [==============================] - 0s 618us/step - loss: 0.7137 - precision_5: 0.5282 - recall_5: 0.9167 - val_loss: 0.7285 - val_precision_5: 0.5281 - val_recall_5: 0.9168\n",
            "Epoch 75/100\n",
            "141/141 [==============================] - 0s 665us/step - loss: 0.7148 - precision_5: 0.5281 - recall_5: 0.9167 - val_loss: 0.7287 - val_precision_5: 0.5281 - val_recall_5: 0.9168\n",
            "Epoch 76/100\n",
            "141/141 [==============================] - 0s 662us/step - loss: 0.7149 - precision_5: 0.5280 - recall_5: 0.9168 - val_loss: 0.7292 - val_precision_5: 0.5280 - val_recall_5: 0.9167\n",
            "Epoch 77/100\n",
            "141/141 [==============================] - 0s 787us/step - loss: 0.7172 - precision_5: 0.5279 - recall_5: 0.9167 - val_loss: 0.7290 - val_precision_5: 0.5279 - val_recall_5: 0.9166\n",
            "Epoch 78/100\n",
            "141/141 [==============================] - 0s 633us/step - loss: 0.7155 - precision_5: 0.5279 - recall_5: 0.9166 - val_loss: 0.7291 - val_precision_5: 0.5279 - val_recall_5: 0.9166\n",
            "Epoch 79/100\n",
            "141/141 [==============================] - 0s 631us/step - loss: 0.7158 - precision_5: 0.5278 - recall_5: 0.9165 - val_loss: 0.7300 - val_precision_5: 0.5278 - val_recall_5: 0.9165\n",
            "Epoch 80/100\n",
            "141/141 [==============================] - 0s 820us/step - loss: 0.7175 - precision_5: 0.5277 - recall_5: 0.9165 - val_loss: 0.7290 - val_precision_5: 0.5277 - val_recall_5: 0.9164\n",
            "Epoch 81/100\n",
            "141/141 [==============================] - 0s 654us/step - loss: 0.7172 - precision_5: 0.5277 - recall_5: 0.9164 - val_loss: 0.7282 - val_precision_5: 0.5276 - val_recall_5: 0.9164\n",
            "Epoch 82/100\n",
            "141/141 [==============================] - 0s 701us/step - loss: 0.7151 - precision_5: 0.5276 - recall_5: 0.9164 - val_loss: 0.7281 - val_precision_5: 0.5276 - val_recall_5: 0.9163\n",
            "Epoch 83/100\n",
            "141/141 [==============================] - 0s 683us/step - loss: 0.7168 - precision_5: 0.5275 - recall_5: 0.9163 - val_loss: 0.7282 - val_precision_5: 0.5275 - val_recall_5: 0.9162\n",
            "Epoch 84/100\n",
            "141/141 [==============================] - 0s 628us/step - loss: 0.7167 - precision_5: 0.5274 - recall_5: 0.9162 - val_loss: 0.7283 - val_precision_5: 0.5274 - val_recall_5: 0.9162\n",
            "Epoch 85/100\n",
            "141/141 [==============================] - 0s 627us/step - loss: 0.7168 - precision_5: 0.5274 - recall_5: 0.9162 - val_loss: 0.7281 - val_precision_5: 0.5273 - val_recall_5: 0.9162\n",
            "Epoch 86/100\n",
            "141/141 [==============================] - 0s 721us/step - loss: 0.7180 - precision_5: 0.5273 - recall_5: 0.9162 - val_loss: 0.7280 - val_precision_5: 0.5272 - val_recall_5: 0.9162\n",
            "Epoch 87/100\n",
            "141/141 [==============================] - 0s 696us/step - loss: 0.7168 - precision_5: 0.5272 - recall_5: 0.9162 - val_loss: 0.7280 - val_precision_5: 0.5272 - val_recall_5: 0.9162\n",
            "Epoch 88/100\n",
            "141/141 [==============================] - 0s 636us/step - loss: 0.7157 - precision_5: 0.5271 - recall_5: 0.9162 - val_loss: 0.7276 - val_precision_5: 0.5271 - val_recall_5: 0.9162\n",
            "Epoch 89/100\n",
            "141/141 [==============================] - 0s 626us/step - loss: 0.7179 - precision_5: 0.5271 - recall_5: 0.9162 - val_loss: 0.7280 - val_precision_5: 0.5270 - val_recall_5: 0.9162\n",
            "Epoch 90/100\n",
            "141/141 [==============================] - 0s 623us/step - loss: 0.7165 - precision_5: 0.5270 - recall_5: 0.9162 - val_loss: 0.7285 - val_precision_5: 0.5270 - val_recall_5: 0.9163\n",
            "Epoch 91/100\n",
            "141/141 [==============================] - 0s 631us/step - loss: 0.7152 - precision_5: 0.5269 - recall_5: 0.9163 - val_loss: 0.7280 - val_precision_5: 0.5269 - val_recall_5: 0.9163\n",
            "Epoch 92/100\n",
            "141/141 [==============================] - 0s 649us/step - loss: 0.7148 - precision_5: 0.5268 - recall_5: 0.9163 - val_loss: 0.7281 - val_precision_5: 0.5268 - val_recall_5: 0.9162\n",
            "Epoch 93/100\n",
            "141/141 [==============================] - 0s 626us/step - loss: 0.7145 - precision_5: 0.5268 - recall_5: 0.9161 - val_loss: 0.7283 - val_precision_5: 0.5268 - val_recall_5: 0.9160\n",
            "Epoch 94/100\n",
            "141/141 [==============================] - 0s 605us/step - loss: 0.7169 - precision_5: 0.5269 - recall_5: 0.9159 - val_loss: 0.7288 - val_precision_5: 0.5268 - val_recall_5: 0.9158\n",
            "Epoch 95/100\n",
            "141/141 [==============================] - 0s 606us/step - loss: 0.7141 - precision_5: 0.5268 - recall_5: 0.9157 - val_loss: 0.7308 - val_precision_5: 0.5268 - val_recall_5: 0.9156\n",
            "Epoch 96/100\n",
            "141/141 [==============================] - 0s 614us/step - loss: 0.7126 - precision_5: 0.5269 - recall_5: 0.9155 - val_loss: 0.7313 - val_precision_5: 0.5269 - val_recall_5: 0.9154\n",
            "Epoch 97/100\n",
            "141/141 [==============================] - 0s 619us/step - loss: 0.7136 - precision_5: 0.5269 - recall_5: 0.9153 - val_loss: 0.7311 - val_precision_5: 0.5269 - val_recall_5: 0.9151\n",
            "Epoch 98/100\n",
            "141/141 [==============================] - 0s 701us/step - loss: 0.7130 - precision_5: 0.5269 - recall_5: 0.9150 - val_loss: 0.7310 - val_precision_5: 0.5269 - val_recall_5: 0.9148\n",
            "Epoch 99/100\n",
            "141/141 [==============================] - 0s 639us/step - loss: 0.7140 - precision_5: 0.5269 - recall_5: 0.9147 - val_loss: 0.7313 - val_precision_5: 0.5270 - val_recall_5: 0.9145\n",
            "Epoch 100/100\n",
            "141/141 [==============================] - 0s 813us/step - loss: 0.7158 - precision_5: 0.5270 - recall_5: 0.9144 - val_loss: 0.7301 - val_precision_5: 0.5270 - val_recall_5: 0.9143\n"
          ],
          "name": "stdout"
        }
      ]
    },
    {
      "cell_type": "code",
      "metadata": {
        "id": "ilcF8BeuZfp5",
        "colab_type": "code",
        "colab": {}
      },
      "source": [
        "autoencoder_matches.save(\"auto_matches_dense.h5\")\n",
        "autoencoder_players.save(\"auto_players_dense.h5\")"
      ],
      "execution_count": 0,
      "outputs": []
    },
    {
      "cell_type": "code",
      "metadata": {
        "id": "JsCSqyjbNbUk",
        "colab_type": "code",
        "colab": {}
      },
      "source": [
        ""
      ],
      "execution_count": 0,
      "outputs": []
    },
    {
      "cell_type": "markdown",
      "metadata": {
        "id": "9ow7MxRN5Ugl",
        "colab_type": "text"
      },
      "source": [
        "# Test Data"
      ]
    },
    {
      "cell_type": "code",
      "metadata": {
        "id": "6matPFhCO_Aa",
        "colab_type": "code",
        "colab": {}
      },
      "source": [
        "def test_data(match,players):\n",
        "  matches_X = np.load(match)\n",
        "  players_X = np.load(players)\n",
        "  matches_X = np.expand_dims(matches_X, axis=0)\n",
        "  players_X = np.expand_dims(players_X, axis=0)\n",
        "  matches_X = np.reshape(matches_X, (matches_X.shape[0], matches_X.shape[1]*matches_X.shape[2]))\n",
        "  players_X = np.reshape(players_X, (players_X.shape[0], players_X.shape[1]*players_X.shape[2]*players_X.shape[3]))\n",
        "  print(matches_X.shape,players_X.shape)\n",
        "  return matches_X,players_X\n"
      ],
      "execution_count": 0,
      "outputs": []
    },
    {
      "cell_type": "code",
      "metadata": {
        "id": "A1HXcglc-YgS",
        "colab_type": "code",
        "colab": {}
      },
      "source": [
        "\n",
        "def test_pred(fixtures,autoencoder_matches,autoencoder_players):\n",
        "  pred_all_matches = []\n",
        "  pred_all_players = []\n",
        "  teams = []\n",
        "  player_teams = []\n",
        "  for fix in fixtures:\n",
        "    print(fix[0].split('_')[:2])\n",
        "    teams.extend(fix[0].split('_')[:2])\n",
        "\n",
        "    matches_X,players_X = test_data(fix[0],fix[1])\n",
        "    pred_match = autoencoder_matches.predict(matches_X)\n",
        "    pred_players = autoencoder_players.predict(players_X)\n",
        "    pred_all_matches.append(pred_match)\n",
        "    pred_all_players.append(pred_players)\n",
        "\n",
        "  pred_all_matches = np.vstack(pred_all_matches)\n",
        "  pred_all_players = np.vstack(pred_all_players)\n",
        "\n",
        "  temp = [[team]*18 for team in teams]\n",
        "  for i in range(len(teams)):\n",
        "    player_teams += temp[i]\n",
        "\n",
        "  print(pred_all_matches.shape,pred_all_players.shape)\n",
        "  return pred_all_matches,pred_all_players,teams,player_teams\n",
        " "
      ],
      "execution_count": 0,
      "outputs": []
    },
    {
      "cell_type": "markdown",
      "metadata": {
        "id": "CsYBZ8t7C8Oq",
        "colab_type": "text"
      },
      "source": [
        "## Matches from sim 1 and 2"
      ]
    },
    {
      "cell_type": "markdown",
      "metadata": {
        "id": "Ae7MnxnliDMI",
        "colab_type": "text"
      },
      "source": [
        "### FINALS"
      ]
    },
    {
      "cell_type": "code",
      "metadata": {
        "id": "Jqm1AjugiEvg",
        "colab_type": "code",
        "colab": {}
      },
      "source": [
        "matches_X_final,players_X_final = test_data(\"Juventus_Atalanta_teams.npy\",\"Juventus_Atalanta_players.npy\")\n",
        "\n",
        "pred_finals_match = autoencoder_matches.predict(matches_X_final)\n",
        "pred_finals_players = autoencoder_players.predict(players_X_final)\n",
        "\n",
        "pred_all_matches_final = pred_finals_match\n",
        "pred_all_players_final = pred_finals_players\n",
        "pred_all_matches_final.shape,pred_all_players_final.shape"
      ],
      "execution_count": 0,
      "outputs": []
    },
    {
      "cell_type": "markdown",
      "metadata": {
        "id": "Q4iH3gsudJl2",
        "colab_type": "text"
      },
      "source": [
        "### Semi finals"
      ]
    },
    {
      "cell_type": "code",
      "metadata": {
        "id": "OMbQRqjYdMG8",
        "colab_type": "code",
        "outputId": "ba0de2df-94d1-47ce-eedd-30a274f9d365",
        "colab": {
          "base_uri": "https://localhost:8080/",
          "height": 68
        }
      },
      "source": [
        "matches_X_bayern2,players_X_bayern2 = test_data(\"Atalanta_Barcelona_teams.npy\",\"Atalanta_Barcelona_players.npy\")\n",
        "matches_X_barca2,players_X_barca2 = test_data(\"Paris_Juventus_teams.npy\",\"Paris_Juventus_players.npy\")\n",
        "\n",
        "pred_bayern2_match = autoencoder_matches.predict(matches_X_bayern2)\n",
        "pred_bayern2_players = autoencoder_players.predict(players_X_bayern2)\n",
        "\n",
        "pred_barca2_match = autoencoder_matches.predict(matches_X_barca2)\n",
        "pred_barca2_players = autoencoder_players.predict(players_X_barca2)\n",
        "\n",
        "\n",
        "pred_all_matches_s = np.vstack((pred_bayern2_match,pred_barca2_match))\n",
        "pred_all_players_s = np.vstack((pred_bayern2_players,pred_barca2_players))\n",
        "pred_all_matches_s.shape,pred_all_players_s.shape"
      ],
      "execution_count": 0,
      "outputs": [
        {
          "output_type": "stream",
          "text": [
            "(1, 124) (1, 360)\n",
            "(1, 124) (1, 360)\n"
          ],
          "name": "stdout"
        },
        {
          "output_type": "execute_result",
          "data": {
            "text/plain": [
              "((2, 124), (2, 360))"
            ]
          },
          "metadata": {
            "tags": []
          },
          "execution_count": 39
        }
      ]
    },
    {
      "cell_type": "markdown",
      "metadata": {
        "id": "f8JC_jvsdGf2",
        "colab_type": "text"
      },
      "source": [
        "### Q finals"
      ]
    },
    {
      "cell_type": "code",
      "metadata": {
        "id": "bNhS6yzeQBH4",
        "colab_type": "code",
        "outputId": "3c4bba5b-f598-436d-de0a-5485536071fc",
        "colab": {
          "base_uri": "https://localhost:8080/",
          "height": 102
        }
      },
      "source": [
        "matches_X_atlanta,players_X_atlanta = test_data(\"Juventus_Atlético_teams.npy\",\"Juventus_Atlético_players.npy\")\n",
        "matches_X_barca2,players_X_barca2 = test_data(\"Atalanta_Bayern_teams.npy\",\"Atalanta_Bayern_players.npy\")\n",
        "matches_X_juve2,players_X_juve2 = test_data(\"Barcelona_Leipzig_teams.npy\",\"Barcelona_Leipzig_players.npy\")\n",
        "matches_X_leip,players_X_leip = test_data(\"Paris_Man. City_teams.npy\",\"Paris_Man. City_players.npy\")\n",
        "\n",
        "pred_atlanta_match = autoencoder_matches.predict(matches_X_atlanta)\n",
        "pred_atlanta_players = autoencoder_players.predict(players_X_atlanta)\n",
        "\n",
        "pred_barca2_match = autoencoder_matches.predict(matches_X_barca2)\n",
        "pred_barca2_players = autoencoder_players.predict(players_X_barca2)\n",
        "\n",
        "pred_juve2_match = autoencoder_matches.predict(matches_X_juve2)\n",
        "pred_juve2_players = autoencoder_players.predict(players_X_juve2)\n",
        "\n",
        "pred_leip_match = autoencoder_matches.predict(matches_X_leip)\n",
        "pred_leip_players = autoencoder_players.predict(players_X_leip)\n",
        "\n",
        "pred_all_matches_q = np.vstack((pred_atlanta_match,pred_barca2_match,pred_juve2_match,pred_leip_match))\n",
        "pred_all_players_q = np.vstack((pred_atlanta_players,pred_barca2_players,pred_juve2_players,pred_leip_players))\n",
        "pred_all_matches_q.shape,pred_all_players_q.shape"
      ],
      "execution_count": 0,
      "outputs": [
        {
          "output_type": "stream",
          "text": [
            "(1, 124) (1, 360)\n",
            "(1, 124) (1, 360)\n",
            "(1, 124) (1, 360)\n",
            "(1, 124) (1, 360)\n"
          ],
          "name": "stdout"
        },
        {
          "output_type": "execute_result",
          "data": {
            "text/plain": [
              "((4, 124), (4, 360))"
            ]
          },
          "metadata": {
            "tags": []
          },
          "execution_count": 380
        }
      ]
    },
    {
      "cell_type": "markdown",
      "metadata": {
        "id": "I_JpBe1jcOnw",
        "colab_type": "text"
      },
      "source": [
        "### Round of 16"
      ]
    },
    {
      "cell_type": "code",
      "metadata": {
        "id": "5j-zK3xiNkk0",
        "colab_type": "code",
        "colab": {}
      },
      "source": [
        "matches_X_barca = np.load(\"Barca_Napoli_teams.npy\")\n",
        "players_X_barca = np.load(\"Barca_Napoli_players.npy\")\n",
        "matches_X_barca = np.expand_dims(matches_X_barca, axis=0)\n",
        "matches_X_barca = np.reshape(matches_X_barca, (matches_X_barca.shape[0], matches_X_barca.shape[1]*matches_X_barca.shape[2], 1))\n",
        "players_X_barca = np.expand_dims(players_X_barca, axis=0)\n",
        "players_X_barca = np.reshape(players_X_barca, (players_X_barca.shape[0], players_X_barca.shape[1]*players_X_barca.shape[2]*players_X_barca.shape[3], 1))"
      ],
      "execution_count": 0,
      "outputs": []
    },
    {
      "cell_type": "code",
      "metadata": {
        "id": "1H_sUdG8OHFj",
        "colab_type": "code",
        "outputId": "853501ea-b924-46d7-baac-ce94b4726340",
        "colab": {
          "base_uri": "https://localhost:8080/",
          "height": 34
        }
      },
      "source": [
        "matches_X_barca.shape,players_X_barca.shape"
      ],
      "execution_count": 0,
      "outputs": [
        {
          "output_type": "execute_result",
          "data": {
            "text/plain": [
              "((1, 124), (1, 360))"
            ]
          },
          "metadata": {
            "tags": []
          },
          "execution_count": 105
        }
      ]
    },
    {
      "cell_type": "code",
      "metadata": {
        "id": "xr5VRtPlPGh7",
        "colab_type": "code",
        "colab": {}
      },
      "source": [
        "#pred_barca = model.predict(x=[matches_X_barca, players_X_barca])\n",
        "pred_barca_match = autoencoder_matches.predict(matches_X_barca)\n",
        "pred_barca_players = autoencoder_players.predict(players_X_barca)"
      ],
      "execution_count": 0,
      "outputs": []
    },
    {
      "cell_type": "code",
      "metadata": {
        "id": "Pf7tQbw0QJZ6",
        "colab_type": "code",
        "colab": {}
      },
      "source": [
        "matches_X_bayern = np.load(\"Bayern_Chelsea_teams.npy\")\n",
        "players_X_bayern = np.load(\"Bayern_Chelsea_players.npy\")\n",
        "matches_X_bayern = np.expand_dims(matches_X_bayern, axis=0)\n",
        "matches_X_bayern = np.reshape(matches_X_bayern, (matches_X_bayern.shape[0], matches_X_bayern.shape[1]*matches_X_bayern.shape[2], 1))\n",
        "players_X_bayern = np.expand_dims(players_X_bayern, axis=0)\n",
        "players_X_bayern = np.reshape(players_X_bayern, (players_X_bayern.shape[0], players_X_bayern.shape[1]*players_X_bayern.shape[2]*players_X_bayern.shape[3], 1))"
      ],
      "execution_count": 0,
      "outputs": []
    },
    {
      "cell_type": "code",
      "metadata": {
        "id": "RCM0kxgTQhwE",
        "colab_type": "code",
        "outputId": "051a65f1-2a9d-4b67-a9a6-655d02733b49",
        "colab": {
          "base_uri": "https://localhost:8080/",
          "height": 34
        }
      },
      "source": [
        "matches_X_bayern.shape"
      ],
      "execution_count": 0,
      "outputs": [
        {
          "output_type": "execute_result",
          "data": {
            "text/plain": [
              "(1, 124)"
            ]
          },
          "metadata": {
            "tags": []
          },
          "execution_count": 107
        }
      ]
    },
    {
      "cell_type": "code",
      "metadata": {
        "id": "AbK7m0yQjaF0",
        "colab_type": "code",
        "colab": {}
      },
      "source": [
        "#pred_bayern = model.predict(x=[matches_X_bayern, players_X_bayern])\n",
        "pred_bayern_match = autoencoder_matches.predict(matches_X_bayern)\n",
        "pred_bayern_players = autoencoder_players.predict(players_X_bayern)"
      ],
      "execution_count": 0,
      "outputs": []
    },
    {
      "cell_type": "code",
      "metadata": {
        "id": "NFwbf4_njfYv",
        "colab_type": "code",
        "colab": {}
      },
      "source": [
        "matches_X_city = np.load(\"City_Madrid_teams.npy\")\n",
        "players_X_city = np.load(\"City_Madrid_players.npy\")\n",
        "matches_X_city = np.expand_dims(matches_X_city, axis=0)\n",
        "matches_X_city = np.reshape(matches_X_city, (matches_X_city.shape[0], matches_X_city.shape[1]*matches_X_city.shape[2], 1))\n",
        "players_X_city = np.expand_dims(players_X_city, axis=0)\n",
        "players_X_city = np.reshape(players_X_city, (players_X_city.shape[0], players_X_city.shape[1]*players_X_city.shape[2]*players_X_city.shape[3], 1))"
      ],
      "execution_count": 0,
      "outputs": []
    },
    {
      "cell_type": "code",
      "metadata": {
        "id": "kPkaue-5j7tO",
        "colab_type": "code",
        "colab": {}
      },
      "source": [
        "#pred_city = model.predict(x=[matches_X_city, players_X_city])\n",
        "pred_city_match = autoencoder_matches.predict(matches_X_city)\n",
        "pred_city_players = autoencoder_players.predict(players_X_city)"
      ],
      "execution_count": 0,
      "outputs": []
    },
    {
      "cell_type": "code",
      "metadata": {
        "id": "U2MNWn4ekBsG",
        "colab_type": "code",
        "colab": {}
      },
      "source": [
        "matches_X_juve = np.load(\"Juventus_Lyon_teams.npy\")\n",
        "players_X_juve = np.load(\"Juventus_Lyon_players.npy\")\n",
        "matches_X_juve = np.expand_dims(matches_X_juve, axis=0)\n",
        "matches_X_juve = np.reshape(matches_X_juve, (matches_X_juve.shape[0], matches_X_juve.shape[1]*matches_X_juve.shape[2], 1))\n",
        "players_X_juve = np.expand_dims(players_X_juve, axis=0)\n",
        "players_X_juve = np.reshape(players_X_juve, (players_X_juve.shape[0], players_X_juve.shape[1]*players_X_juve.shape[2]*players_X_juve.shape[3], 1))"
      ],
      "execution_count": 0,
      "outputs": []
    },
    {
      "cell_type": "code",
      "metadata": {
        "id": "yk-EpDk-kUyg",
        "colab_type": "code",
        "colab": {}
      },
      "source": [
        "#pred_juve = model.predict(x=[matches_X_juve, players_X_juve])\n",
        "pred_juve_match = autoencoder_matches.predict(matches_X_juve)\n",
        "pred_juve_players = autoencoder_players.predict(players_X_juve)"
      ],
      "execution_count": 0,
      "outputs": []
    },
    {
      "cell_type": "code",
      "metadata": {
        "id": "vPeGDuC0-poV",
        "colab_type": "code",
        "outputId": "dc21765b-301d-484e-cf30-e71f0c0ae16d",
        "colab": {
          "base_uri": "https://localhost:8080/",
          "height": 34
        }
      },
      "source": [
        "pred_all_matches = np.vstack((pred_barca_match,pred_bayern_match,pred_city_match,pred_juve_match))\n",
        "pred_all_players = np.vstack((pred_barca_players,pred_bayern_players,pred_city_players,pred_juve_players))\n",
        "pred_all_matches.shape,pred_all_players.shape"
      ],
      "execution_count": 0,
      "outputs": [
        {
          "output_type": "execute_result",
          "data": {
            "text/plain": [
              "((4, 124), (4, 360))"
            ]
          },
          "metadata": {
            "tags": []
          },
          "execution_count": 331
        }
      ]
    },
    {
      "cell_type": "markdown",
      "metadata": {
        "id": "x_8Xd4RAWP2Z",
        "colab_type": "text"
      },
      "source": [
        "# Autoencoder prediction test"
      ]
    },
    {
      "cell_type": "markdown",
      "metadata": {
        "id": "JtUYH0VDCl-8",
        "colab_type": "text"
      },
      "source": [
        "## Loading complete CSVs"
      ]
    },
    {
      "cell_type": "code",
      "metadata": {
        "id": "miFXw2EFKsP0",
        "colab_type": "code",
        "outputId": "3a3a290d-778d-471d-d88d-72942a273e23",
        "colab": {
          "base_uri": "https://localhost:8080/",
          "height": 224
        }
      },
      "source": [
        "!wget https://raw.githubusercontent.com/ashwinvaswani/whatif/master/Data/match_info_merged.csv?token=AFQLSH25YZ26AGJ7YERX42K64OB2W"
      ],
      "execution_count": 0,
      "outputs": [
        {
          "output_type": "stream",
          "text": [
            "--2020-06-09 10:52:07--  https://raw.githubusercontent.com/ashwinvaswani/whatif/master/Data/match_info_merged.csv?token=AFQLSH25YZ26AGJ7YERX42K64OB2W\n",
            "Resolving raw.githubusercontent.com (raw.githubusercontent.com)... 151.101.0.133, 151.101.64.133, 151.101.128.133, ...\n",
            "Connecting to raw.githubusercontent.com (raw.githubusercontent.com)|151.101.0.133|:443... connected.\n",
            "HTTP request sent, awaiting response... 200 OK\n",
            "Length: 51672 (50K) [text/plain]\n",
            "Saving to: ‘match_info_merged.csv?token=AFQLSH25YZ26AGJ7YERX42K64OB2W’\n",
            "\n",
            "\r          match_inf   0%[                    ]       0  --.-KB/s               \rmatch_info_merged.c 100%[===================>]  50.46K  --.-KB/s    in 0.02s   \n",
            "\n",
            "2020-06-09 10:52:07 (1.98 MB/s) - ‘match_info_merged.csv?token=AFQLSH25YZ26AGJ7YERX42K64OB2W’ saved [51672/51672]\n",
            "\n"
          ],
          "name": "stdout"
        }
      ]
    },
    {
      "cell_type": "code",
      "metadata": {
        "id": "2H3lUDV_Kt5u",
        "colab_type": "code",
        "outputId": "fc283374-9c16-4baa-fb4d-1472e7497d13",
        "colab": {
          "base_uri": "https://localhost:8080/",
          "height": 224
        }
      },
      "source": [
        "!wget https://raw.githubusercontent.com/ashwinvaswani/whatif/master/Data/player_info_merged.csv?token=AFQLSH7MUPSHOSUGPZ73X5S64OB6S"
      ],
      "execution_count": 0,
      "outputs": [
        {
          "output_type": "stream",
          "text": [
            "--2020-06-09 10:52:11--  https://raw.githubusercontent.com/ashwinvaswani/whatif/master/Data/player_info_merged.csv?token=AFQLSH7MUPSHOSUGPZ73X5S64OB6S\n",
            "Resolving raw.githubusercontent.com (raw.githubusercontent.com)... 151.101.0.133, 151.101.64.133, 151.101.128.133, ...\n",
            "Connecting to raw.githubusercontent.com (raw.githubusercontent.com)|151.101.0.133|:443... connected.\n",
            "HTTP request sent, awaiting response... 200 OK\n",
            "Length: 226664 (221K) [text/plain]\n",
            "Saving to: ‘player_info_merged.csv?token=AFQLSH7MUPSHOSUGPZ73X5S64OB6S’\n",
            "\n",
            "\r          player_in   0%[                    ]       0  --.-KB/s               \rplayer_info_merged. 100%[===================>] 221.35K  --.-KB/s    in 0.05s   \n",
            "\n",
            "2020-06-09 10:52:11 (4.25 MB/s) - ‘player_info_merged.csv?token=AFQLSH7MUPSHOSUGPZ73X5S64OB6S’ saved [226664/226664]\n",
            "\n"
          ],
          "name": "stdout"
        }
      ]
    },
    {
      "cell_type": "code",
      "metadata": {
        "id": "h-DPjLttkd3M",
        "colab_type": "code",
        "colab": {}
      },
      "source": [
        "import pandas as pd\n",
        "player_csv = pd.read_csv(\"player_info_merged.csv?token=AFQLSH7MUPSHOSUGPZ73X5S64OB6S\")\n",
        "team_csv = pd.read_csv(\"match_info_merged.csv?token=AFQLSH25YZ26AGJ7YERX42K64OB2W\")"
      ],
      "execution_count": 0,
      "outputs": []
    },
    {
      "cell_type": "markdown",
      "metadata": {
        "id": "r3f-pPkmCryQ",
        "colab_type": "text"
      },
      "source": [
        "## Prediction results"
      ]
    },
    {
      "cell_type": "code",
      "metadata": {
        "id": "amQzo8nUcRdC",
        "colab_type": "code",
        "colab": {}
      },
      "source": [
        "val_pred_matches = autoencoder_matches.predict(matches_X_val)\n",
        "val_pred_players = autoencoder_players.predict(players_X_val)"
      ],
      "execution_count": 0,
      "outputs": []
    },
    {
      "cell_type": "code",
      "metadata": {
        "id": "rcCLHwLPkla8",
        "colab_type": "code",
        "colab": {}
      },
      "source": [
        "def denorm(val, maxim, minim):\n",
        "    f = val*(maxim-minim) +minim\n",
        "    return f"
      ],
      "execution_count": 0,
      "outputs": []
    },
    {
      "cell_type": "code",
      "metadata": {
        "id": "9v6LdTTB13R0",
        "colab_type": "code",
        "colab": {}
      },
      "source": [
        "def auto_pl_denorm(arr,pl_csv,is_deep=False):\n",
        "    goals_max = pl_csv[\"Goals scored\"].max()\n",
        "    goals_min = pl_csv[\"Goals scored\"].min()\n",
        "    assists_max = pl_csv[\"Assists\"].max()\n",
        "    assists_min = pl_csv[\"Assists\"].min()\n",
        "    fouls_max = pl_csv[\"Fouls committed\"].max()\n",
        "    fouls_min = pl_csv[\"Fouls committed\"].min()\n",
        "    total_shots_max = pl_csv[\"Total shots\"].max()\n",
        "    total_shots_min = pl_csv[\"Total shots\"].min()\n",
        "    shots_target_max = pl_csv[\"Shots on Target\"].max()\n",
        "    shots_target_min = pl_csv[\"Shots on Target\"].min()\n",
        "    interceptions_max = pl_csv[\"Interceptions\"].max()\n",
        "    interceptions_min = pl_csv[\"Interceptions\"].min()\n",
        "    crosses_max = pl_csv[\"Crosses\"].max()\n",
        "    crosses_min = pl_csv[\"Crosses\"].min()\n",
        "    time_played_max = pl_csv[\"Time Played\"].max()\n",
        "    time_played_min = pl_csv[\"Time Played\"].min()\n",
        "    #print(goals_max,goals_min,total_shots_max,total_shots_min,time_played_max,time_played_min)\n",
        "    goals = []\n",
        "    total_shots = []\n",
        "    shots_target=[]\n",
        "    assists=[]\n",
        "    fouls=[]\n",
        "    interceptions=[]\n",
        "    crosses=[]\n",
        "    time = []\n",
        "    if is_deep:\n",
        "      for i in np.arange(0,360,10):\n",
        "        if arr[i] > 0:\n",
        "          print(\"player {} scored with prediction {}\".format((i+1)% 18,arr[i]))\n",
        "        goals.append(denorm(arr[i],goals_max,goals_min))\n",
        "        total_shots.append(denorm(arr[i+1],total_shots_max,total_shots_min))\n",
        "        shots_target.append(denorm(arr[i+2],shots_target_max,shots_target_min))\n",
        "        assists.append(denorm(arr[i+3],assists_max,assists_min))\n",
        "        fouls.append(denorm(arr[i+6],fouls_max,fouls_min))\n",
        "        interceptions.append(denorm(arr[i+4],interceptions_max,interceptions_min))\n",
        "        crosses.append(denorm(arr[i+5],crosses_max,crosses_min))\n",
        "        time.append(denorm(arr[i+8],time_played_max,time_played_min))\n",
        "    \n",
        "    \n",
        "    else:\n",
        "      for i in np.arange(0,360,10):\n",
        "        if arr[i][0] > 0:\n",
        "          print(arr[i][0])\n",
        "        goals.append(denorm(arr[i][0],goals_max,goals_min))\n",
        "        total_shots.append(denorm(arr[i+1][0],total_shots_max,total_shots_min))\n",
        "        shots_target.append(denorm(arr[i+2][0],shots_target_max,shots_target_min))\n",
        "        assists.append(denorm(arr[i+3][0],assists_max,assists_min))\n",
        "        fouls.append(denorm(arr[i+6][0],fouls_max,fouls_min))\n",
        "        interceptions.append(denorm(arr[i+4][0],interceptions_max,interceptions_min))\n",
        "        crosses.append(denorm(arr[i+5][0],crosses_max,crosses_min))\n",
        "        time.append(denorm(arr[i+8][0],time_played_max,time_played_min))\n",
        "\n",
        "    return goals,total_shots,shots_target,assists,fouls,interceptions,crosses,time\n",
        "  \n",
        "def auto_mat_denorm(arr,match_csv,is_deep=False):\n",
        "    Goals_max = match_csv[\"Goals\"].max()\n",
        "    Goals_min = match_csv[\"Goals\"].min()    \n",
        "    Block_max = match_csv[\"Blocks\"].max()\n",
        "    Block_min = match_csv[\"Blocks\"].min()\n",
        "    Possession_max = match_csv[\"Possession\"].max()\n",
        "    Possession_min = match_csv[\"Possession\"].min()\n",
        "    Passes_max = match_csv[\"Passes\"].max()\n",
        "    Passes_min = match_csv[\"Passes\"].min()\n",
        "    passing_acc_max = match_csv[\"Passing Accuracy\"].max()\n",
        "    passing_acc_min = match_csv[\"Passing Accuracy\"].min()\n",
        "    corners_max = match_csv[\"Corners\"].max()\n",
        "    corners_min = match_csv[\"Corners\"].min()\n",
        "    #print(Block_max,Block_min,Possession_max,Possession_min,Passes_max,Passes_min,passing_acc_max,passing_acc_min,corners_max,corners_min)\n",
        "    if is_deep:\n",
        "      print(\"goals pred:\",arr[0],arr[0+62])\n",
        "      goals = [denorm(arr[0],Goals_max,Goals_min),denorm(arr[0+62],Goals_max,Goals_min)]\n",
        "      blocks = [denorm(arr[4],Block_max,Block_min),denorm(arr[4+62],Block_max,Block_min)]\n",
        "      poss = [denorm(arr[8],Possession_max,Possession_min),denorm(arr[8+62],Possession_max,Possession_min)]\n",
        "      passes = [denorm(arr[9],Passes_max,Passes_min),denorm(arr[9+62],Passes_max,Passes_min)]\n",
        "      pass_acc = [denorm(arr[10],passing_acc_max,passing_acc_min),denorm(arr[10+62],passing_acc_max,passing_acc_min)]\n",
        "      corners = [denorm(arr[6],corners_max,corners_min),denorm(arr[6+62],corners_max,corners_min)]\n",
        "    else:\n",
        "      print(\"goals pred:\",arr[0][0],arr[0+62][0])\n",
        "      goals = [denorm(arr[0][0],Goals_max,Goals_min),denorm(arr[0+62][0],Goals_max,Goals_min)]\n",
        "      blocks = [denorm(arr[4][0],Block_max,Block_min),denorm(arr[4+62][0],Block_max,Block_min)]\n",
        "      poss = [denorm(arr[8][0],Possession_max,Possession_min),denorm(arr[8+62][0],Possession_max,Possession_min)]\n",
        "      passes = [denorm(arr[9][0],Passes_max,Passes_min),denorm(arr[9+62][0],Passes_max,Passes_min)]\n",
        "      pass_acc = [denorm(arr[10][0],passing_acc_max,passing_acc_min),denorm(arr[10+62][0],passing_acc_max,passing_acc_min)]\n",
        "      corners = [denorm(arr[6][0],corners_max,corners_min),denorm(arr[6+62][0],corners_max,corners_min)]\n",
        "\n",
        "    return goals,blocks,poss,passes,pass_acc,corners\n",
        "\n",
        "  # teams = [\"Barca\",\"Napoli\",\"Bayern\",\"Chelsea\",\"City\",\"Madrid\",\"Juventus\",\"Lyon\"]\n",
        "  # teams_q = [\"Atlético\",\"Juventus\",\"Bayern\",\"Atalanta\",\"Leipzig\",\"Barca\",\"City\",\"Paris\"]\n",
        "  # teams_q2 = [\"Juventus\",\"Atlético\",\"Atalanta\",\"Bayern\",\"Barca\",\"Leipzig\",\"Paris\",\"City\",]\n",
        "  # teams_s1 = [\"Barca\",\"Atalanta\",\"Juventus\",\"Paris\"]\n",
        "  # teams_s2 = [\"Atalanta\",\"Barca\",\"Paris\",\"Juventus\"]\n",
        "  # teams_finals = [\"Juventus\",\"Atalanta\"]\n",
        "  \n",
        "def fixture_prediction(pred_all_matches,pred_all_players,teams,player_teams,team_csv,player_csv): \n",
        "    goals_match = []\n",
        "    blocks = []\n",
        "    poss = []\n",
        "    passes = []\n",
        "    pass_acc = []\n",
        "    corners = []\n",
        "\n",
        "    for p in pred_all_matches:\n",
        "      g,b,po,pa,pacc,cor = auto_mat_denorm(p,team_csv,is_deep=1)\n",
        "      goals_match.extend(g)\n",
        "      blocks.extend(b)\n",
        "      poss.extend(po)\n",
        "      passes.extend(pa)\n",
        "      pass_acc.extend(pacc)\n",
        "      corners.extend(cor)\n",
        "\n",
        "    goals = []\n",
        "    total_shots = []\n",
        "    shots_target=[]\n",
        "    assists=[]\n",
        "    fouls=[]\n",
        "    interceptions=[]\n",
        "    crosses=[]\n",
        "    time = []\n",
        "    players = []\n",
        "\n",
        "    for i in range(18):\n",
        "      players.append(\"Player {}\".format(i+1))\n",
        "    players = players*8\n",
        "    players = players[:len(player_teams)]\n",
        "    #players_finals = players[:36]\n",
        "    # players_teams = ['Barca']*18+['Napoli']*18+['Bayern']*18+['Chelsea']*18+['City']*18+['Madrid']*18+['Juventus']*18+['Lyon']*18\n",
        "    # players_teams_q = ['Atlético']*18+['Juventus']*18+['Bayern']*18+['Atalanta']*18+['Leipzig']*18+['Barca']*18+['City']*18+['Paris']*18\n",
        "    # players_teams_q2 = ['Juventus']*18+['Atlético']*18+['Atalanta']*18+['Bayern']*18+['Barca']*18+['Leipzig']*18+['Paris']*18+['City']*18\n",
        "    # players_teams_s1 = ['Barca']*18+['Atalanta']*18+['Juventus']*18+['Paris']*18\n",
        "    # players_teams_s2 = ['Atalanta']*18+['Barca']*18+['Paris']*18+['Juventus']*18\n",
        "    # players_teams_finals = ['Juventus']*18+['Atalanta']*18\n",
        "\n",
        "    for m in pred_all_players:\n",
        "      g,t,tar,ass,f,intr,crs,ti = auto_pl_denorm(m,player_csv,is_deep=1)\n",
        "      goals.extend(g)\n",
        "      total_shots.extend(t)\n",
        "      shots_target.extend(tar)\n",
        "      assists.extend(ass)\n",
        "      fouls.extend(f)\n",
        "      interceptions.extend(intr)\n",
        "      crosses.extend(crs)\n",
        "      time.extend(ti)\n",
        "\n",
        "    matches_auto_df = pd.DataFrame(columns=[\"Teams\",\"Goals\",\"Blocks\",\"Possession\",\"Passes\",\"Passing Accuracy\",\"Corners\"])\n",
        "    matches_auto_df[\"Teams\"] = teams\n",
        "    matches_auto_df[\"Goals\"] = [round(g) for g in goals_match]\n",
        "    matches_auto_df[\"Blocks\"] = [round(g) for g in blocks]\n",
        "    matches_auto_df[\"Possession\"] = [round(g) for g in poss]\n",
        "    matches_auto_df[\"Passes\"] = [round(g) for g in passes]\n",
        "    matches_auto_df[\"Passing Accuracy\"] = [round(g) for g in pass_acc]\n",
        "    matches_auto_df[\"Corners\"] = [round(g) for g in corners]\n",
        "\n",
        "    #print(matches_auto_df)\n",
        "\n",
        "    players_auto_df = pd.DataFrame(columns=[\"Player\",\"Team\",\"Goals\",\"Shots\",\"Shots_Target\",\"Assists\",\"Fouls\",\"Interceptions\",\"Crosses\",\"Time\"])\n",
        "    players_auto_df[\"Player\"] = players\n",
        "    players_auto_df[\"Team\"] = player_teams\n",
        "    players_auto_df[\"Goals\"] = goals\n",
        "    players_auto_df[\"Shots\"] = total_shots\n",
        "    players_auto_df[\"Shots_Target\"] = shots_target\n",
        "    players_auto_df[\"Assists\"] = assists\n",
        "    players_auto_df[\"Fouls\"] = fouls\n",
        "    players_auto_df[\"Interceptions\"] = interceptions\n",
        "    players_auto_df[\"Crosses\"] = crosses\n",
        "    players_auto_df[\"Time\"] = time\n",
        "\n",
        "    print(players_auto_df.head())\n",
        "\n",
        "    matches_auto_df.to_csv(\"CSV/matches_final.csv\",index=False)\n",
        "    players_auto_df.to_csv(\"CSV/players_final.csv\",index=False)\n",
        "    \n",
        "    return matches_auto_df\n"
      ],
      "execution_count": 0,
      "outputs": []
    },
    {
      "cell_type": "code",
      "metadata": {
        "id": "ypbeIyYmKeRk",
        "colab_type": "code",
        "outputId": "f3de95cb-22dc-49b6-fb44-b009cce1efef",
        "colab": {
          "base_uri": "https://localhost:8080/",
          "height": 666
        }
      },
      "source": [
        "fixtures = [(\"Barcelona_Atalanta_teams.npy\",\"Barcelona_Atalanta_players.npy\"),\n",
        "            (\"Juventus_Paris_teams.npy\",\"Juventus_Paris_players.npy\")]\n",
        "\n",
        "pred_all_matches,pred_all_players,teams,player_teams = test_pred(fixtures,autoencoder_matches,autoencoder_players)\n",
        "fixture_prediction(pred_all_matches,pred_all_players,teams,player_teams,team_csv,player_csv)"
      ],
      "execution_count": 0,
      "outputs": [
        {
          "output_type": "stream",
          "text": [
            "['Barcelona', 'Atalanta']\n",
            "(1, 124) (1, 360)\n",
            "['Juventus', 'Paris']\n",
            "(1, 124) (1, 360)\n",
            "(2, 124) (2, 360)\n",
            "goals pred: 0.0 0.07605204\n",
            "goals pred: 0.0 0.17553781\n",
            "player 17 scored with prediction 0.00021483749151229858\n",
            "player 3 scored with prediction 0.023963183164596558\n",
            "player 13 scored with prediction 0.029262732714414597\n",
            "player 5 scored with prediction 0.04350047558546066\n",
            "player 15 scored with prediction 0.04204316437244415\n",
            "player 7 scored with prediction 0.03351385146379471\n",
            "player 9 scored with prediction 0.020995207130908966\n",
            "player 17 scored with prediction 0.0011032391339540482\n",
            "player 3 scored with prediction 0.022798478603363037\n",
            "player 13 scored with prediction 0.028567597270011902\n",
            "player 5 scored with prediction 0.043397221714258194\n",
            "player 15 scored with prediction 0.041833266615867615\n",
            "player 7 scored with prediction 0.033946506679058075\n",
            "player 9 scored with prediction 0.019513152539730072\n",
            "     Player       Team  Goals  ...  Interceptions   Crosses       Time\n",
            "0  Player 1  Barcelona    0.0  ...       0.000000  0.000000  74.909146\n",
            "1  Player 2  Barcelona    0.0  ...       1.641169  0.908211  75.949445\n",
            "2  Player 3  Barcelona    0.0  ...       1.324124  1.346403  70.207251\n",
            "3  Player 4  Barcelona    0.0  ...       1.030033  1.132058  70.453589\n",
            "4  Player 5  Barcelona    0.0  ...       1.048472  1.649649  74.680616\n",
            "\n",
            "[5 rows x 10 columns]\n"
          ],
          "name": "stdout"
        },
        {
          "output_type": "execute_result",
          "data": {
            "text/html": [
              "<div>\n",
              "<style scoped>\n",
              "    .dataframe tbody tr th:only-of-type {\n",
              "        vertical-align: middle;\n",
              "    }\n",
              "\n",
              "    .dataframe tbody tr th {\n",
              "        vertical-align: top;\n",
              "    }\n",
              "\n",
              "    .dataframe thead th {\n",
              "        text-align: right;\n",
              "    }\n",
              "</style>\n",
              "<table border=\"1\" class=\"dataframe\">\n",
              "  <thead>\n",
              "    <tr style=\"text-align: right;\">\n",
              "      <th></th>\n",
              "      <th>Teams</th>\n",
              "      <th>Goals</th>\n",
              "      <th>Blocks</th>\n",
              "      <th>Possession</th>\n",
              "      <th>Passes</th>\n",
              "      <th>Passing Accuracy</th>\n",
              "      <th>Corners</th>\n",
              "    </tr>\n",
              "  </thead>\n",
              "  <tbody>\n",
              "    <tr>\n",
              "      <th>0</th>\n",
              "      <td>Barcelona</td>\n",
              "      <td>0.0</td>\n",
              "      <td>3.0</td>\n",
              "      <td>50.0</td>\n",
              "      <td>491.0</td>\n",
              "      <td>82.0</td>\n",
              "      <td>4.0</td>\n",
              "    </tr>\n",
              "    <tr>\n",
              "      <th>1</th>\n",
              "      <td>Atalanta</td>\n",
              "      <td>1.0</td>\n",
              "      <td>3.0</td>\n",
              "      <td>43.0</td>\n",
              "      <td>376.0</td>\n",
              "      <td>78.0</td>\n",
              "      <td>4.0</td>\n",
              "    </tr>\n",
              "    <tr>\n",
              "      <th>2</th>\n",
              "      <td>Juventus</td>\n",
              "      <td>0.0</td>\n",
              "      <td>3.0</td>\n",
              "      <td>43.0</td>\n",
              "      <td>390.0</td>\n",
              "      <td>80.0</td>\n",
              "      <td>5.0</td>\n",
              "    </tr>\n",
              "    <tr>\n",
              "      <th>3</th>\n",
              "      <td>Paris</td>\n",
              "      <td>1.0</td>\n",
              "      <td>3.0</td>\n",
              "      <td>50.0</td>\n",
              "      <td>524.0</td>\n",
              "      <td>84.0</td>\n",
              "      <td>4.0</td>\n",
              "    </tr>\n",
              "  </tbody>\n",
              "</table>\n",
              "</div>"
            ],
            "text/plain": [
              "       Teams  Goals  Blocks  Possession  Passes  Passing Accuracy  Corners\n",
              "0  Barcelona    0.0     3.0        50.0   491.0              82.0      4.0\n",
              "1   Atalanta    1.0     3.0        43.0   376.0              78.0      4.0\n",
              "2   Juventus    0.0     3.0        43.0   390.0              80.0      5.0\n",
              "3      Paris    1.0     3.0        50.0   524.0              84.0      4.0"
            ]
          },
          "metadata": {
            "tags": []
          },
          "execution_count": 48
        }
      ]
    },
    {
      "cell_type": "code",
      "metadata": {
        "id": "b3S14breAHT8",
        "colab_type": "code",
        "outputId": "d4bed68d-8b8b-4f33-c04f-fa98aa22e311",
        "colab": {
          "base_uri": "https://localhost:8080/",
          "height": 173
        }
      },
      "source": [
        "matches_auto_df"
      ],
      "execution_count": 0,
      "outputs": [
        {
          "output_type": "execute_result",
          "data": {
            "text/html": [
              "<div>\n",
              "<style scoped>\n",
              "    .dataframe tbody tr th:only-of-type {\n",
              "        vertical-align: middle;\n",
              "    }\n",
              "\n",
              "    .dataframe tbody tr th {\n",
              "        vertical-align: top;\n",
              "    }\n",
              "\n",
              "    .dataframe thead th {\n",
              "        text-align: right;\n",
              "    }\n",
              "</style>\n",
              "<table border=\"1\" class=\"dataframe\">\n",
              "  <thead>\n",
              "    <tr style=\"text-align: right;\">\n",
              "      <th></th>\n",
              "      <th>Teams</th>\n",
              "      <th>Goals</th>\n",
              "      <th>Blocks</th>\n",
              "      <th>Possession</th>\n",
              "      <th>Passes</th>\n",
              "      <th>Passing Accuracy</th>\n",
              "      <th>Corners</th>\n",
              "    </tr>\n",
              "  </thead>\n",
              "  <tbody>\n",
              "    <tr>\n",
              "      <th>0</th>\n",
              "      <td>Atalanta</td>\n",
              "      <td>2.0</td>\n",
              "      <td>3.0</td>\n",
              "      <td>42.0</td>\n",
              "      <td>421.0</td>\n",
              "      <td>80.0</td>\n",
              "      <td>5.0</td>\n",
              "    </tr>\n",
              "    <tr>\n",
              "      <th>1</th>\n",
              "      <td>Barca</td>\n",
              "      <td>2.0</td>\n",
              "      <td>4.0</td>\n",
              "      <td>59.0</td>\n",
              "      <td>622.0</td>\n",
              "      <td>91.0</td>\n",
              "      <td>7.0</td>\n",
              "    </tr>\n",
              "    <tr>\n",
              "      <th>2</th>\n",
              "      <td>Paris</td>\n",
              "      <td>1.0</td>\n",
              "      <td>3.0</td>\n",
              "      <td>51.0</td>\n",
              "      <td>556.0</td>\n",
              "      <td>88.0</td>\n",
              "      <td>6.0</td>\n",
              "    </tr>\n",
              "    <tr>\n",
              "      <th>3</th>\n",
              "      <td>Juventus</td>\n",
              "      <td>2.0</td>\n",
              "      <td>3.0</td>\n",
              "      <td>46.0</td>\n",
              "      <td>449.0</td>\n",
              "      <td>83.0</td>\n",
              "      <td>6.0</td>\n",
              "    </tr>\n",
              "  </tbody>\n",
              "</table>\n",
              "</div>"
            ],
            "text/plain": [
              "      Teams  Goals  Blocks  Possession  Passes  Passing Accuracy  Corners\n",
              "0  Atalanta    2.0     3.0        42.0   421.0              80.0      5.0\n",
              "1     Barca    2.0     4.0        59.0   622.0              91.0      7.0\n",
              "2     Paris    1.0     3.0        51.0   556.0              88.0      6.0\n",
              "3  Juventus    2.0     3.0        46.0   449.0              83.0      6.0"
            ]
          },
          "metadata": {
            "tags": []
          },
          "execution_count": 52
        }
      ]
    },
    {
      "cell_type": "code",
      "metadata": {
        "id": "0a3rjTDtNUUd",
        "colab_type": "code",
        "colab": {}
      },
      "source": [
        "matches_auto_df.to_csv(\"2matches_final.csv\",index=False)\n",
        "players_auto_df.to_csv(\"2players_final.csv\",index=False)"
      ],
      "execution_count": 0,
      "outputs": []
    },
    {
      "cell_type": "markdown",
      "metadata": {
        "id": "JYRf609d5O8O",
        "colab_type": "text"
      },
      "source": [
        "# Denorm Validation Original"
      ]
    },
    {
      "cell_type": "code",
      "metadata": {
        "id": "S6Y5Y-sbCYKo",
        "colab_type": "code",
        "colab": {}
      },
      "source": [
        "blocks_home = []\n",
        "blocks_away = []\n",
        "poss = []\n",
        "pass_home = []\n",
        "pass_away = []\n",
        "pass_acc_home = []\n",
        "pass_acc_away = []\n",
        "corners_home = []\n",
        "corners_away = []\n",
        "#\"Possession\",\"Passes Home\",\"Passes Away\", \"Passing Accuracy Home\", \"Passing Accuracy Away\",\"Corners Home\", \"Corners Away\"\n",
        "for val in pred:\n",
        "  val = np.reshape(val,(1,val.shape[0]))\n",
        "  denorm_match,denorm_player = return_denormed(val,player_csv,team_csv)\n",
        "  blocks_home.append(denorm_match[0][0])\n",
        "  blocks_away.append(denorm_match[0][1])\n",
        "  poss.append(denorm_match[0][2])\n",
        "  pass_home.append(denorm_match[0][3])\n",
        "  pass_away.append(denorm_match[0][4])\n",
        "  pass_acc_home.append(denorm_match[0][5])\n",
        "  pass_acc_away.append(denorm_match[0][6])\n",
        "  corners_home.append(denorm_match[0][7])\n",
        "  corners_away.append(denorm_match[0][8])"
      ],
      "execution_count": 0,
      "outputs": []
    },
    {
      "cell_type": "code",
      "metadata": {
        "id": "gncsPQ6HCYH7",
        "colab_type": "code",
        "colab": {}
      },
      "source": [
        "val_matches_df = pd.DataFrame(columns = [\"Blocks Home\", \"Blocks Away\", \"Possession\",\n",
        "                                         \"Passes Home\",\"Passes Away\", \"Passing Accuracy Home\",\n",
        "                                         \"Passing Accuracy Away\",\"Corners Home\", \"Corners Away\"])\n",
        "val_matches_df[\"Blocks Home\"] = blocks_home\n",
        "val_matches_df[\"Blocks Away\"] = blocks_away\n",
        "val_matches_df[\"Possession\"] = poss\n",
        "val_matches_df[\"Passes Home\"] = pass_home\n",
        "val_matches_df[\"Passes Away\"] = pass_away\n",
        "val_matches_df[\"Passing Accuracy Home\"] = pass_acc_home\n",
        "val_matches_df[\"Passing Accuracy Away\"] = pass_acc_away\n",
        "val_matches_df[\"Corners Home\"] = corners_home\n",
        "val_matches_df[\"Corners Away\"] = corners_away"
      ],
      "execution_count": 0,
      "outputs": []
    },
    {
      "cell_type": "code",
      "metadata": {
        "id": "mAnT02FRCYFY",
        "colab_type": "code",
        "outputId": "52487f6e-df2e-4a61-aa1f-ee5560ab8e4e",
        "colab": {
          "base_uri": "https://localhost:8080/",
          "height": 204
        }
      },
      "source": [
        "val_matches_df.head()"
      ],
      "execution_count": 0,
      "outputs": [
        {
          "output_type": "execute_result",
          "data": {
            "text/html": [
              "<div>\n",
              "<style scoped>\n",
              "    .dataframe tbody tr th:only-of-type {\n",
              "        vertical-align: middle;\n",
              "    }\n",
              "\n",
              "    .dataframe tbody tr th {\n",
              "        vertical-align: top;\n",
              "    }\n",
              "\n",
              "    .dataframe thead th {\n",
              "        text-align: right;\n",
              "    }\n",
              "</style>\n",
              "<table border=\"1\" class=\"dataframe\">\n",
              "  <thead>\n",
              "    <tr style=\"text-align: right;\">\n",
              "      <th></th>\n",
              "      <th>Blocks Home</th>\n",
              "      <th>Blocks Away</th>\n",
              "      <th>Possession</th>\n",
              "      <th>Passes Home</th>\n",
              "      <th>Passes Away</th>\n",
              "      <th>Passing Accuracy Home</th>\n",
              "      <th>Passing Accuracy Away</th>\n",
              "      <th>Corners Home</th>\n",
              "      <th>Corners Away</th>\n",
              "    </tr>\n",
              "  </thead>\n",
              "  <tbody>\n",
              "    <tr>\n",
              "      <th>0</th>\n",
              "      <td>2.758388</td>\n",
              "      <td>3.401162</td>\n",
              "      <td>49.243153</td>\n",
              "      <td>476.520599</td>\n",
              "      <td>498.531264</td>\n",
              "      <td>83.328362</td>\n",
              "      <td>83.597319</td>\n",
              "      <td>4.733133</td>\n",
              "      <td>4.778216</td>\n",
              "    </tr>\n",
              "    <tr>\n",
              "      <th>1</th>\n",
              "      <td>3.012884</td>\n",
              "      <td>3.312162</td>\n",
              "      <td>49.465730</td>\n",
              "      <td>474.242857</td>\n",
              "      <td>525.806655</td>\n",
              "      <td>83.479425</td>\n",
              "      <td>84.512349</td>\n",
              "      <td>4.807790</td>\n",
              "      <td>4.782295</td>\n",
              "    </tr>\n",
              "    <tr>\n",
              "      <th>2</th>\n",
              "      <td>2.847533</td>\n",
              "      <td>3.766728</td>\n",
              "      <td>49.704665</td>\n",
              "      <td>532.963924</td>\n",
              "      <td>457.313121</td>\n",
              "      <td>84.941652</td>\n",
              "      <td>82.969168</td>\n",
              "      <td>5.752123</td>\n",
              "      <td>5.863378</td>\n",
              "    </tr>\n",
              "    <tr>\n",
              "      <th>3</th>\n",
              "      <td>3.038331</td>\n",
              "      <td>3.315956</td>\n",
              "      <td>49.850042</td>\n",
              "      <td>475.347425</td>\n",
              "      <td>532.872027</td>\n",
              "      <td>83.688719</td>\n",
              "      <td>84.762113</td>\n",
              "      <td>4.856563</td>\n",
              "      <td>4.820636</td>\n",
              "    </tr>\n",
              "    <tr>\n",
              "      <th>4</th>\n",
              "      <td>2.880126</td>\n",
              "      <td>3.391312</td>\n",
              "      <td>49.619422</td>\n",
              "      <td>478.835155</td>\n",
              "      <td>514.401774</td>\n",
              "      <td>83.651205</td>\n",
              "      <td>84.085025</td>\n",
              "      <td>4.887405</td>\n",
              "      <td>4.859749</td>\n",
              "    </tr>\n",
              "  </tbody>\n",
              "</table>\n",
              "</div>"
            ],
            "text/plain": [
              "   Blocks Home  Blocks Away  ...  Corners Home  Corners Away\n",
              "0     2.758388     3.401162  ...      4.733133      4.778216\n",
              "1     3.012884     3.312162  ...      4.807790      4.782295\n",
              "2     2.847533     3.766728  ...      5.752123      5.863378\n",
              "3     3.038331     3.315956  ...      4.856563      4.820636\n",
              "4     2.880126     3.391312  ...      4.887405      4.859749\n",
              "\n",
              "[5 rows x 9 columns]"
            ]
          },
          "metadata": {
            "tags": []
          },
          "execution_count": 129
        }
      ]
    },
    {
      "cell_type": "code",
      "metadata": {
        "id": "4dsC-YjLSLG2",
        "colab_type": "code",
        "outputId": "3f9c0efb-26d3-4e67-c758-d6792106dcba",
        "colab": {
          "base_uri": "https://localhost:8080/",
          "height": 204
        }
      },
      "source": [
        "blocks_home = []\n",
        "blocks_away = []\n",
        "poss = []\n",
        "pass_home = []\n",
        "pass_away = []\n",
        "pass_acc_home = []\n",
        "pass_acc_away = []\n",
        "corners_home = []\n",
        "corners_away = []\n",
        "#\"Possession\",\"Passes Home\",\"Passes Away\", \"Passing Accuracy Home\", \"Passing Accuracy Away\",\"Corners Home\", \"Corners Away\"\n",
        "for val in Y_val:\n",
        "  val = np.reshape(val,(1,val.shape[0]))\n",
        "  denorm_match,denorm_player = return_denormed(val,player_csv,team_csv)\n",
        "  blocks_home.append(denorm_match[0][0])\n",
        "  blocks_away.append(denorm_match[0][1])\n",
        "  poss.append(denorm_match[0][2])\n",
        "  pass_home.append(denorm_match[0][3])\n",
        "  pass_away.append(denorm_match[0][4])\n",
        "  pass_acc_home.append(denorm_match[0][5])\n",
        "  pass_acc_away.append(denorm_match[0][6])\n",
        "  corners_home.append(denorm_match[0][7])\n",
        "  corners_away.append(denorm_match[0][8])\n",
        "\n",
        "val_matches_df = pd.DataFrame(columns = [\"Blocks Home\", \"Blocks Away\", \"Possession\",\n",
        "                                         \"Passes Home\",\"Passes Away\", \"Passing Accuracy Home\",\n",
        "                                         \"Passing Accuracy Away\",\"Corners Home\", \"Corners Away\"])\n",
        "val_matches_df[\"Blocks Home\"] = blocks_home\n",
        "val_matches_df[\"Blocks Away\"] = blocks_away\n",
        "val_matches_df[\"Possession\"] = poss\n",
        "val_matches_df[\"Passes Home\"] = pass_home\n",
        "val_matches_df[\"Passes Away\"] = pass_away\n",
        "val_matches_df[\"Passing Accuracy Home\"] = pass_acc_home\n",
        "val_matches_df[\"Passing Accuracy Away\"] = pass_acc_away\n",
        "val_matches_df[\"Corners Home\"] = corners_home\n",
        "val_matches_df[\"Corners Away\"] = corners_away\n",
        "\n",
        "val_matches_df.head()"
      ],
      "execution_count": 0,
      "outputs": [
        {
          "output_type": "execute_result",
          "data": {
            "text/html": [
              "<div>\n",
              "<style scoped>\n",
              "    .dataframe tbody tr th:only-of-type {\n",
              "        vertical-align: middle;\n",
              "    }\n",
              "\n",
              "    .dataframe tbody tr th {\n",
              "        vertical-align: top;\n",
              "    }\n",
              "\n",
              "    .dataframe thead th {\n",
              "        text-align: right;\n",
              "    }\n",
              "</style>\n",
              "<table border=\"1\" class=\"dataframe\">\n",
              "  <thead>\n",
              "    <tr style=\"text-align: right;\">\n",
              "      <th></th>\n",
              "      <th>Blocks Home</th>\n",
              "      <th>Blocks Away</th>\n",
              "      <th>Possession</th>\n",
              "      <th>Passes Home</th>\n",
              "      <th>Passes Away</th>\n",
              "      <th>Passing Accuracy Home</th>\n",
              "      <th>Passing Accuracy Away</th>\n",
              "      <th>Corners Home</th>\n",
              "      <th>Corners Away</th>\n",
              "    </tr>\n",
              "  </thead>\n",
              "  <tbody>\n",
              "    <tr>\n",
              "      <th>0</th>\n",
              "      <td>2.0</td>\n",
              "      <td>1.0</td>\n",
              "      <td>54.0</td>\n",
              "      <td>430.0</td>\n",
              "      <td>818.0</td>\n",
              "      <td>85.000000</td>\n",
              "      <td>91.000000</td>\n",
              "      <td>2.0</td>\n",
              "      <td>2.0</td>\n",
              "    </tr>\n",
              "    <tr>\n",
              "      <th>1</th>\n",
              "      <td>5.0</td>\n",
              "      <td>2.0</td>\n",
              "      <td>47.0</td>\n",
              "      <td>665.0</td>\n",
              "      <td>287.0</td>\n",
              "      <td>88.872180</td>\n",
              "      <td>76.306620</td>\n",
              "      <td>5.0</td>\n",
              "      <td>5.0</td>\n",
              "    </tr>\n",
              "    <tr>\n",
              "      <th>2</th>\n",
              "      <td>3.0</td>\n",
              "      <td>3.0</td>\n",
              "      <td>61.0</td>\n",
              "      <td>809.0</td>\n",
              "      <td>415.0</td>\n",
              "      <td>92.336218</td>\n",
              "      <td>88.192771</td>\n",
              "      <td>8.0</td>\n",
              "      <td>8.0</td>\n",
              "    </tr>\n",
              "    <tr>\n",
              "      <th>3</th>\n",
              "      <td>3.0</td>\n",
              "      <td>0.0</td>\n",
              "      <td>68.0</td>\n",
              "      <td>416.0</td>\n",
              "      <td>730.0</td>\n",
              "      <td>82.000000</td>\n",
              "      <td>88.000000</td>\n",
              "      <td>3.0</td>\n",
              "      <td>5.0</td>\n",
              "    </tr>\n",
              "    <tr>\n",
              "      <th>4</th>\n",
              "      <td>3.0</td>\n",
              "      <td>0.0</td>\n",
              "      <td>36.0</td>\n",
              "      <td>423.0</td>\n",
              "      <td>577.0</td>\n",
              "      <td>84.397163</td>\n",
              "      <td>89.948007</td>\n",
              "      <td>5.0</td>\n",
              "      <td>5.0</td>\n",
              "    </tr>\n",
              "  </tbody>\n",
              "</table>\n",
              "</div>"
            ],
            "text/plain": [
              "   Blocks Home  Blocks Away  ...  Corners Home  Corners Away\n",
              "0          2.0          1.0  ...           2.0           2.0\n",
              "1          5.0          2.0  ...           5.0           5.0\n",
              "2          3.0          3.0  ...           8.0           8.0\n",
              "3          3.0          0.0  ...           3.0           5.0\n",
              "4          3.0          0.0  ...           5.0           5.0\n",
              "\n",
              "[5 rows x 9 columns]"
            ]
          },
          "metadata": {
            "tags": []
          },
          "execution_count": 58
        }
      ]
    },
    {
      "cell_type": "code",
      "metadata": {
        "id": "MIr6bRxNC-Yh",
        "colab_type": "code",
        "colab": {}
      },
      "source": [
        "val_matches_df.to_csv(\"val_matches.csv\",index=False)"
      ],
      "execution_count": 0,
      "outputs": []
    },
    {
      "cell_type": "markdown",
      "metadata": {
        "id": "b41hfAzJYIuf",
        "colab_type": "text"
      },
      "source": [
        "# Denorm Function for original"
      ]
    },
    {
      "cell_type": "code",
      "metadata": {
        "id": "9OGEJPbGknIk",
        "colab_type": "code",
        "colab": {}
      },
      "source": [
        "def return_denormed(arr, pl_csv, match_csv):\n",
        "\n",
        "    Block_max = match_csv[\"Blocks\"].max()\n",
        "    Block_min = match_csv[\"Blocks\"].min()\n",
        "    Possession_max = match_csv[\"Possession\"].max()\n",
        "    Possession_min = match_csv[\"Possession\"].min()\n",
        "    Passes_max = match_csv[\"Passes\"].max()\n",
        "    Passes_min = match_csv[\"Passes\"].min()\n",
        "    passing_acc_max = match_csv[\"Passing Accuracy\"].max()\n",
        "    passing_acc_min = match_csv[\"Passing Accuracy\"].min()\n",
        "    corners_max = match_csv[\"Corners\"].max()\n",
        "    corners_min = match_csv[\"Corners\"].min()\n",
        "\n",
        "    goals_max = pl_csv[\"Goals scored\"].max()\n",
        "    goals_min = pl_csv[\"Goals scored\"].min()\n",
        "    assists_max = pl_csv[\"Assists\"].max()\n",
        "    assists_min = pl_csv[\"Assists\"].min()\n",
        "    fouls_max = pl_csv[\"Fouls committed\"].max()\n",
        "    fouls_min = pl_csv[\"Fouls committed\"].min()\n",
        "    total_shots_max = pl_csv[\"Total shots\"].max()\n",
        "    total_shots_min = pl_csv[\"Total shots\"].min()\n",
        "    shots_target_max = pl_csv[\"Shots on Target\"].max()\n",
        "    shots_target_min = pl_csv[\"Shots on Target\"].min()\n",
        "    interceptions_max = pl_csv[\"Interceptions\"].max()\n",
        "    interceptions_min = pl_csv[\"Interceptions\"].min()\n",
        "    crosses_max = pl_csv[\"Crosses\"].max()\n",
        "    crosses_min = pl_csv[\"Crosses\"].min()\n",
        "    time_played_max = pl_csv[\"Time Played\"].max()\n",
        "    time_played_min = pl_csv[\"Time Played\"].min()\n",
        "\n",
        "    y_unnormalized = []\n",
        "    y_unnormalized_individual = []\n",
        "    for e,i in enumerate(arr):\n",
        "        temp = []\n",
        "        temp.append(denorm(arr[e][0], Block_max, Block_min))\n",
        "        temp.append(denorm(arr[e][1], Block_max, Block_min))\n",
        "        temp.append(denorm(arr[e][2], Possession_max, Possession_min))\n",
        "        temp.append(denorm(arr[e][3], Passes_max, Passes_min))\n",
        "        temp.append(denorm(arr[e][4], Passes_max, Passes_min))\n",
        "        temp.append(denorm(arr[e][5], passing_acc_max, passing_acc_min))\n",
        "        temp.append(denorm(arr[e][6], passing_acc_max, passing_acc_min))\n",
        "        temp.append(denorm(arr[e][7], corners_max, corners_min))\n",
        "        temp.append(denorm(arr[e][8], corners_max, corners_min))\n",
        "        y_unnormalized.append(temp)\n",
        "\n",
        "        temp_players = []\n",
        "        for m in range(36):\n",
        "            temp_players.append(denorm(arr[e][m+9], goals_max, goals_min))\n",
        "            temp_players.append(denorm(arr[e][m+10], assists_max, assists_min))\n",
        "            temp_players.append(denorm(arr[e][m+11], fouls_max, fouls_min))\n",
        "            temp_players.append(denorm(arr[e][m+12], total_shots_max, total_shots_min))\n",
        "            temp_players.append(denorm(arr[e][m+13], shots_target_max, shots_target_min))\n",
        "            temp_players.append(denorm(arr[e][m+14], interceptions_max, interceptions_min))\n",
        "            temp_players.append(denorm(arr[e][m+15], crosses_max, crosses_min))\n",
        "            temp_players.append(denorm(arr[e][m+16], int(time_played_max), int(time_played_min)))\n",
        "\n",
        "        y_unnormalized_individual.append(temp_players)\n",
        "    return y_unnormalized, y_unnormalized_individual"
      ],
      "execution_count": 0,
      "outputs": []
    },
    {
      "cell_type": "code",
      "metadata": {
        "id": "cCm9QoY5RFKL",
        "colab_type": "code",
        "colab": {}
      },
      "source": [
        "gt_norm, gt_pl_norm = return_denormed(Y,player_csv,team_csv)"
      ],
      "execution_count": 0,
      "outputs": []
    },
    {
      "cell_type": "markdown",
      "metadata": {
        "id": "LDdvgwXO6-7h",
        "colab_type": "text"
      },
      "source": [
        "# Denorm Original Test"
      ]
    },
    {
      "cell_type": "code",
      "metadata": {
        "id": "OwEZKUX6mJqb",
        "colab_type": "code",
        "colab": {}
      },
      "source": [
        "barca_norm, barca_norm_pl = return_denormed(pred_barca, player_csv, team_csv)\n",
        "bayern_norm, bayern_norm_pl = return_denormed(pred_bayern, player_csv, team_csv)\n",
        "city_norm, city_norm_pl = return_denormed(pred_city, player_csv, team_csv)\n",
        "juve_norm, juve_norm_pl = return_denormed(pred_juve, player_csv, team_csv)"
      ],
      "execution_count": 0,
      "outputs": []
    },
    {
      "cell_type": "code",
      "metadata": {
        "id": "Ic2YnbiQmLqK",
        "colab_type": "code",
        "colab": {}
      },
      "source": [
        "matches_df = pd.DataFrame(columns = [\"Game\", \"Blocks Home\", \"Blocks Away\", \"Possession\",\"Passes Home\",\"Passes Away\", \"Passing Accuracy Home\", \"Passing Accuracy Away\",\"Corners Home\", \"Corners Away\"])\n",
        "matches_df[\"Game\"] = [\"Barca vs Napoli\", \"Bayern vs Chelsea\",\"City vs Madrid\", \"Juventus vs Lyon\"]\n",
        "matches_df[\"Blocks Home\"] = [barca_norm[0][0], bayern_norm[0][0], city_norm[0][0], juve_norm[0][0]]\n",
        "matches_df[\"Blocks Away\"] = [barca_norm[0][1], bayern_norm[0][1], city_norm[0][1], juve_norm[0][1]]\n",
        "matches_df[\"Possession\"] = [barca_norm[0][2], bayern_norm[0][2], city_norm[0][2], juve_norm[0][2]]\n",
        "matches_df[\"Passes Home\"] = [barca_norm[0][3], bayern_norm[0][3], city_norm[0][3], juve_norm[0][3]]\n",
        "matches_df[\"Passes Away\"] = [barca_norm[0][4], bayern_norm[0][4], city_norm[0][4], juve_norm[0][4]]\n",
        "matches_df[\"Passing Accuracy Home\"] = [barca_norm[0][5], bayern_norm[0][5], city_norm[0][5], juve_norm[0][5]]\n",
        "matches_df[\"Passing Accuracy Away\"] = [barca_norm[0][6], bayern_norm[0][6], city_norm[0][6], juve_norm[0][6]]\n",
        "matches_df[\"Corners Home\"] = [barca_norm[0][7], bayern_norm[0][7], city_norm[0][7], juve_norm[0][7]]\n",
        "matches_df[\"Corners Away\"] = [barca_norm[0][8], bayern_norm[0][8], city_norm[0][8], juve_norm[0][8]]"
      ],
      "execution_count": 0,
      "outputs": []
    },
    {
      "cell_type": "code",
      "metadata": {
        "id": "d2bwbdGbnDTd",
        "colab_type": "code",
        "outputId": "d433aaf9-e9bd-4bf0-b5e5-65b90d3baec0",
        "colab": {
          "base_uri": "https://localhost:8080/",
          "height": 207
        }
      },
      "source": [
        "matches_df.head()"
      ],
      "execution_count": 0,
      "outputs": [
        {
          "output_type": "execute_result",
          "data": {
            "text/html": [
              "<div>\n",
              "<style scoped>\n",
              "    .dataframe tbody tr th:only-of-type {\n",
              "        vertical-align: middle;\n",
              "    }\n",
              "\n",
              "    .dataframe tbody tr th {\n",
              "        vertical-align: top;\n",
              "    }\n",
              "\n",
              "    .dataframe thead th {\n",
              "        text-align: right;\n",
              "    }\n",
              "</style>\n",
              "<table border=\"1\" class=\"dataframe\">\n",
              "  <thead>\n",
              "    <tr style=\"text-align: right;\">\n",
              "      <th></th>\n",
              "      <th>Game</th>\n",
              "      <th>Blocks Home</th>\n",
              "      <th>Blocks Away</th>\n",
              "      <th>Possession</th>\n",
              "      <th>Passes Home</th>\n",
              "      <th>Passes Away</th>\n",
              "      <th>Passing Accuracy Home</th>\n",
              "      <th>Passing Accuracy Away</th>\n",
              "      <th>Corners Home</th>\n",
              "      <th>Corners Away</th>\n",
              "    </tr>\n",
              "  </thead>\n",
              "  <tbody>\n",
              "    <tr>\n",
              "      <th>0</th>\n",
              "      <td>Barca vs Napoli</td>\n",
              "      <td>2.951298</td>\n",
              "      <td>3.534071</td>\n",
              "      <td>50.096381</td>\n",
              "      <td>503.828333</td>\n",
              "      <td>502.575487</td>\n",
              "      <td>84.425804</td>\n",
              "      <td>84.037761</td>\n",
              "      <td>5.300258</td>\n",
              "      <td>5.333009</td>\n",
              "    </tr>\n",
              "    <tr>\n",
              "      <th>1</th>\n",
              "      <td>Bayern vs Chelsea</td>\n",
              "      <td>2.804998</td>\n",
              "      <td>3.708394</td>\n",
              "      <td>50.094860</td>\n",
              "      <td>534.382352</td>\n",
              "      <td>464.935013</td>\n",
              "      <td>85.083207</td>\n",
              "      <td>83.236974</td>\n",
              "      <td>5.737007</td>\n",
              "      <td>5.819698</td>\n",
              "    </tr>\n",
              "    <tr>\n",
              "      <th>2</th>\n",
              "      <td>City vs Madrid</td>\n",
              "      <td>2.968196</td>\n",
              "      <td>3.444929</td>\n",
              "      <td>49.794409</td>\n",
              "      <td>491.347806</td>\n",
              "      <td>511.007929</td>\n",
              "      <td>84.030613</td>\n",
              "      <td>84.083719</td>\n",
              "      <td>5.120891</td>\n",
              "      <td>5.123733</td>\n",
              "    </tr>\n",
              "    <tr>\n",
              "      <th>3</th>\n",
              "      <td>Juventus vs Lyon</td>\n",
              "      <td>2.944528</td>\n",
              "      <td>3.417252</td>\n",
              "      <td>49.852615</td>\n",
              "      <td>490.925876</td>\n",
              "      <td>510.002323</td>\n",
              "      <td>84.003403</td>\n",
              "      <td>84.195359</td>\n",
              "      <td>5.057341</td>\n",
              "      <td>5.048476</td>\n",
              "    </tr>\n",
              "  </tbody>\n",
              "</table>\n",
              "</div>"
            ],
            "text/plain": [
              "                Game  Blocks Home  ...  Corners Home  Corners Away\n",
              "0    Barca vs Napoli     2.951298  ...      5.300258      5.333009\n",
              "1  Bayern vs Chelsea     2.804998  ...      5.737007      5.819698\n",
              "2     City vs Madrid     2.968196  ...      5.120891      5.123733\n",
              "3   Juventus vs Lyon     2.944528  ...      5.057341      5.048476\n",
              "\n",
              "[4 rows x 10 columns]"
            ]
          },
          "metadata": {
            "tags": []
          },
          "execution_count": 84
        }
      ]
    },
    {
      "cell_type": "code",
      "metadata": {
        "id": "wpsXDvwNp_a8",
        "colab_type": "code",
        "colab": {}
      },
      "source": [
        "matches_df.to_csv(\"Match_data.csv\",index=False)"
      ],
      "execution_count": 0,
      "outputs": []
    },
    {
      "cell_type": "code",
      "metadata": {
        "id": "d3AuyDpGnEy7",
        "colab_type": "code",
        "colab": {}
      },
      "source": [
        "players_df = pd.DataFrame(columns = [\"Player\", \"Team\", \"Goals\", \"Assists\",\"Fouls\",\"Total shots\", \"Shots on target\", \"Interceptions\",\"Crosses\", \"Time played\"])\n"
      ],
      "execution_count": 0,
      "outputs": []
    },
    {
      "cell_type": "code",
      "metadata": {
        "id": "gVkDiivNtGsy",
        "colab_type": "code",
        "colab": {}
      },
      "source": [
        "players = []\n",
        "for i in range(18):\n",
        "  players.append(\"Player {}\".format(i+1))\n",
        "players = players*8\n",
        "players_teams = ['Barca']*18+['Napoli']*18+['Bayern']*18+['Chelsea']*18+['City']*18+['Madrid']*18+['Juventus']*18+['Lyon']*18\n",
        "players_df[\"Player\"] = players\n",
        "players_df[\"Team\"] = players_teams"
      ],
      "execution_count": 0,
      "outputs": []
    },
    {
      "cell_type": "code",
      "metadata": {
        "id": "qItpGGFY-qIV",
        "colab_type": "code",
        "outputId": "9d961dd2-fc6c-4946-de1e-28471d07fae7",
        "colab": {
          "base_uri": "https://localhost:8080/",
          "height": 34
        }
      },
      "source": [
        "all_norm_pl = barca_norm_pl[0]+bayern_norm_pl[0]+city_norm_pl[0]+juve_norm_pl[0]\n",
        "len(all_norm_pl)"
      ],
      "execution_count": 0,
      "outputs": [
        {
          "output_type": "execute_result",
          "data": {
            "text/plain": [
              "1152"
            ]
          },
          "metadata": {
            "tags": []
          },
          "execution_count": 88
        }
      ]
    },
    {
      "cell_type": "code",
      "metadata": {
        "id": "GJvsNNO7UH0l",
        "colab_type": "code",
        "colab": {}
      },
      "source": [
        "gt_mat_norm,gt_pl_norm = return_denormed(np.reshape(Y_val[0],(1,Y_val[0].shape[0])),player_csv,team_csv)"
      ],
      "execution_count": 0,
      "outputs": []
    },
    {
      "cell_type": "code",
      "metadata": {
        "id": "zeYkhS7kFm7Q",
        "colab_type": "code",
        "outputId": "e1c6a176-eef4-4b8e-afbb-f6f171f396ec",
        "colab": {
          "base_uri": "https://localhost:8080/",
          "height": 34
        }
      },
      "source": [
        "Y_val[0].shape"
      ],
      "execution_count": 0,
      "outputs": [
        {
          "output_type": "execute_result",
          "data": {
            "text/plain": [
              "(297,)"
            ]
          },
          "metadata": {
            "tags": []
          },
          "execution_count": 63
        }
      ]
    },
    {
      "cell_type": "code",
      "metadata": {
        "id": "oXTWuetjGMcP",
        "colab_type": "code",
        "colab": {}
      },
      "source": [
        "gt_pl_norm = gt_pl_norm[0]"
      ],
      "execution_count": 0,
      "outputs": []
    },
    {
      "cell_type": "code",
      "metadata": {
        "id": "AnviJohL9eS-",
        "colab_type": "code",
        "outputId": "995a2c31-5dc5-47e0-b9e4-e350f740ff06",
        "colab": {
          "base_uri": "https://localhost:8080/",
          "height": 34
        }
      },
      "source": [
        "goals = []\n",
        "assists = []\n",
        "fouls = []\n",
        "total_shots = []\n",
        "shot_target = []\n",
        "inter = []\n",
        "crosses = []\n",
        "time = []\n",
        "for i in np.arange(0,len(gt_pl_norm),8):\n",
        "  goals.append(gt_pl_norm[i])\n",
        "  assists.append(gt_pl_norm[i+1])\n",
        "  fouls.append(gt_pl_norm[i+2])\n",
        "  total_shots.append(gt_pl_norm[i+3])\n",
        "  shot_target.append(gt_pl_norm[i+4])\n",
        "  inter.append(gt_pl_norm[i+5])\n",
        "  crosses.append(gt_pl_norm[i+6])\n",
        "  time.append(gt_pl_norm[i+7])\n",
        "\n",
        "print(len(goals),len(assists),len(fouls),len(total_shots),len(shot_target),len(inter),len(crosses),len(time))"
      ],
      "execution_count": 0,
      "outputs": [
        {
          "output_type": "stream",
          "text": [
            "36 36 36 36 36 36 36 36\n"
          ],
          "name": "stdout"
        }
      ]
    },
    {
      "cell_type": "code",
      "metadata": {
        "id": "7o_xwttQ-RYC",
        "colab_type": "code",
        "colab": {}
      },
      "source": [
        "players_df[\"Goals\"] = goals\n",
        "players_df[\"Assists\"] = assists\n",
        "players_df[\"Fouls\"] = fouls\n",
        "players_df[\"Total shots\"] = total_shots\n",
        "players_df[\"Shots on target\"] = shot_target\n",
        "players_df[\"Interceptions\"] = inter\n",
        "players_df[\"Crosses\"] = crosses\n",
        "players_df[\"Time played\"] = time"
      ],
      "execution_count": 0,
      "outputs": []
    },
    {
      "cell_type": "code",
      "metadata": {
        "id": "7afeunpXAq4i",
        "colab_type": "code",
        "outputId": "09c7b169-6049-4096-d481-1705e73423f4",
        "colab": {
          "base_uri": "https://localhost:8080/",
          "height": 204
        }
      },
      "source": [
        "players_df.head()"
      ],
      "execution_count": 0,
      "outputs": [
        {
          "output_type": "execute_result",
          "data": {
            "text/html": [
              "<div>\n",
              "<style scoped>\n",
              "    .dataframe tbody tr th:only-of-type {\n",
              "        vertical-align: middle;\n",
              "    }\n",
              "\n",
              "    .dataframe tbody tr th {\n",
              "        vertical-align: top;\n",
              "    }\n",
              "\n",
              "    .dataframe thead th {\n",
              "        text-align: right;\n",
              "    }\n",
              "</style>\n",
              "<table border=\"1\" class=\"dataframe\">\n",
              "  <thead>\n",
              "    <tr style=\"text-align: right;\">\n",
              "      <th></th>\n",
              "      <th>Player</th>\n",
              "      <th>Team</th>\n",
              "      <th>Goals</th>\n",
              "      <th>Assists</th>\n",
              "      <th>Fouls</th>\n",
              "      <th>Total shots</th>\n",
              "      <th>Shots on target</th>\n",
              "      <th>Interceptions</th>\n",
              "      <th>Crosses</th>\n",
              "      <th>Time played</th>\n",
              "    </tr>\n",
              "  </thead>\n",
              "  <tbody>\n",
              "    <tr>\n",
              "      <th>0</th>\n",
              "      <td>NaN</td>\n",
              "      <td>NaN</td>\n",
              "      <td>0.0</td>\n",
              "      <td>0.0</td>\n",
              "      <td>0.0</td>\n",
              "      <td>0.000000</td>\n",
              "      <td>0.000000</td>\n",
              "      <td>0.000000</td>\n",
              "      <td>0.000000</td>\n",
              "      <td>90.000000</td>\n",
              "    </tr>\n",
              "    <tr>\n",
              "      <th>1</th>\n",
              "      <td>NaN</td>\n",
              "      <td>NaN</td>\n",
              "      <td>0.0</td>\n",
              "      <td>0.0</td>\n",
              "      <td>0.0</td>\n",
              "      <td>0.000000</td>\n",
              "      <td>0.000000</td>\n",
              "      <td>0.000000</td>\n",
              "      <td>19.565217</td>\n",
              "      <td>0.000000</td>\n",
              "    </tr>\n",
              "    <tr>\n",
              "      <th>2</th>\n",
              "      <td>NaN</td>\n",
              "      <td>NaN</td>\n",
              "      <td>0.0</td>\n",
              "      <td>0.0</td>\n",
              "      <td>0.0</td>\n",
              "      <td>0.000000</td>\n",
              "      <td>0.000000</td>\n",
              "      <td>8.608696</td>\n",
              "      <td>0.000000</td>\n",
              "      <td>0.000000</td>\n",
              "    </tr>\n",
              "    <tr>\n",
              "      <th>3</th>\n",
              "      <td>NaN</td>\n",
              "      <td>NaN</td>\n",
              "      <td>0.0</td>\n",
              "      <td>0.0</td>\n",
              "      <td>0.0</td>\n",
              "      <td>0.000000</td>\n",
              "      <td>3.130435</td>\n",
              "      <td>0.000000</td>\n",
              "      <td>0.000000</td>\n",
              "      <td>16.428571</td>\n",
              "    </tr>\n",
              "    <tr>\n",
              "      <th>4</th>\n",
              "      <td>NaN</td>\n",
              "      <td>NaN</td>\n",
              "      <td>0.0</td>\n",
              "      <td>0.0</td>\n",
              "      <td>0.0</td>\n",
              "      <td>10.956522</td>\n",
              "      <td>0.000000</td>\n",
              "      <td>0.000000</td>\n",
              "      <td>3.571429</td>\n",
              "      <td>0.000000</td>\n",
              "    </tr>\n",
              "  </tbody>\n",
              "</table>\n",
              "</div>"
            ],
            "text/plain": [
              "  Player Team  Goals  ...  Interceptions    Crosses  Time played\n",
              "0    NaN  NaN    0.0  ...       0.000000   0.000000    90.000000\n",
              "1    NaN  NaN    0.0  ...       0.000000  19.565217     0.000000\n",
              "2    NaN  NaN    0.0  ...       8.608696   0.000000     0.000000\n",
              "3    NaN  NaN    0.0  ...       0.000000   0.000000    16.428571\n",
              "4    NaN  NaN    0.0  ...       0.000000   3.571429     0.000000\n",
              "\n",
              "[5 rows x 10 columns]"
            ]
          },
          "metadata": {
            "tags": []
          },
          "execution_count": 75
        }
      ]
    },
    {
      "cell_type": "code",
      "metadata": {
        "id": "TJKIKqfYAtCX",
        "colab_type": "code",
        "colab": {}
      },
      "source": [
        "players_df.to_csv(\"Player_data.csv\",index=False)"
      ],
      "execution_count": 0,
      "outputs": []
    },
    {
      "cell_type": "code",
      "metadata": {
        "id": "0KVmzHlYy2iO",
        "colab_type": "code",
        "outputId": "b63b94ce-d888-494d-9c15-531949059990",
        "colab": {
          "base_uri": "https://localhost:8080/",
          "height": 111
        }
      },
      "source": [
        "Goals_max = team_csv[\"Goals\"].max()\n",
        "Goals_min = team_csv[\"Goals\"].min()\n",
        "Block_max = team_csv[\"Blocks\"].max()\n",
        "Block_min = team_csv[\"Blocks\"].min()\n",
        "Possession_max = team_csv[\"Possession\"].max()\n",
        "Possession_min = team_csv[\"Possession\"].min()\n",
        "Passes_max = team_csv[\"Passes\"].max()\n",
        "Passes_min = team_csv[\"Passes\"].min()\n",
        "passing_acc_max = team_csv[\"Passing Accuracy\"].max()\n",
        "passing_acc_min = team_csv[\"Passing Accuracy\"].min()\n",
        "corners_max = team_csv[\"Corners\"].max()\n",
        "corners_min = team_csv[\"Corners\"].min()\n",
        "\n",
        "def auto_denorm(pred_arr):\n",
        "  goals = [denorm(pred_arr[0][0][0],Goals_max,Goals_min),denorm(pred_arr[0][62][0],Goals_max,Goals_min)]\n",
        "  blocks = [denorm(pred_arr[0][4][0],Block_max,Block_min),denorm(pred_arr[0][4+62][0],Block_max,Block_min)]\n",
        "  possession = [denorm(pred_arr[0][8][0],Possession_max,Possession_min),denorm(pred_arr[0][8+62][0],Possession_max,Possession_min)]\n",
        "  passes = [denorm(pred_arr[0][9][0],Passes_max,Passes_min),denorm(pred_arr[0][9+62][0],Passes_max,Passes_min)]\n",
        "  pass_acc = [denorm(pred_arr[0][10][0],passing_acc_max,passing_acc_min),denorm(pred_arr[0][10+62][0],passing_acc_max,passing_acc_min)]\n",
        "  corners = [denorm(pred_arr[0][6][0],corners_max,corners_min),denorm(pred_arr[0][6+62][0],corners_max,corners_min)]\n",
        "\n",
        "  return goals,blocks,possession,passes,pass_acc,corners\n",
        "\n",
        "goals,blocks,possession,passes,pass_acc,corners = auto_denorm(pred_bayern)\n",
        "matches_df = pd.DataFrame(columns = [\"Team\", \"Blocks\",\"Possession\",\"Passes\",\"Passing Accuracy\", \"Corners\"])\n",
        "matches_df[\"Team\"] = [\"Bayern\",\"Chelsea\"]\n",
        "matches_df[\"Goals\"] = goals\n",
        "matches_df[\"Blocks\"] = blocks\n",
        "matches_df[\"Possession\"] = possession\n",
        "matches_df[\"Passes\"] = passes\n",
        "matches_df[\"Passing Accuracy\"] = pass_acc\n",
        "matches_df[\"Corners\"] = corners\n",
        "\n",
        "matches_df.head()                     "
      ],
      "execution_count": 0,
      "outputs": [
        {
          "output_type": "execute_result",
          "data": {
            "text/html": [
              "<div>\n",
              "<style scoped>\n",
              "    .dataframe tbody tr th:only-of-type {\n",
              "        vertical-align: middle;\n",
              "    }\n",
              "\n",
              "    .dataframe tbody tr th {\n",
              "        vertical-align: top;\n",
              "    }\n",
              "\n",
              "    .dataframe thead th {\n",
              "        text-align: right;\n",
              "    }\n",
              "</style>\n",
              "<table border=\"1\" class=\"dataframe\">\n",
              "  <thead>\n",
              "    <tr style=\"text-align: right;\">\n",
              "      <th></th>\n",
              "      <th>Team</th>\n",
              "      <th>Blocks</th>\n",
              "      <th>Possession</th>\n",
              "      <th>Passes</th>\n",
              "      <th>Passing Accuracy</th>\n",
              "      <th>Corners</th>\n",
              "      <th>Goals</th>\n",
              "    </tr>\n",
              "  </thead>\n",
              "  <tbody>\n",
              "    <tr>\n",
              "      <th>0</th>\n",
              "      <td>Bayern</td>\n",
              "      <td>4.124680</td>\n",
              "      <td>59.332737</td>\n",
              "      <td>624.022132</td>\n",
              "      <td>88.450876</td>\n",
              "      <td>5.374558</td>\n",
              "      <td>2.291466</td>\n",
              "    </tr>\n",
              "    <tr>\n",
              "      <th>1</th>\n",
              "      <td>Chelsea</td>\n",
              "      <td>3.333216</td>\n",
              "      <td>42.832125</td>\n",
              "      <td>441.473769</td>\n",
              "      <td>85.905445</td>\n",
              "      <td>5.832948</td>\n",
              "      <td>0.999982</td>\n",
              "    </tr>\n",
              "  </tbody>\n",
              "</table>\n",
              "</div>"
            ],
            "text/plain": [
              "      Team    Blocks  Possession  ...  Passing Accuracy   Corners     Goals\n",
              "0   Bayern  4.124680   59.332737  ...         88.450876  5.374558  2.291466\n",
              "1  Chelsea  3.333216   42.832125  ...         85.905445  5.832948  0.999982\n",
              "\n",
              "[2 rows x 7 columns]"
            ]
          },
          "metadata": {
            "tags": []
          },
          "execution_count": 57
        }
      ]
    }
  ]
}