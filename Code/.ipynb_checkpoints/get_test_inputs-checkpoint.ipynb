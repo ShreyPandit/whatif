{
 "cells": [
  {
   "cell_type": "code",
   "execution_count": 2,
   "metadata": {},
   "outputs": [],
   "source": [
    "import numpy as np\n",
    "import pandas as pd\n",
    "import os\n",
    "import random"
   ]
  },
  {
   "cell_type": "code",
   "execution_count": 5,
   "metadata": {},
   "outputs": [],
   "source": [
    "import pickle\n",
    "with open('.././Data/last_embeddings/teams_last_embedding.p', 'rb') as fp:\n",
    "    last_embedding_teams = pickle.load(fp)\n",
    "    \n",
    "with open('.././Data/last_embeddings/players_last_embedding.p', 'rb') as fp:\n",
    "    last_embedding_players = pickle.load(fp)"
   ]
  },
  {
   "cell_type": "code",
   "execution_count": 6,
   "metadata": {},
   "outputs": [
    {
     "data": {
      "text/plain": [
       "dict_keys(['Juventus', 'Barcelona', 'Real Madrid', 'Bayern', 'Atlético', 'Monaco', 'Paris', 'Porto', 'Dortmund', 'Man. City', 'Leverkusen', 'Arsenal', 'Shakhtar Donetsk', 'Chelsea', 'Schalke', 'Basel', 'Benfica', 'Wolfsburg', 'PSV', 'Dynamo Kyiv', 'Zenit', 'Roma', 'Gent', 'Leicester', 'Sevilla', 'Napoli', 'Liverpool', 'Beşiktaş', 'Man. United', 'Tottenham', 'Ajax', 'Lyon', 'Atalanta', 'Valencia', 'Leipzig'])"
      ]
     },
     "execution_count": 6,
     "metadata": {},
     "output_type": "execute_result"
    }
   ],
   "source": [
    "last_embedding_teams.keys()"
   ]
  },
  {
   "cell_type": "code",
   "execution_count": 9,
   "metadata": {},
   "outputs": [],
   "source": [
    "def get_teamwise_list(team_name,home_flag):\n",
    "    teamwise_list = []\n",
    "    for elem in last_embedding_players[team_name]:\n",
    "        elem2 = np.append(elem[:-1],home_flag)\n",
    "        teamwise_list.append(elem2)\n",
    "    \n",
    "    return np.asarray(teamwise_list)"
   ]
  },
  {
   "cell_type": "code",
   "execution_count": 36,
   "metadata": {},
   "outputs": [],
   "source": [
    "def get_test_inputs(team1,team2,team1_form,team2_form):\n",
    "    \n",
    "    match = []\n",
    "    # First param of last: 1 for home, 0 for away\n",
    "    # Second param of last: Form\n",
    "    last1 = np.append(1,team1_form)\n",
    "    match.append(np.append(last_embedding_teams[team1][:-2],last1))\n",
    "    last2 = np.append(0,team2_form)\n",
    "    match.append(np.append(last_embedding_teams[team2][:-2],last2))\n",
    "\n",
    "    match_npy = np.asarray(match)\n",
    "    print(match_npy.shape)\n",
    "    output_filename_teams = str(team1) + '_' + str(team2) + '_teams.npy'\n",
    "    with open(output_filename_teams, 'wb') as f:\n",
    "        np.save(f, match_npy)\n",
    "        \n",
    "    match_1 = []\n",
    "    match_1.append(get_teamwise_list(team1,1))\n",
    "    match_1.append(get_teamwise_list(team2,0))\n",
    "\n",
    "    match_1_npy = np.asarray(match_1)\n",
    "    print(match_1_npy.shape)\n",
    "    output_filename_players = str(team1) + '_' + str(team2) + '_players.npy'\n",
    "    with open(output_filename_players, 'wb') as f:\n",
    "        np.save(f, match_1_npy)"
   ]
  },
  {
   "cell_type": "code",
   "execution_count": 37,
   "metadata": {},
   "outputs": [],
   "source": [
    "\n",
    "\n",
    "# 0th Index most recent \n",
    "# 1. Atalanta = [][WWWWW] = 15\n",
    "# 2. Leipzig = [][DWDWD] = 9\n",
    "# 3. Athletico = [][WDDWW] = 11\n",
    "# 4. Paris = [][WWWWL] = 12\n",
    "# 5. Juventus = [W][WLWWD] = 12\n",
    "# 6. Manchester City = [W][LWWWW] = 12\n",
    "# 7. Bayern = [W][WWWWW] = 15\n",
    "# 8. Barcelona = [W][WLDWW] = 10\n",
    "\n",
    "teams_dict = {1:'Atalanta',\n",
    "              2:'Leipzig',\n",
    "              3:'Atlético',\n",
    "              4:'Paris',\n",
    "              5:'Juventus',\n",
    "              6:'Man. City',\n",
    "              7:'Bayern',\n",
    "              8:'Barcelona',\n",
    "             }\n",
    "\n",
    "# For Quarter Finals first leg\n",
    "forms_dict = {1:0.8,\n",
    "              2:0.4,\n",
    "              3:0.6,\n",
    "              4:0.7,\n",
    "              5:0.7,\n",
    "              6:0.7,\n",
    "              7:1.0,\n",
    "              8:0.5,\n",
    "             }\n",
    "\n",
    "\n",
    "\n",
    "# 0th Index most recent \n",
    "# 1. Atalanta = [W][WWWWW] = 15\n",
    "# 2. Leipzig = [W][DWDWD] = 11\n",
    "# 3. Athletico = [L][WDDWW] = 8\n",
    "# 4. Paris = [L][WWWWL] = 12\n",
    "# 5. Juventus = [WW][WLWWD] = 12\n",
    "# 6. Manchester City = [LW][LWWWW] = 9\n",
    "# 7. Bayern = [DW][WWWWW] = 13\n",
    "# 8. Barcelona = [DW][WLDWW] = 8\n",
    "\n",
    "# # For Quarter Finals Second leg\n",
    "# forms_dict = {1:1.0,\n",
    "#               2:0.6,\n",
    "#               3:0.3,\n",
    "#               4:0.7,\n",
    "#               5:0.7,\n",
    "#               6:0.4,\n",
    "#               7:0.8,\n",
    "#               8:0.3,\n",
    "#              }\n",
    "\n",
    "\n",
    "\n",
    "\n",
    "\n"
   ]
  },
  {
   "cell_type": "code",
   "execution_count": 40,
   "metadata": {},
   "outputs": [
    {
     "name": "stdout",
     "output_type": "stream",
     "text": [
      "[[7, 1], [6, 4], [2, 8], [3, 5]]\n"
     ]
    }
   ],
   "source": [
    "numbers = [1,2,3,4,5,6,7,8]\n",
    "match_pairings = []\n",
    "for i in range(4):\n",
    "    num_1 = random.choice(numbers)\n",
    "    numbers.remove(num_1)\n",
    "    num_2 = random.choice(numbers)\n",
    "    numbers.remove(num_2)\n",
    "    match_pairings.append([num_1,num_2])\n",
    "print(match_pairings)"
   ]
  },
  {
   "cell_type": "code",
   "execution_count": 41,
   "metadata": {},
   "outputs": [
    {
     "name": "stdout",
     "output_type": "stream",
     "text": [
      "(2, 62)\n",
      "(2, 18, 10)\n",
      "(2, 62)\n",
      "(2, 18, 10)\n",
      "(2, 62)\n",
      "(2, 18, 10)\n",
      "(2, 62)\n",
      "(2, 18, 10)\n"
     ]
    }
   ],
   "source": [
    "for elem in match_pairings:\n",
    "#     print(forms_dict[elem[0]])\n",
    "#     print(forms_dict[elem[1]])\n",
    "#     print()\n",
    "    \n",
    "    get_test_inputs(teams_dict[elem[0]],\n",
    "                    teams_dict[elem[1]],\n",
    "                    forms_dict[elem[0]],\n",
    "                    forms_dict[elem[1]]\n",
    "                   )"
   ]
  },
  {
   "cell_type": "code",
   "execution_count": null,
   "metadata": {},
   "outputs": [],
   "source": [
    "# For semi finals"
   ]
  },
  {
   "cell_type": "code",
   "execution_count": 29,
   "metadata": {},
   "outputs": [
    {
     "name": "stdout",
     "output_type": "stream",
     "text": [
      "[[3, 1], [4, 2]]\n"
     ]
    }
   ],
   "source": [
    "numbers = [1,2,3,4]\n",
    "match_pairings = []\n",
    "for i in range(2):\n",
    "    num_1 = random.choice(numbers)\n",
    "    numbers.remove(num_1)\n",
    "    num_2 = random.choice(numbers)\n",
    "    numbers.remove(num_2)\n",
    "    match_pairings.append([num_1,num_2])\n",
    "print(match_pairings)"
   ]
  },
  {
   "cell_type": "code",
   "execution_count": 30,
   "metadata": {},
   "outputs": [],
   "source": [
    "\n",
    "# 0th Index most recent \n",
    "# 1. Atalanta = [WW][WWWWW] = 15\n",
    "# 2. Leipzig = [WW][DWDWD] = 11\n",
    "# 3. Juventus = [DWW][WLWWD] = 10\n",
    "# 4. Bayern = [WDW][WWWWW] = 13\n",
    "\n",
    "\n",
    "# For Semi Finals first leg\n",
    "forms_dict = {1:1.0,\n",
    "              2:0.6,\n",
    "              3:0.5,\n",
    "              4:0.8,\n",
    "             }"
   ]
  },
  {
   "cell_type": "code",
   "execution_count": 31,
   "metadata": {},
   "outputs": [],
   "source": [
    "teams_dict = {1:'Atalanta',\n",
    "              2:'Leipzig',\n",
    "              3:'Juventus',\n",
    "              4:'Bayern',\n",
    "             }"
   ]
  },
  {
   "cell_type": "code",
   "execution_count": 32,
   "metadata": {},
   "outputs": [
    {
     "name": "stdout",
     "output_type": "stream",
     "text": [
      "(2, 62)\n",
      "(2, 18, 10)\n",
      "(2, 62)\n",
      "(2, 18, 10)\n"
     ]
    }
   ],
   "source": [
    "for elem in match_pairings:\n",
    "#     print(forms_dict[elem[0]])\n",
    "#     print(forms_dict[elem[1]])\n",
    "#     print()\n",
    "    \n",
    "    get_test_inputs(teams_dict[elem[0]],\n",
    "                    teams_dict[elem[1]],\n",
    "                    forms_dict[elem[0]],\n",
    "                    forms_dict[elem[1]]\n",
    "                   )"
   ]
  },
  {
   "cell_type": "code",
   "execution_count": null,
   "metadata": {},
   "outputs": [],
   "source": []
  },
  {
   "cell_type": "code",
   "execution_count": null,
   "metadata": {},
   "outputs": [],
   "source": [
    "# For SF second leg"
   ]
  },
  {
   "cell_type": "code",
   "execution_count": 33,
   "metadata": {},
   "outputs": [],
   "source": [
    "\n",
    "# 0th Index most recent \n",
    "# 1. Atalanta = [WWW][WWWWW] = 15\n",
    "# 2. Leipzig = [LWW][DWDWD] = 10\n",
    "# 3. Juventus = [LDWW][WLWWD] = 10\n",
    "# 4. Bayern = [WWDW][WWWWW] = 13\n",
    "\n",
    "\n",
    "# For Semi Finals first leg\n",
    "forms_dict = {1:0.3,\n",
    "              2:0.5,\n",
    "              3:0.5,\n",
    "              4:0.8,\n",
    "             }"
   ]
  },
  {
   "cell_type": "code",
   "execution_count": 34,
   "metadata": {},
   "outputs": [
    {
     "name": "stdout",
     "output_type": "stream",
     "text": [
      "(2, 62)\n",
      "(2, 18, 10)\n",
      "(2, 62)\n",
      "(2, 18, 10)\n"
     ]
    }
   ],
   "source": [
    "for elem in match_pairings:\n",
    "#     print(forms_dict[elem[0]])\n",
    "#     print(forms_dict[elem[1]])\n",
    "#     print()\n",
    "    \n",
    "    get_test_inputs(teams_dict[elem[1]],\n",
    "                    teams_dict[elem[0]],\n",
    "                    forms_dict[elem[1]],\n",
    "                    forms_dict[elem[0]]\n",
    "                   )"
   ]
  },
  {
   "cell_type": "code",
   "execution_count": null,
   "metadata": {},
   "outputs": [],
   "source": []
  },
  {
   "cell_type": "code",
   "execution_count": null,
   "metadata": {},
   "outputs": [],
   "source": [
    "# For finals"
   ]
  },
  {
   "cell_type": "code",
   "execution_count": null,
   "metadata": {},
   "outputs": [],
   "source": [
    "\n",
    "# 0th Index most recent \n",
    "# 1. Atalanta = [WWW][WWWWW] = 15\n",
    "# 2. Leipzig = [LWW][DWDWD] = 10\n",
    "# 3. Juventus = [LDWW][WLWWD] = 10\n",
    "# 4. Bayern = [WWDW][WWWWW] = 13\n",
    "\n",
    "\n",
    "# For Finals \n",
    "forms_dict = {1:0.3,\n",
    "              2:0.5,\n",
    "              3:0.5,\n",
    "              4:0.8,\n",
    "             }\n",
    "\n",
    "teams_dict = {1:'Atalanta',\n",
    "              4:'Bayern',\n",
    "             }"
   ]
  },
  {
   "cell_type": "code",
   "execution_count": 35,
   "metadata": {},
   "outputs": [
    {
     "name": "stdout",
     "output_type": "stream",
     "text": [
      "(2, 62)\n",
      "(2, 18, 10)\n"
     ]
    }
   ],
   "source": [
    "team1 = 'Bayern'\n",
    "team2 = 'Atalanta'\n",
    "team1_form = 1.0\n",
    "team2_form = 0.0\n",
    "if True:\n",
    "    match = []\n",
    "    # First param of last: 1 for home, 0 for away\n",
    "    # Second param of last: Form\n",
    "    last1 = np.append(0,team1_form)\n",
    "    match.append(np.append(last_embedding_teams[team1][:-2],last1))\n",
    "    last2 = np.append(0,team2_form)\n",
    "    match.append(np.append(last_embedding_teams[team2][:-2],last2))\n",
    "\n",
    "    match_npy = np.asarray(match)\n",
    "    print(match_npy.shape)\n",
    "    output_filename_teams = str(team1) + '_' + str(team2) + '_teams.npy'\n",
    "    with open(output_filename_teams, 'wb') as f:\n",
    "        np.save(f, match_npy)\n",
    "        \n",
    "    match_1 = []\n",
    "    match_1.append(get_teamwise_list(team1,0))\n",
    "    match_1.append(get_teamwise_list(team2,0))\n",
    "\n",
    "    match_1_npy = np.asarray(match_1)\n",
    "    print(match_1_npy.shape)\n",
    "    output_filename_players = str(team1) + '_' + str(team2) + '_players.npy'\n",
    "    with open(output_filename_players, 'wb') as f:\n",
    "        np.save(f, match_1_npy)"
   ]
  },
  {
   "cell_type": "code",
   "execution_count": null,
   "metadata": {},
   "outputs": [],
   "source": []
  }
 ],
 "metadata": {
  "kernelspec": {
   "display_name": "Python 3",
   "language": "python",
   "name": "python3"
  },
  "language_info": {
   "codemirror_mode": {
    "name": "ipython",
    "version": 3
   },
   "file_extension": ".py",
   "mimetype": "text/x-python",
   "name": "python",
   "nbconvert_exporter": "python",
   "pygments_lexer": "ipython3",
   "version": "3.7.3"
  }
 },
 "nbformat": 4,
 "nbformat_minor": 4
}
